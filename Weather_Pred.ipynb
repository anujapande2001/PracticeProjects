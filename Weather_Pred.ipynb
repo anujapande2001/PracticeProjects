{
  "cells": [
    {
      "cell_type": "markdown",
      "metadata": {
        "id": "view-in-github",
        "colab_type": "text"
      },
      "source": [
        "<a href=\"https://colab.research.google.com/github/anujapande2001/MLProjects/blob/main/Weather_Pred.ipynb\" target=\"_parent\"><img src=\"https://colab.research.google.com/assets/colab-badge.svg\" alt=\"Open In Colab\"/></a>"
      ]
    },
    {
      "cell_type": "markdown",
      "metadata": {
        "id": "mbUUyyvXnlqa"
      },
      "source": [
        "# **SEATTLE WHEATHER PREDICTION**"
      ]
    },
    {
      "cell_type": "markdown",
      "metadata": {
        "id": "O-T2JEoL3CKD"
      },
      "source": [
        "# **1. Introduction**\n",
        "\n",
        "\n",
        "**Your client for this project is a top forecasting company.**\n",
        "\n",
        "* They specialize in providing tailored IT solutions for weather forecasting, the energy industry, and the trading market.\n",
        "* They have extensive experience in developing market-leading forecasting systems and high-speed processing solutions for weather data.\n",
        "* They are committed to the creation of accurate weather forecasts that clients can trust, going to extra effort to make their weather API easy to consume.\n",
        "\n",
        "\n",
        "**Current Scenario:**\n",
        "\n",
        "They have created purpose-built weather drones, allowing them to capture observations missed by traditional methods (such as satellites and weather balloons), and calculating forecasts on the fly to ensure a customer receives a forecast based on the latest observations.\n",
        "\n"
      ]
    },
    {
      "cell_type": "markdown",
      "metadata": {
        "id": "WWzmoQQbv5Ks"
      },
      "source": [
        "# **2. Problem Statement**\n",
        "\n",
        "The current process suffers from the following problems:\n",
        "\n",
        "* The forecasting process is based on making predictions using a large number of variables, and performing complex calculations on them.\n",
        "* This results in a massive load on the servers and also causes a slight delay in receiving the forecasts.\n",
        "\n",
        "\n"
      ]
    },
    {
      "cell_type": "markdown",
      "metadata": {
        "id": "ZSi_m9jinvW6"
      },
      "source": [
        "# **3. Import Libraries**"
      ]
    },
    {
      "cell_type": "code",
      "execution_count": 1,
      "metadata": {
        "id": "ep7ACXYQoYxW"
      },
      "outputs": [],
      "source": [
        "import numpy as np\n",
        "import pandas as pd\n",
        "# from pandas_profiling import ProfileReport \n",
        "import matplotlib.pyplot as plt\n",
        "%matplotlib inline\n",
        "import seaborn as sns\n",
        "# from sklearn.preprocessing import LabelEncoder, MinMaxScaler, StandardScaler,RobustScaler\n",
        "# # import sklearn.linear_model.LogisticRegression as LogisticRegression\n",
        "# from sklearn.linear_model import LogisticRegression\n",
        "# from sklearn.tree import DecisionTreeClassifier\n",
        "# from sklearn.ensemble import RandomForestClassifier\n",
        "# from sklearn.model_selection import train_test_split\n",
        "# from sklearn.metrics import accuracy_score,confusion_matrix,f1_score,roc_curve,auc,classification_report\n",
        "# from sklearn.impute import KNNImputer\n",
        "# from sklearn.model_selection import GridSearchCV, RandomizedSearchCV\n",
        "import warnings\n",
        "warnings.filterwarnings(action=\"ignore\")\n"
      ]
    },
    {
      "cell_type": "markdown",
      "metadata": {
        "id": "9wyH0OUkqx_K"
      },
      "source": [
        "# **4. Data Acquisition & Description**"
      ]
    },
    {
      "cell_type": "code",
      "execution_count": 2,
      "metadata": {
        "colab": {
          "base_uri": "https://localhost:8080/",
          "height": 363
        },
        "id": "TdzuCZajq2h3",
        "outputId": "0a8d2833-8892-4f5d-cdd7-c42423e6c826"
      },
      "outputs": [
        {
          "output_type": "execute_result",
          "data": {
            "text/plain": [
              "   Id        DATE  PRCP  TMAX  TMIN  RAIN\n",
              "0   0  1948-01-01  0.47    51    42  True\n",
              "1   1  1948-01-02  0.59    45    36  True\n",
              "2   2  1948-01-03  0.42    45    35  True\n",
              "3   3  1948-01-04  0.31    45    34  True\n",
              "4   4  1948-01-05  0.17    45    32  True\n",
              "5   5  1948-01-06  0.44    48    39  True\n",
              "6   6  1948-01-07  0.41    50    40  True\n",
              "7   7  1948-01-08  0.04    48    35  True\n",
              "8   8  1948-01-09  0.12    50    31  True\n",
              "9   9  1948-01-10  0.74    43    34  True"
            ],
            "text/html": [
              "\n",
              "  <div id=\"df-727f4980-59bd-48ee-bc40-68d09c1f8a1b\">\n",
              "    <div class=\"colab-df-container\">\n",
              "      <div>\n",
              "<style scoped>\n",
              "    .dataframe tbody tr th:only-of-type {\n",
              "        vertical-align: middle;\n",
              "    }\n",
              "\n",
              "    .dataframe tbody tr th {\n",
              "        vertical-align: top;\n",
              "    }\n",
              "\n",
              "    .dataframe thead th {\n",
              "        text-align: right;\n",
              "    }\n",
              "</style>\n",
              "<table border=\"1\" class=\"dataframe\">\n",
              "  <thead>\n",
              "    <tr style=\"text-align: right;\">\n",
              "      <th></th>\n",
              "      <th>Id</th>\n",
              "      <th>DATE</th>\n",
              "      <th>PRCP</th>\n",
              "      <th>TMAX</th>\n",
              "      <th>TMIN</th>\n",
              "      <th>RAIN</th>\n",
              "    </tr>\n",
              "  </thead>\n",
              "  <tbody>\n",
              "    <tr>\n",
              "      <th>0</th>\n",
              "      <td>0</td>\n",
              "      <td>1948-01-01</td>\n",
              "      <td>0.47</td>\n",
              "      <td>51</td>\n",
              "      <td>42</td>\n",
              "      <td>True</td>\n",
              "    </tr>\n",
              "    <tr>\n",
              "      <th>1</th>\n",
              "      <td>1</td>\n",
              "      <td>1948-01-02</td>\n",
              "      <td>0.59</td>\n",
              "      <td>45</td>\n",
              "      <td>36</td>\n",
              "      <td>True</td>\n",
              "    </tr>\n",
              "    <tr>\n",
              "      <th>2</th>\n",
              "      <td>2</td>\n",
              "      <td>1948-01-03</td>\n",
              "      <td>0.42</td>\n",
              "      <td>45</td>\n",
              "      <td>35</td>\n",
              "      <td>True</td>\n",
              "    </tr>\n",
              "    <tr>\n",
              "      <th>3</th>\n",
              "      <td>3</td>\n",
              "      <td>1948-01-04</td>\n",
              "      <td>0.31</td>\n",
              "      <td>45</td>\n",
              "      <td>34</td>\n",
              "      <td>True</td>\n",
              "    </tr>\n",
              "    <tr>\n",
              "      <th>4</th>\n",
              "      <td>4</td>\n",
              "      <td>1948-01-05</td>\n",
              "      <td>0.17</td>\n",
              "      <td>45</td>\n",
              "      <td>32</td>\n",
              "      <td>True</td>\n",
              "    </tr>\n",
              "    <tr>\n",
              "      <th>5</th>\n",
              "      <td>5</td>\n",
              "      <td>1948-01-06</td>\n",
              "      <td>0.44</td>\n",
              "      <td>48</td>\n",
              "      <td>39</td>\n",
              "      <td>True</td>\n",
              "    </tr>\n",
              "    <tr>\n",
              "      <th>6</th>\n",
              "      <td>6</td>\n",
              "      <td>1948-01-07</td>\n",
              "      <td>0.41</td>\n",
              "      <td>50</td>\n",
              "      <td>40</td>\n",
              "      <td>True</td>\n",
              "    </tr>\n",
              "    <tr>\n",
              "      <th>7</th>\n",
              "      <td>7</td>\n",
              "      <td>1948-01-08</td>\n",
              "      <td>0.04</td>\n",
              "      <td>48</td>\n",
              "      <td>35</td>\n",
              "      <td>True</td>\n",
              "    </tr>\n",
              "    <tr>\n",
              "      <th>8</th>\n",
              "      <td>8</td>\n",
              "      <td>1948-01-09</td>\n",
              "      <td>0.12</td>\n",
              "      <td>50</td>\n",
              "      <td>31</td>\n",
              "      <td>True</td>\n",
              "    </tr>\n",
              "    <tr>\n",
              "      <th>9</th>\n",
              "      <td>9</td>\n",
              "      <td>1948-01-10</td>\n",
              "      <td>0.74</td>\n",
              "      <td>43</td>\n",
              "      <td>34</td>\n",
              "      <td>True</td>\n",
              "    </tr>\n",
              "  </tbody>\n",
              "</table>\n",
              "</div>\n",
              "      <button class=\"colab-df-convert\" onclick=\"convertToInteractive('df-727f4980-59bd-48ee-bc40-68d09c1f8a1b')\"\n",
              "              title=\"Convert this dataframe to an interactive table.\"\n",
              "              style=\"display:none;\">\n",
              "        \n",
              "  <svg xmlns=\"http://www.w3.org/2000/svg\" height=\"24px\"viewBox=\"0 0 24 24\"\n",
              "       width=\"24px\">\n",
              "    <path d=\"M0 0h24v24H0V0z\" fill=\"none\"/>\n",
              "    <path d=\"M18.56 5.44l.94 2.06.94-2.06 2.06-.94-2.06-.94-.94-2.06-.94 2.06-2.06.94zm-11 1L8.5 8.5l.94-2.06 2.06-.94-2.06-.94L8.5 2.5l-.94 2.06-2.06.94zm10 10l.94 2.06.94-2.06 2.06-.94-2.06-.94-.94-2.06-.94 2.06-2.06.94z\"/><path d=\"M17.41 7.96l-1.37-1.37c-.4-.4-.92-.59-1.43-.59-.52 0-1.04.2-1.43.59L10.3 9.45l-7.72 7.72c-.78.78-.78 2.05 0 2.83L4 21.41c.39.39.9.59 1.41.59.51 0 1.02-.2 1.41-.59l7.78-7.78 2.81-2.81c.8-.78.8-2.07 0-2.86zM5.41 20L4 18.59l7.72-7.72 1.47 1.35L5.41 20z\"/>\n",
              "  </svg>\n",
              "      </button>\n",
              "      \n",
              "  <style>\n",
              "    .colab-df-container {\n",
              "      display:flex;\n",
              "      flex-wrap:wrap;\n",
              "      gap: 12px;\n",
              "    }\n",
              "\n",
              "    .colab-df-convert {\n",
              "      background-color: #E8F0FE;\n",
              "      border: none;\n",
              "      border-radius: 50%;\n",
              "      cursor: pointer;\n",
              "      display: none;\n",
              "      fill: #1967D2;\n",
              "      height: 32px;\n",
              "      padding: 0 0 0 0;\n",
              "      width: 32px;\n",
              "    }\n",
              "\n",
              "    .colab-df-convert:hover {\n",
              "      background-color: #E2EBFA;\n",
              "      box-shadow: 0px 1px 2px rgba(60, 64, 67, 0.3), 0px 1px 3px 1px rgba(60, 64, 67, 0.15);\n",
              "      fill: #174EA6;\n",
              "    }\n",
              "\n",
              "    [theme=dark] .colab-df-convert {\n",
              "      background-color: #3B4455;\n",
              "      fill: #D2E3FC;\n",
              "    }\n",
              "\n",
              "    [theme=dark] .colab-df-convert:hover {\n",
              "      background-color: #434B5C;\n",
              "      box-shadow: 0px 1px 3px 1px rgba(0, 0, 0, 0.15);\n",
              "      filter: drop-shadow(0px 1px 2px rgba(0, 0, 0, 0.3));\n",
              "      fill: #FFFFFF;\n",
              "    }\n",
              "  </style>\n",
              "\n",
              "      <script>\n",
              "        const buttonEl =\n",
              "          document.querySelector('#df-727f4980-59bd-48ee-bc40-68d09c1f8a1b button.colab-df-convert');\n",
              "        buttonEl.style.display =\n",
              "          google.colab.kernel.accessAllowed ? 'block' : 'none';\n",
              "\n",
              "        async function convertToInteractive(key) {\n",
              "          const element = document.querySelector('#df-727f4980-59bd-48ee-bc40-68d09c1f8a1b');\n",
              "          const dataTable =\n",
              "            await google.colab.kernel.invokeFunction('convertToInteractive',\n",
              "                                                     [key], {});\n",
              "          if (!dataTable) return;\n",
              "\n",
              "          const docLinkHtml = 'Like what you see? Visit the ' +\n",
              "            '<a target=\"_blank\" href=https://colab.research.google.com/notebooks/data_table.ipynb>data table notebook</a>'\n",
              "            + ' to learn more about interactive tables.';\n",
              "          element.innerHTML = '';\n",
              "          dataTable['output_type'] = 'display_data';\n",
              "          await google.colab.output.renderOutput(dataTable, element);\n",
              "          const docLink = document.createElement('div');\n",
              "          docLink.innerHTML = docLinkHtml;\n",
              "          element.appendChild(docLink);\n",
              "        }\n",
              "      </script>\n",
              "    </div>\n",
              "  </div>\n",
              "  "
            ]
          },
          "metadata": {},
          "execution_count": 2
        }
      ],
      "source": [
        "data=pd.read_csv(\"/content/drive/MyDrive/Colab Notebooks/Dataset/seattle_train.csv\")\n",
        "dataValidation=pd.read_csv(\"/content/drive/MyDrive/Colab Notebooks/Dataset/seattle_test.csv\")\n",
        "dataValidationId=dataValidation.Id\n",
        "\n",
        "data.head(10)\n"
      ]
    },
    {
      "cell_type": "markdown",
      "metadata": {
        "id": "-P_YkAAs0Ts7"
      },
      "source": [
        "### **4.1 Data Information**\n",
        "\n",
        "- In this section we will see the **information about the types of the features**.\n",
        "\n",
        "\n"
      ]
    },
    {
      "cell_type": "code",
      "execution_count": 3,
      "metadata": {
        "colab": {
          "base_uri": "https://localhost:8080/"
        },
        "id": "pZX6dan9TsSm",
        "outputId": "30a36c03-33c9-42f2-a7bb-e44c80f1db95"
      },
      "outputs": [
        {
          "output_type": "stream",
          "name": "stdout",
          "text": [
            "<class 'pandas.core.frame.DataFrame'>\n",
            "RangeIndex: 20440 entries, 0 to 20439\n",
            "Data columns (total 6 columns):\n",
            " #   Column  Non-Null Count  Dtype  \n",
            "---  ------  --------------  -----  \n",
            " 0   Id      20440 non-null  int64  \n",
            " 1   DATE    20440 non-null  object \n",
            " 2   PRCP    20438 non-null  float64\n",
            " 3   TMAX    20440 non-null  int64  \n",
            " 4   TMIN    20440 non-null  int64  \n",
            " 5   RAIN    20438 non-null  object \n",
            "dtypes: float64(1), int64(3), object(2)\n",
            "memory usage: 958.2+ KB\n"
          ]
        }
      ],
      "source": [
        "data.info()"
      ]
    },
    {
      "cell_type": "code",
      "source": [
        "dataValidation.info()"
      ],
      "metadata": {
        "colab": {
          "base_uri": "https://localhost:8080/"
        },
        "id": "ehPgjwcH6iE6",
        "outputId": "9a7f3553-a28b-4083-99aa-4ef4d0df2613"
      },
      "execution_count": 4,
      "outputs": [
        {
          "output_type": "stream",
          "name": "stdout",
          "text": [
            "<class 'pandas.core.frame.DataFrame'>\n",
            "RangeIndex: 5110 entries, 0 to 5109\n",
            "Data columns (total 5 columns):\n",
            " #   Column  Non-Null Count  Dtype  \n",
            "---  ------  --------------  -----  \n",
            " 0   Id      5110 non-null   int64  \n",
            " 1   DATE    5110 non-null   object \n",
            " 2   PRCP    5110 non-null   float64\n",
            " 3   TMAX    5110 non-null   int64  \n",
            " 4   TMIN    5110 non-null   int64  \n",
            "dtypes: float64(1), int64(3), object(1)\n",
            "memory usage: 199.7+ KB\n"
          ]
        }
      ]
    },
    {
      "cell_type": "markdown",
      "metadata": {
        "id": "ffH6aWZFwxn6"
      },
      "source": [
        "### **4.2 Data Description**\n",
        "\n",
        "- In this section we will get **information about the data** and see some observations."
      ]
    },
    {
      "cell_type": "code",
      "execution_count": 5,
      "metadata": {
        "colab": {
          "base_uri": "https://localhost:8080/",
          "height": 300
        },
        "id": "Wx9bXdwJXlcH",
        "outputId": "c8f34743-0eb5-40a0-cfda-30a0c6509774"
      },
      "outputs": [
        {
          "output_type": "execute_result",
          "data": {
            "text/plain": [
              "                 Id          PRCP          TMAX          TMIN\n",
              "count  20440.000000  20438.000000  20440.000000  20440.000000\n",
              "mean   10219.500000      0.104860     59.301027     44.187965\n",
              "std     5900.664087      0.235564     12.700363      8.832697\n",
              "min        0.000000      0.000000      4.000000      0.000000\n",
              "25%     5109.750000      0.000000     50.000000     38.000000\n",
              "50%    10219.500000      0.000000     58.000000     44.000000\n",
              "75%    15329.250000      0.100000     69.000000     51.000000\n",
              "max    20439.000000      5.020000    100.000000     69.000000"
            ],
            "text/html": [
              "\n",
              "  <div id=\"df-bb212c9c-7633-4625-b3d8-2ec578090cd1\">\n",
              "    <div class=\"colab-df-container\">\n",
              "      <div>\n",
              "<style scoped>\n",
              "    .dataframe tbody tr th:only-of-type {\n",
              "        vertical-align: middle;\n",
              "    }\n",
              "\n",
              "    .dataframe tbody tr th {\n",
              "        vertical-align: top;\n",
              "    }\n",
              "\n",
              "    .dataframe thead th {\n",
              "        text-align: right;\n",
              "    }\n",
              "</style>\n",
              "<table border=\"1\" class=\"dataframe\">\n",
              "  <thead>\n",
              "    <tr style=\"text-align: right;\">\n",
              "      <th></th>\n",
              "      <th>Id</th>\n",
              "      <th>PRCP</th>\n",
              "      <th>TMAX</th>\n",
              "      <th>TMIN</th>\n",
              "    </tr>\n",
              "  </thead>\n",
              "  <tbody>\n",
              "    <tr>\n",
              "      <th>count</th>\n",
              "      <td>20440.000000</td>\n",
              "      <td>20438.000000</td>\n",
              "      <td>20440.000000</td>\n",
              "      <td>20440.000000</td>\n",
              "    </tr>\n",
              "    <tr>\n",
              "      <th>mean</th>\n",
              "      <td>10219.500000</td>\n",
              "      <td>0.104860</td>\n",
              "      <td>59.301027</td>\n",
              "      <td>44.187965</td>\n",
              "    </tr>\n",
              "    <tr>\n",
              "      <th>std</th>\n",
              "      <td>5900.664087</td>\n",
              "      <td>0.235564</td>\n",
              "      <td>12.700363</td>\n",
              "      <td>8.832697</td>\n",
              "    </tr>\n",
              "    <tr>\n",
              "      <th>min</th>\n",
              "      <td>0.000000</td>\n",
              "      <td>0.000000</td>\n",
              "      <td>4.000000</td>\n",
              "      <td>0.000000</td>\n",
              "    </tr>\n",
              "    <tr>\n",
              "      <th>25%</th>\n",
              "      <td>5109.750000</td>\n",
              "      <td>0.000000</td>\n",
              "      <td>50.000000</td>\n",
              "      <td>38.000000</td>\n",
              "    </tr>\n",
              "    <tr>\n",
              "      <th>50%</th>\n",
              "      <td>10219.500000</td>\n",
              "      <td>0.000000</td>\n",
              "      <td>58.000000</td>\n",
              "      <td>44.000000</td>\n",
              "    </tr>\n",
              "    <tr>\n",
              "      <th>75%</th>\n",
              "      <td>15329.250000</td>\n",
              "      <td>0.100000</td>\n",
              "      <td>69.000000</td>\n",
              "      <td>51.000000</td>\n",
              "    </tr>\n",
              "    <tr>\n",
              "      <th>max</th>\n",
              "      <td>20439.000000</td>\n",
              "      <td>5.020000</td>\n",
              "      <td>100.000000</td>\n",
              "      <td>69.000000</td>\n",
              "    </tr>\n",
              "  </tbody>\n",
              "</table>\n",
              "</div>\n",
              "      <button class=\"colab-df-convert\" onclick=\"convertToInteractive('df-bb212c9c-7633-4625-b3d8-2ec578090cd1')\"\n",
              "              title=\"Convert this dataframe to an interactive table.\"\n",
              "              style=\"display:none;\">\n",
              "        \n",
              "  <svg xmlns=\"http://www.w3.org/2000/svg\" height=\"24px\"viewBox=\"0 0 24 24\"\n",
              "       width=\"24px\">\n",
              "    <path d=\"M0 0h24v24H0V0z\" fill=\"none\"/>\n",
              "    <path d=\"M18.56 5.44l.94 2.06.94-2.06 2.06-.94-2.06-.94-.94-2.06-.94 2.06-2.06.94zm-11 1L8.5 8.5l.94-2.06 2.06-.94-2.06-.94L8.5 2.5l-.94 2.06-2.06.94zm10 10l.94 2.06.94-2.06 2.06-.94-2.06-.94-.94-2.06-.94 2.06-2.06.94z\"/><path d=\"M17.41 7.96l-1.37-1.37c-.4-.4-.92-.59-1.43-.59-.52 0-1.04.2-1.43.59L10.3 9.45l-7.72 7.72c-.78.78-.78 2.05 0 2.83L4 21.41c.39.39.9.59 1.41.59.51 0 1.02-.2 1.41-.59l7.78-7.78 2.81-2.81c.8-.78.8-2.07 0-2.86zM5.41 20L4 18.59l7.72-7.72 1.47 1.35L5.41 20z\"/>\n",
              "  </svg>\n",
              "      </button>\n",
              "      \n",
              "  <style>\n",
              "    .colab-df-container {\n",
              "      display:flex;\n",
              "      flex-wrap:wrap;\n",
              "      gap: 12px;\n",
              "    }\n",
              "\n",
              "    .colab-df-convert {\n",
              "      background-color: #E8F0FE;\n",
              "      border: none;\n",
              "      border-radius: 50%;\n",
              "      cursor: pointer;\n",
              "      display: none;\n",
              "      fill: #1967D2;\n",
              "      height: 32px;\n",
              "      padding: 0 0 0 0;\n",
              "      width: 32px;\n",
              "    }\n",
              "\n",
              "    .colab-df-convert:hover {\n",
              "      background-color: #E2EBFA;\n",
              "      box-shadow: 0px 1px 2px rgba(60, 64, 67, 0.3), 0px 1px 3px 1px rgba(60, 64, 67, 0.15);\n",
              "      fill: #174EA6;\n",
              "    }\n",
              "\n",
              "    [theme=dark] .colab-df-convert {\n",
              "      background-color: #3B4455;\n",
              "      fill: #D2E3FC;\n",
              "    }\n",
              "\n",
              "    [theme=dark] .colab-df-convert:hover {\n",
              "      background-color: #434B5C;\n",
              "      box-shadow: 0px 1px 3px 1px rgba(0, 0, 0, 0.15);\n",
              "      filter: drop-shadow(0px 1px 2px rgba(0, 0, 0, 0.3));\n",
              "      fill: #FFFFFF;\n",
              "    }\n",
              "  </style>\n",
              "\n",
              "      <script>\n",
              "        const buttonEl =\n",
              "          document.querySelector('#df-bb212c9c-7633-4625-b3d8-2ec578090cd1 button.colab-df-convert');\n",
              "        buttonEl.style.display =\n",
              "          google.colab.kernel.accessAllowed ? 'block' : 'none';\n",
              "\n",
              "        async function convertToInteractive(key) {\n",
              "          const element = document.querySelector('#df-bb212c9c-7633-4625-b3d8-2ec578090cd1');\n",
              "          const dataTable =\n",
              "            await google.colab.kernel.invokeFunction('convertToInteractive',\n",
              "                                                     [key], {});\n",
              "          if (!dataTable) return;\n",
              "\n",
              "          const docLinkHtml = 'Like what you see? Visit the ' +\n",
              "            '<a target=\"_blank\" href=https://colab.research.google.com/notebooks/data_table.ipynb>data table notebook</a>'\n",
              "            + ' to learn more about interactive tables.';\n",
              "          element.innerHTML = '';\n",
              "          dataTable['output_type'] = 'display_data';\n",
              "          await google.colab.output.renderOutput(dataTable, element);\n",
              "          const docLink = document.createElement('div');\n",
              "          docLink.innerHTML = docLinkHtml;\n",
              "          element.appendChild(docLink);\n",
              "        }\n",
              "      </script>\n",
              "    </div>\n",
              "  </div>\n",
              "  "
            ]
          },
          "metadata": {},
          "execution_count": 5
        }
      ],
      "source": [
        "data.describe()"
      ]
    },
    {
      "cell_type": "markdown",
      "metadata": {
        "id": "KVcbqLw3w9tL"
      },
      "source": [
        "# **5. Data Pre-Processing**"
      ]
    },
    {
      "cell_type": "markdown",
      "metadata": {
        "id": "PdKInUkXxctg"
      },
      "source": [
        "### **5.1 Data Pre-Profiling**\n"
      ]
    },
    {
      "cell_type": "markdown",
      "metadata": {
        "id": "uNysza08YqGh"
      },
      "source": [
        "**Check null value or any other inconsistent value in column**"
      ]
    },
    {
      "cell_type": "code",
      "execution_count": 6,
      "metadata": {
        "colab": {
          "base_uri": "https://localhost:8080/"
        },
        "id": "r2BOQuoxebSs",
        "outputId": "8f938fa9-a8ed-4e86-d0f7-c37b2627fb9b"
      },
      "outputs": [
        {
          "output_type": "stream",
          "name": "stdout",
          "text": [
            "Id      0\n",
            "DATE    0\n",
            "PRCP    0\n",
            "TMAX    0\n",
            "TMIN    0\n",
            "RAIN    0\n",
            "dtype: int64 \n",
            "\n"
          ]
        }
      ],
      "source": [
        "print((data==\"\").sum(), \"\\n\")"
      ]
    },
    {
      "cell_type": "code",
      "execution_count": 7,
      "metadata": {
        "colab": {
          "base_uri": "https://localhost:8080/"
        },
        "id": "t8DTnc4XYuVx",
        "outputId": "8bd5d55b-a718-46e5-8f8c-1ebc531ad6fa"
      },
      "outputs": [
        {
          "output_type": "stream",
          "name": "stdout",
          "text": [
            "Id      0\n",
            "DATE    0\n",
            "PRCP    2\n",
            "TMAX    0\n",
            "TMIN    0\n",
            "RAIN    2\n",
            "dtype: int64 \n",
            "\n"
          ]
        }
      ],
      "source": [
        "print(data.isna().sum(), \"\\n\")\n"
      ]
    },
    {
      "cell_type": "code",
      "execution_count": 8,
      "metadata": {
        "colab": {
          "base_uri": "https://localhost:8080/"
        },
        "id": "QKzNio-1gBWk",
        "outputId": "1c800dba-5902-4167-afb9-4bb447f77d69"
      },
      "outputs": [
        {
          "output_type": "stream",
          "name": "stdout",
          "text": [
            "Id      0\n",
            "DATE    0\n",
            "PRCP    0\n",
            "TMAX    0\n",
            "TMIN    0\n",
            "RAIN    0\n",
            "dtype: int64 \n",
            "\n"
          ]
        }
      ],
      "source": [
        "print((data==\"Unknown\").sum(), \"\\n\")\n"
      ]
    },
    {
      "cell_type": "code",
      "execution_count": 9,
      "metadata": {
        "colab": {
          "base_uri": "https://localhost:8080/"
        },
        "id": "sYTxG6wDzZL2",
        "outputId": "5e31e3e8-bb1f-4405-c017-0a40bf8349a5"
      },
      "outputs": [
        {
          "output_type": "execute_result",
          "data": {
            "text/plain": [
              "False"
            ]
          },
          "metadata": {},
          "execution_count": 9
        }
      ],
      "source": [
        "data.duplicated().any()"
      ]
    },
    {
      "cell_type": "markdown",
      "metadata": {
        "id": "OTVPcvGtC7MZ"
      },
      "source": [
        "**Check distribution of numerical features and Outliers**"
      ]
    },
    {
      "cell_type": "code",
      "execution_count": 10,
      "metadata": {
        "colab": {
          "base_uri": "https://localhost:8080/",
          "height": 968
        },
        "id": "OG7ahFxKhorY",
        "outputId": "35c917de-e0ee-4ff6-e9e5-5e6a0b6d7031"
      },
      "outputs": [
        {
          "output_type": "display_data",
          "data": {
            "text/plain": [
              "<Figure size 1080x360 with 2 Axes>"
            ],
            "image/png": "[encoded data removed]"
          },
          "metadata": {
            "needs_background": "light"
          }
        },
        {
          "output_type": "display_data",
          "data": {
            "text/plain": [
              "<Figure size 1080x360 with 2 Axes>"
            ],
            "image/png": "[encoded data removed]"
          },
          "metadata": {
            "needs_background": "light"
          }
        },
        {
          "output_type": "display_data",
          "data": {
            "text/plain": [
              "<Figure size 1080x360 with 2 Axes>"
            ],
            "image/png": "[encoded data removed]"
          },
          "metadata": {
            "needs_background": "light"
          }
        }
      ],
      "source": [
        "contColumn=data.select_dtypes(exclude=[\"object\"])\n",
        "\n",
        "for col in contColumn: \n",
        "  if (col !=\"Id\"):\n",
        "    fig=plt.figure(figsize=[15,5])\n",
        "    plt.subplot(1,2,1)\n",
        "    sns.distplot(data[col], color=\"b\")\n",
        "    plt.axvline(data[col].mean(), color=\"r\")\n",
        "    plt.axvline(data[col].median(), color=\"g\")\n",
        "    plt.subplot(1,2,2)\n",
        "    sns.boxplot(data[col])\n",
        "  # quamtile_75=data[col].quantile(q=.75)\n",
        "  # quamtile_25=data[col].quantile(q=.25)\n",
        "  # iqr=quamtile_75-quamtile_25\n",
        "  # lower_limit=quamtile_25-1.5*iqr\n",
        "  # upper_limit=quamtile_75+1.5*iqr\n",
        "  # outliers=data[col][(data[col]<lower_limit )|(data[col]>upper_limit)]\n",
        "  # print(\"outliers in feature\", col ,\"are\\n\" ,outliers)\n",
        "  # data.drop(index=outliers.index, inplace=True)\n",
        "\n",
        "  "
      ]
    },
    {
      "cell_type": "markdown",
      "metadata": {
        "id": "Ghes5hwMxu--"
      },
      "source": [
        "### **5.2 Data Cleaning**\n"
      ]
    },
    {
      "cell_type": "code",
      "source": [
        "\n",
        "# # Using simple imputer to impute type 2\n",
        "# # from sklearn.impute import SimpleImputer\n",
        "# # imp=SimpleImputer(strategy=\"most_frequent\")\n",
        "# # data.Type2=imp.fit_transform(data.Type2)\n",
        "# data.Type2=data.Type2.replace(np.NAN,data.Type2.mode()[0] )\n",
        "# dataValidation.Type2=dataValidation.Type2.replace(np.NAN,dataValidation.Type2.mode()[0] )\n",
        "data.drop(data[data.RAIN.isna()==True].index,inplace=True)\n",
        "data.DATE=pd.to_datetime(data.DATE)"
      ],
      "metadata": {
        "id": "qecSCuh09H7Q"
      },
      "execution_count": 11,
      "outputs": []
    },
    {
      "cell_type": "code",
      "source": [
        "data.info()"
      ],
      "metadata": {
        "colab": {
          "base_uri": "https://localhost:8080/"
        },
        "id": "oQMuu59VCoUb",
        "outputId": "dade3cd4-4f3e-41d0-8a6c-16bfa0ab1dbb"
      },
      "execution_count": 12,
      "outputs": [
        {
          "output_type": "stream",
          "name": "stdout",
          "text": [
            "<class 'pandas.core.frame.DataFrame'>\n",
            "Int64Index: 20438 entries, 0 to 20439\n",
            "Data columns (total 6 columns):\n",
            " #   Column  Non-Null Count  Dtype         \n",
            "---  ------  --------------  -----         \n",
            " 0   Id      20438 non-null  int64         \n",
            " 1   DATE    20438 non-null  datetime64[ns]\n",
            " 2   PRCP    20438 non-null  float64       \n",
            " 3   TMAX    20438 non-null  int64         \n",
            " 4   TMIN    20438 non-null  int64         \n",
            " 5   RAIN    20438 non-null  object        \n",
            "dtypes: datetime64[ns](1), float64(1), int64(3), object(1)\n",
            "memory usage: 1.1+ MB\n"
          ]
        }
      ]
    },
    {
      "cell_type": "markdown",
      "metadata": {
        "id": "eHaO8RpKyQHL"
      },
      "source": [
        "### **5.3 Data Post-Profiling**\n",
        "\n",
        "- Next, we will generate and verify the report to identify any new observation that can help us in further analysis."
      ]
    },
    {
      "cell_type": "markdown",
      "metadata": {
        "id": "LLfz81jNDxl4"
      },
      "source": [
        "# **6. Exploratory Data Analysis**"
      ]
    },
    {
      "cell_type": "markdown",
      "source": [
        "### **Analize Relationship between Temp and Rain**"
      ],
      "metadata": {
        "id": "i5NJgKcwHNn-"
      }
    },
    {
      "cell_type": "code",
      "source": [
        "# sns.histplot(data=data,x=\"Type1\",bins=10,hue=\"csMPa\",multiple=\"stack\",stat=\"count\")\n",
        "\n",
        "print(np.sort(data[data.RAIN==True].TMIN.unique()))\n",
        "print(np.sort(data[data.RAIN==True].TMAX.unique()))\n",
        "print(np.sort(data[data.RAIN==False].PRCP.unique()))\n",
        "# plt.legend(bbox_to_anchor=(1,1))\n",
        "# plt.show()\n",
        "# data.groupby([\"Legendary\",\"Type1\"])[\"Type1\"].count().unstack().plot.bar(figsize=[10,5])\n",
        "# plt.legend(bbox_to_anchor=(1,1))\n",
        "# plt.show()\n",
        "\n",
        "# np.sort(data[data.Legendary==0].Attack.unique())"
      ],
      "metadata": {
        "colab": {
          "base_uri": "https://localhost:8080/"
        },
        "outputId": "a0410be9-a04a-48d4-98ca-ac2f70be767e",
        "id": "qrZHWC74HNn_"
      },
      "execution_count": 13,
      "outputs": [
        {
          "output_type": "stream",
          "name": "stdout",
          "text": [
            "[ 6  7  8  9 11 12 13 15 16 17 18 19 20 21 22 23 24 25 26 27 28 29 30 31\n",
            " 32 33 34 35 36 37 38 39 40 41 42 43 44 45 46 47 48 49 50 51 52 53 54 55\n",
            " 56 57 58 59 60 61 62 63]\n",
            "[ 4 16 18 19 21 22 24 25 26 27 28 29 30 31 32 33 34 35 36 37 38 39 40 41\n",
            " 42 43 44 45 46 47 48 49 50 51 52 53 54 55 56 57 58 59 60 61 62 63 64 65\n",
            " 66 67 68 69 70 71 72 73 74 75 76 77 78 79 80 81 83 84 86 88 90]\n",
            "[0.]\n"
          ]
        }
      ]
    },
    {
      "cell_type": "code",
      "source": [
        "figure=plt.figure(figsize=[20,7])\n",
        "plt.subplot(1,2,1)\n",
        "plt.plot(np.sort(data[data.RAIN==True].TMIN.unique()))\n",
        "plt.plot(np.sort(data[data.RAIN==True].TMAX.unique()))\n",
        "plt.plot(np.sort(data[data.RAIN==True].PRCP.unique()))\n",
        "\n",
        "plt.subplot(1,2,2)\n",
        "plt.plot(np.sort(data[data.RAIN==False].TMIN.unique()))\n",
        "plt.plot(np.sort(data[data.RAIN==False].TMAX.unique()))\n",
        "plt.plot(np.sort(data[data.RAIN==False].PRCP.unique()))"
      ],
      "metadata": {
        "colab": {
          "base_uri": "https://localhost:8080/",
          "height": 383
        },
        "id": "2KKAFAefwXRa",
        "outputId": "dae21939-a2a5-4476-cad8-6e6fda2aba94"
      },
      "execution_count": 14,
      "outputs": [
        {
          "output_type": "execute_result",
          "data": {
            "text/plain": [
              "[<matplotlib.lines.Line2D at 0x7fb87b7c5050>]"
            ]
          },
          "metadata": {},
          "execution_count": 14
        },
        {
          "output_type": "display_data",
          "data": {
            "text/plain": [
              "<Figure size 1440x504 with 2 Axes>"
            ],
            "image/png": "[encoded data removed]"
          },
          "metadata": {
            "needs_background": "light"
          }
        }
      ]
    },
    {
      "cell_type": "code",
      "source": [
        "sns.lineplot(data=data, x=\"TMIN\",y=\"TMAX\",hue=\"RAIN\")\n",
        "\n",
        "# data.groupby([\"Type2\",\"Legendary\"])[\"Legendary\"].count().unstack().plot.bar(figsize=[10,5])\n",
        "# plt.legend(bbox_to_anchor=(1,1))\n",
        "# plt.show()\n",
        "# data.groupby([\"Legendary\",\"Type2\"])[\"Type2\"].count().unstack().plot.bar(figsize=[10,5])\n",
        "# plt.legend(bbox_to_anchor=(1,1))\n",
        "# plt.show()"
      ],
      "metadata": {
        "colab": {
          "base_uri": "https://localhost:8080/",
          "height": 296
        },
        "outputId": "fc400898-4e51-4cdf-da81-ad99ad003f54",
        "id": "O2Y8h3qIIKTT"
      },
      "execution_count": 15,
      "outputs": [
        {
          "output_type": "execute_result",
          "data": {
            "text/plain": [
              "<matplotlib.axes._subplots.AxesSubplot at 0x7fb87b72af10>"
            ]
          },
          "metadata": {},
          "execution_count": 15
        },
        {
          "output_type": "display_data",
          "data": {
            "text/plain": [
              "<Figure size 432x288 with 1 Axes>"
            ],
            "image/png": "[encoded data removed]"
          },
          "metadata": {
            "needs_background": "light"
          }
        }
      ]
    },
    {
      "cell_type": "markdown",
      "source": [
        "### **Analize Relationship between Month and Rain**"
      ],
      "metadata": {
        "id": "kQmeSjXCIKTS"
      }
    },
    {
      "cell_type": "code",
      "source": [
        "print(data[data.RAIN==True].DATE.dt.month_name().unique())\n",
        "print(data[data.RAIN==False].DATE.dt.month_name().unique())\n",
        "# data[data.RAIN==True].DATE.dt.year.unique()"
      ],
      "metadata": {
        "colab": {
          "base_uri": "https://localhost:8080/"
        },
        "id": "c8UkeRVIoaLE",
        "outputId": "8fd053b2-44f2-4281-c682-d5fffe49c394"
      },
      "execution_count": 16,
      "outputs": [
        {
          "output_type": "stream",
          "name": "stdout",
          "text": [
            "['January' 'February' 'March' 'April' 'May' 'June' 'July' 'August'\n",
            " 'September' 'October' 'November' 'December']\n",
            "['January' 'February' 'March' 'April' 'May' 'June' 'July' 'August'\n",
            " 'September' 'October' 'November' 'December']\n"
          ]
        }
      ]
    },
    {
      "cell_type": "markdown",
      "metadata": {
        "id": "i4055cdQ5mz_"
      },
      "source": [
        "### **Correlation Matrix**"
      ]
    },
    {
      "cell_type": "code",
      "source": [
        "print(data.RAIN.value_counts())\n",
        "\n",
        "data.RAIN=data.RAIN.replace([\"True\",\"False\"],[1,0])\n",
        "\n",
        "# data.RAIN=data.RAIN.replace(\"True\",1,inplace=True)\n",
        "# data.RAIN=data.RAIN.replace(\"False\",0,inplace=True)\n",
        "# print(data.RAIN.value_counts())\n",
        "# data.Drug=data.Drug.replace([\"drugA\",\"drugB\",\"drugC\",\"drugX\",\"DrugY\"],[3,4,2,0,1])"
      ],
      "metadata": {
        "colab": {
          "base_uri": "https://localhost:8080/"
        },
        "id": "Eki4EWnJuNEm",
        "outputId": "e43b8075-4fe6-4aec-9ed2-bbdd5c22bc25"
      },
      "execution_count": 26,
      "outputs": [
        {
          "output_type": "stream",
          "name": "stdout",
          "text": [
            "False    11771\n",
            "True      8667\n",
            "Name: RAIN, dtype: int64\n"
          ]
        }
      ]
    },
    {
      "cell_type": "code",
      "source": [
        "data.info()"
      ],
      "metadata": {
        "colab": {
          "base_uri": "https://localhost:8080/"
        },
        "id": "Ch-2OOeXvD-j",
        "outputId": "f650af36-ca7b-45ff-dd95-16dd0eb53400"
      },
      "execution_count": 27,
      "outputs": [
        {
          "output_type": "stream",
          "name": "stdout",
          "text": [
            "<class 'pandas.core.frame.DataFrame'>\n",
            "Int64Index: 20438 entries, 0 to 20439\n",
            "Data columns (total 4 columns):\n",
            " #   Column  Non-Null Count  Dtype  \n",
            "---  ------  --------------  -----  \n",
            " 0   PRCP    20438 non-null  float64\n",
            " 1   TMAX    20438 non-null  int64  \n",
            " 2   TMIN    20438 non-null  int64  \n",
            " 3   RAIN    20438 non-null  bool   \n",
            "dtypes: bool(1), float64(1), int64(2)\n",
            "memory usage: 1.1 MB\n"
          ]
        }
      ]
    },
    {
      "cell_type": "code",
      "execution_count": null,
      "metadata": {
        "id": "bhO-mjuAfWZ0"
      },
      "outputs": [],
      "source": [
        "\n",
        "figure=plt.figure(figsize=[10,6])\n",
        "sns.heatmap(data.corr(), cmap=\"Blues\", annot=True,linecolor='Red',linewidth=1)"
      ]
    },
    {
      "cell_type": "markdown",
      "metadata": {
        "id": "ISaynBoL2U6f"
      },
      "source": [
        "# **7. Data Post-Processing**"
      ]
    },
    {
      "cell_type": "markdown",
      "metadata": {
        "id": "wTKr5hqq3tQy"
      },
      "source": [
        "### **7.1 Data Preparation**\n",
        "\n"
      ]
    },
    {
      "cell_type": "code",
      "execution_count": 30,
      "metadata": {
        "id": "FcD8VCYk90nu"
      },
      "outputs": [],
      "source": [
        "#**Remove Irrelavent Features**\n",
        "data=data.drop([\"Id\",\"DATE\"], axis=1)\n",
        "dataValidation=dataValidation.drop([\"Id\",\"DATE\"], axis=1)\n",
        "X=data.drop(\"RAIN\",axis=1)\n",
        "y=data.RAIN\n",
        "\n",
        "\n"
      ]
    },
    {
      "cell_type": "code",
      "source": [
        "print(X)\n",
        "print(y)"
      ],
      "metadata": {
        "colab": {
          "base_uri": "https://localhost:8080/"
        },
        "id": "fbY0RZFuwtNF",
        "outputId": "7c11b009-25d3-487d-8c36-02aa3d33bada"
      },
      "execution_count": 31,
      "outputs": [
        {
          "output_type": "stream",
          "name": "stdout",
          "text": [
            "       PRCP  TMAX  TMIN\n",
            "0      0.47    51    42\n",
            "1      0.59    45    36\n",
            "2      0.42    45    35\n",
            "3      0.31    45    34\n",
            "4      0.17    45    32\n",
            "...     ...   ...   ...\n",
            "20435  0.46    48    39\n",
            "20436  0.07    43    36\n",
            "20437  0.01    45    38\n",
            "20438  0.07    51    41\n",
            "20439  0.00    52    37\n",
            "\n",
            "[20438 rows x 3 columns]\n",
            "0         True\n",
            "1         True\n",
            "2         True\n",
            "3         True\n",
            "4         True\n",
            "         ...  \n",
            "20435     True\n",
            "20436     True\n",
            "20437     True\n",
            "20438     True\n",
            "20439    False\n",
            "Name: RAIN, Length: 20438, dtype: bool\n"
          ]
        }
      ]
    },
    {
      "cell_type": "markdown",
      "metadata": {
        "id": "PLF8eGU33VZD"
      },
      "source": [
        "# **8. Model Development & Evaluation**"
      ]
    },
    {
      "cell_type": "code",
      "execution_count": 32,
      "metadata": {
        "id": "vfy2MULRCY2_",
        "colab": {
          "base_uri": "https://localhost:8080/",
          "height": 175
        },
        "outputId": "fc21cdf6-6479-4c19-bb75-f725575a5a98"
      },
      "outputs": [
        {
          "output_type": "execute_result",
          "data": {
            "text/plain": [
              "                      ModelName  TrainScore  TestScore\n",
              "0      RandomForestClassifier()         1.0        1.0\n",
              "1           BaggingClassifier()         1.0        1.0\n",
              "2          AdaBoostClassifier()         1.0        1.0\n",
              "3  GradientBoostingClassifier()         1.0        1.0"
            ],
            "text/html": [
              "\n",
              "  <div id=\"df-fd3ef850-d66b-46c4-a474-ec4eb6ff6489\">\n",
              "    <div class=\"colab-df-container\">\n",
              "      <div>\n",
              "<style scoped>\n",
              "    .dataframe tbody tr th:only-of-type {\n",
              "        vertical-align: middle;\n",
              "    }\n",
              "\n",
              "    .dataframe tbody tr th {\n",
              "        vertical-align: top;\n",
              "    }\n",
              "\n",
              "    .dataframe thead th {\n",
              "        text-align: right;\n",
              "    }\n",
              "</style>\n",
              "<table border=\"1\" class=\"dataframe\">\n",
              "  <thead>\n",
              "    <tr style=\"text-align: right;\">\n",
              "      <th></th>\n",
              "      <th>ModelName</th>\n",
              "      <th>TrainScore</th>\n",
              "      <th>TestScore</th>\n",
              "    </tr>\n",
              "  </thead>\n",
              "  <tbody>\n",
              "    <tr>\n",
              "      <th>0</th>\n",
              "      <td>RandomForestClassifier()</td>\n",
              "      <td>1.0</td>\n",
              "      <td>1.0</td>\n",
              "    </tr>\n",
              "    <tr>\n",
              "      <th>1</th>\n",
              "      <td>BaggingClassifier()</td>\n",
              "      <td>1.0</td>\n",
              "      <td>1.0</td>\n",
              "    </tr>\n",
              "    <tr>\n",
              "      <th>2</th>\n",
              "      <td>AdaBoostClassifier()</td>\n",
              "      <td>1.0</td>\n",
              "      <td>1.0</td>\n",
              "    </tr>\n",
              "    <tr>\n",
              "      <th>3</th>\n",
              "      <td>GradientBoostingClassifier()</td>\n",
              "      <td>1.0</td>\n",
              "      <td>1.0</td>\n",
              "    </tr>\n",
              "  </tbody>\n",
              "</table>\n",
              "</div>\n",
              "      <button class=\"colab-df-convert\" onclick=\"convertToInteractive('df-fd3ef850-d66b-46c4-a474-ec4eb6ff6489')\"\n",
              "              title=\"Convert this dataframe to an interactive table.\"\n",
              "              style=\"display:none;\">\n",
              "        \n",
              "  <svg xmlns=\"http://www.w3.org/2000/svg\" height=\"24px\"viewBox=\"0 0 24 24\"\n",
              "       width=\"24px\">\n",
              "    <path d=\"M0 0h24v24H0V0z\" fill=\"none\"/>\n",
              "    <path d=\"M18.56 5.44l.94 2.06.94-2.06 2.06-.94-2.06-.94-.94-2.06-.94 2.06-2.06.94zm-11 1L8.5 8.5l.94-2.06 2.06-.94-2.06-.94L8.5 2.5l-.94 2.06-2.06.94zm10 10l.94 2.06.94-2.06 2.06-.94-2.06-.94-.94-2.06-.94 2.06-2.06.94z\"/><path d=\"M17.41 7.96l-1.37-1.37c-.4-.4-.92-.59-1.43-.59-.52 0-1.04.2-1.43.59L10.3 9.45l-7.72 7.72c-.78.78-.78 2.05 0 2.83L4 21.41c.39.39.9.59 1.41.59.51 0 1.02-.2 1.41-.59l7.78-7.78 2.81-2.81c.8-.78.8-2.07 0-2.86zM5.41 20L4 18.59l7.72-7.72 1.47 1.35L5.41 20z\"/>\n",
              "  </svg>\n",
              "      </button>\n",
              "      \n",
              "  <style>\n",
              "    .colab-df-container {\n",
              "      display:flex;\n",
              "      flex-wrap:wrap;\n",
              "      gap: 12px;\n",
              "    }\n",
              "\n",
              "    .colab-df-convert {\n",
              "      background-color: #E8F0FE;\n",
              "      border: none;\n",
              "      border-radius: 50%;\n",
              "      cursor: pointer;\n",
              "      display: none;\n",
              "      fill: #1967D2;\n",
              "      height: 32px;\n",
              "      padding: 0 0 0 0;\n",
              "      width: 32px;\n",
              "    }\n",
              "\n",
              "    .colab-df-convert:hover {\n",
              "      background-color: #E2EBFA;\n",
              "      box-shadow: 0px 1px 2px rgba(60, 64, 67, 0.3), 0px 1px 3px 1px rgba(60, 64, 67, 0.15);\n",
              "      fill: #174EA6;\n",
              "    }\n",
              "\n",
              "    [theme=dark] .colab-df-convert {\n",
              "      background-color: #3B4455;\n",
              "      fill: #D2E3FC;\n",
              "    }\n",
              "\n",
              "    [theme=dark] .colab-df-convert:hover {\n",
              "      background-color: #434B5C;\n",
              "      box-shadow: 0px 1px 3px 1px rgba(0, 0, 0, 0.15);\n",
              "      filter: drop-shadow(0px 1px 2px rgba(0, 0, 0, 0.3));\n",
              "      fill: #FFFFFF;\n",
              "    }\n",
              "  </style>\n",
              "\n",
              "      <script>\n",
              "        const buttonEl =\n",
              "          document.querySelector('#df-fd3ef850-d66b-46c4-a474-ec4eb6ff6489 button.colab-df-convert');\n",
              "        buttonEl.style.display =\n",
              "          google.colab.kernel.accessAllowed ? 'block' : 'none';\n",
              "\n",
              "        async function convertToInteractive(key) {\n",
              "          const element = document.querySelector('#df-fd3ef850-d66b-46c4-a474-ec4eb6ff6489');\n",
              "          const dataTable =\n",
              "            await google.colab.kernel.invokeFunction('convertToInteractive',\n",
              "                                                     [key], {});\n",
              "          if (!dataTable) return;\n",
              "\n",
              "          const docLinkHtml = 'Like what you see? Visit the ' +\n",
              "            '<a target=\"_blank\" href=https://colab.research.google.com/notebooks/data_table.ipynb>data table notebook</a>'\n",
              "            + ' to learn more about interactive tables.';\n",
              "          element.innerHTML = '';\n",
              "          dataTable['output_type'] = 'display_data';\n",
              "          await google.colab.output.renderOutput(dataTable, element);\n",
              "          const docLink = document.createElement('div');\n",
              "          docLink.innerHTML = docLinkHtml;\n",
              "          element.appendChild(docLink);\n",
              "        }\n",
              "      </script>\n",
              "    </div>\n",
              "  </div>\n",
              "  "
            ]
          },
          "metadata": {},
          "execution_count": 32
        }
      ],
      "source": [
        "from sklearn.compose import make_column_transformer\n",
        "from sklearn.model_selection import cross_val_score,cross_validate,cross_val_predict\n",
        "from sklearn.pipeline import make_pipeline\n",
        "from sklearn.preprocessing import RobustScaler,OneHotEncoder,LabelEncoder\n",
        "from sklearn.ensemble import RandomForestClassifier, BaggingClassifier,AdaBoostClassifier,GradientBoostingClassifier\n",
        "# from sklearn.ensemble import RandomForestClassifier\n",
        "# Define which columns should be scaled\n",
        "columns_to_scale=[\"PRCP\",\"TMIN\",\"TMAX\"]\n",
        "# columns_to_encode=[\"RAIN\"]\n",
        "\n",
        "\n",
        "# Instantiate column transformer\n",
        "column_trans=make_column_transformer((RobustScaler(),columns_to_scale))\n",
        "# x_trans=pd.DataFrame(column_trans.fit_transform(X))\n",
        "# x_trans\n",
        "# x_trans.isna().sum()\n",
        "# Instantiate Decision Tree Model\n",
        "mdlList=[RandomForestClassifier(),BaggingClassifier(),AdaBoostClassifier(),GradientBoostingClassifier()]\n",
        "score_df=pd.DataFrame(columns=[\"ModelName\",\"TrainScore\",\"TestScore\"])\n",
        "for mdl in mdlList:\n",
        "  # Make Pipeline\n",
        "  pipe=make_pipeline(column_trans,mdl)\n",
        "  cv_score=cross_validate(pipe,X,y,cv=5,n_jobs=-1,scoring=\"accuracy\",return_train_score=True)\n",
        "  cv_score_df=pd.DataFrame(cv_score)\n",
        "  score_df=score_df.append({\"ModelName\":mdl,\"TrainScore\":cv_score_df.train_score.mean(),\n",
        "                   \"TestScore\":cv_score_df.test_score.mean()},ignore_index=True)\n",
        "  # print(cv_score_df.mean())\n",
        "score_df\n",
        "\n",
        "# dataValidation_pred=pipe.predict(dataValidation)\n",
        "\n",
        "# submission = pd.DataFrame({'Id':dataValidationId,'Drug':dataValidation_pred})\n",
        "# from google.colab import files\n",
        "# submission.to_csv('submission.csv', encoding = 'utf-8-sig',index=False,header=False) \n",
        "# files.download('submission.csv')\n",
        "\n",
        "\n"
      ]
    },
    {
      "cell_type": "code",
      "source": [
        "pipe=make_pipeline(column_trans,GradientBoostingClassifier())\n",
        "pipe.fit(X,y)"
      ],
      "metadata": {
        "colab": {
          "base_uri": "https://localhost:8080/"
        },
        "id": "YfQiQ_-FiJOP",
        "outputId": "dcc7c07c-0434-4198-ec79-3b4d6dc373a7"
      },
      "execution_count": 34,
      "outputs": [
        {
          "output_type": "execute_result",
          "data": {
            "text/plain": [
              "Pipeline(steps=[('columntransformer',\n",
              "                 ColumnTransformer(transformers=[('robustscaler',\n",
              "                                                  RobustScaler(),\n",
              "                                                  ['PRCP', 'TMIN', 'TMAX'])])),\n",
              "                ('gradientboostingclassifier', GradientBoostingClassifier())])"
            ]
          },
          "metadata": {},
          "execution_count": 34
        }
      ]
    },
    {
      "cell_type": "markdown",
      "source": [
        "# **9. Dump Model using Pickle**"
      ],
      "metadata": {
        "id": "e-4tOEzl4qWK"
      }
    },
    {
      "cell_type": "code",
      "source": [
        "import pickle\n",
        "\n",
        "##dump the model into a file\n",
        "with open(\"/content/drive/MyDrive/Colab Notebooks/ModelBin/model.pkl\", 'wb') as f_out:\n",
        "    pickle.dump(pipe, f_out) # write final_model in .bin file\n",
        "    f_out.close()  # close the file "
      ],
      "metadata": {
        "id": "tiJYJrVV4ugq"
      },
      "execution_count": 36,
      "outputs": []
    },
    {
      "cell_type": "markdown",
      "source": [
        "# **10. Load Model using Pickle and Predict Output**"
      ],
      "metadata": {
        "id": "iEX3FkoeSWps"
      }
    },
    {
      "cell_type": "code",
      "source": [
        "##loading the model from the saved file\n",
        "with open('/content/drive/MyDrive/Colab Notebooks/ModelBin/model.pkl', 'rb') as f_in:\n",
        "    model = pickle.load(f_in)\n",
        "\n",
        "##Predict\n",
        "dataValidation_pred=model.predict(dataValidation)\n",
        "# print(dataValidation_pred)\n",
        "\n",
        "submission = pd.DataFrame({'Id':dataValidationId,'csMPa':dataValidation_pred})\n",
        "from google.colab import files\n",
        "submission.to_csv('submission.csv', encoding = 'utf-8-sig',index=False,header=False) \n",
        "files.download('submission.csv')"
      ],
      "metadata": {
        "colab": {
          "base_uri": "https://localhost:8080/",
          "height": 17
        },
        "id": "R8F-jPLG9O9k",
        "outputId": "7bbd663f-4d7c-4d7f-a9b2-f09532d4d5e7"
      },
      "execution_count": 37,
      "outputs": [
        {
          "output_type": "display_data",
          "data": {
            "text/plain": [
              "<IPython.core.display.Javascript object>"
            ],
            "application/javascript": [
              "\n",
              "    async function download(id, filename, size) {\n",
              "      if (!google.colab.kernel.accessAllowed) {\n",
              "        return;\n",
              "      }\n",
              "      const div = document.createElement('div');\n",
              "      const label = document.createElement('label');\n",
              "      label.textContent = `Downloading \"${filename}\": `;\n",
              "      div.appendChild(label);\n",
              "      const progress = document.createElement('progress');\n",
              "      progress.max = size;\n",
              "      div.appendChild(progress);\n",
              "      document.body.appendChild(div);\n",
              "\n",
              "      const buffers = [];\n",
              "      let downloaded = 0;\n",
              "\n",
              "      const channel = await google.colab.kernel.comms.open(id);\n",
              "      // Send a message to notify the kernel that we're ready.\n",
              "      channel.send({})\n",
              "\n",
              "      for await (const message of channel.messages) {\n",
              "        // Send a message to notify the kernel that we're ready.\n",
              "        channel.send({})\n",
              "        if (message.buffers) {\n",
              "          for (const buffer of message.buffers) {\n",
              "            buffers.push(buffer);\n",
              "            downloaded += buffer.byteLength;\n",
              "            progress.value = downloaded;\n",
              "          }\n",
              "        }\n",
              "      }\n",
              "      const blob = new Blob(buffers, {type: 'application/binary'});\n",
              "      const a = document.createElement('a');\n",
              "      a.href = window.URL.createObjectURL(blob);\n",
              "      a.download = filename;\n",
              "      div.appendChild(a);\n",
              "      a.click();\n",
              "      div.remove();\n",
              "    }\n",
              "  "
            ]
          },
          "metadata": {}
        },
        {
          "output_type": "display_data",
          "data": {
            "text/plain": [
              "<IPython.core.display.Javascript object>"
            ],
            "application/javascript": [
              "download(\"download_13191801-c280-4d47-b7ac-4adc3f8e6c4b\", \"submission.csv\", 59090)"
            ]
          },
          "metadata": {}
        }
      ]
    }
  ],
  "metadata": {
    "colab": {
      "collapsed_sections": [],
      "provenance": [],
      "toc_visible": true,
      "mount_file_id": "1c0TJoThbmgpyu8CIYKeNalUXEBFGV50R",
      "authorship_tag": "ABX9TyMuU+cg+dnubVw0ifvWt9R0",
      "include_colab_link": true
    },
    "kernelspec": {
      "display_name": "Python 3",
      "name": "python3"
    },
    "language_info": {
      "name": "python"
    }
  },
  "nbformat": 4,
  "nbformat_minor": 0
}