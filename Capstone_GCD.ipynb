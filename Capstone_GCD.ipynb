{
  "cells": [
    {
      "cell_type": "markdown",
      "metadata": {
        "id": "view-in-github",
        "colab_type": "text"
      },
      "source": [
        "<a href=\"https://colab.research.google.com/github/anujapande2001/MLProjects/blob/main/Capstone_GCD.ipynb\" target=\"_parent\"><img src=\"https://colab.research.google.com/assets/colab-badge.svg\" alt=\"Open In Colab\"/></a>"
      ]
    },
    {
      "cell_type": "markdown",
      "metadata": {
        "id": "mbUUyyvXnlqa"
      },
      "source": [
        "# **EMPLOYEE EXIT PREDICTION**"
      ]
    },
    {
      "cell_type": "markdown",
      "metadata": {
        "id": "O-T2JEoL3CKD"
      },
      "source": [
        "\n",
        "\n",
        "# **1. Introduction**\n",
        "\n",
        "\n",
        "**Your client for this project is the HR Department at a software company.**\n",
        "\n",
        "* They want to try a new initiative to retain employees.\n",
        "* The idea is to use data to predict whether an employee is likely to leave.\n",
        "* Once these employees are identified, HR can be more proactive in reaching out to them before it's too late.\n",
        "* They only want to deal with the data that is related to permanent employees.\n",
        "\n",
        "**Current Scenario:**\n",
        "\n",
        "Once an employee leaves, he or she is taken an interview with the name “exit interview” and shares reasons for leaving. The HR Department then tries and learns insights from the interview and makes changes accordingly.\n",
        "\n",
        "\n",
        "\n",
        "\n",
        "\n",
        "\n",
        "\n"
      ]
    },
    {
      "cell_type": "markdown",
      "metadata": {
        "id": "WWzmoQQbv5Ks"
      },
      "source": [
        "# **2. Problem Statement**\n",
        "**The current process suffers from the following problems:**\n",
        "\n",
        "* This approach is that it's too haphazard. The quality of insight gained from an interview depends heavily on the skill of the interviewer.\n",
        "* The second problem is these insights can't be aggregated and interlaced across all employees who have left.\n",
        "* The third is that it is too late by the time the proposed policy changes take effect.\n",
        "\n",
        "\n",
        "The company has hired you as data science consultants. They want to automate the process of assigning the drug according to their health report.\n",
        "\n",
        "**Your Role**\n",
        "* You are given datasets of past employees and their status (still employed or already left).\n",
        "* Your task is to build a classification model using the datasets.\n",
        "* Because there was no machine learning model for this problem in the company, you don’t have quantifiable win condition. You need to build the best possible model.\n",
        "\n",
        "**Problem Specifics**\n",
        "* Deliverable: Predict whether an employee will stay or leave.\n",
        "* Machine learning task: Classification\n",
        "* Target variable: Status (Employed/Left)\n",
        "* Win condition: N/A (best possible model)\n"
      ]
    },
    {
      "cell_type": "markdown",
      "metadata": {
        "id": "ZSi_m9jinvW6"
      },
      "source": [
        "# **3. Import Libraries**"
      ]
    },
    {
      "cell_type": "code",
      "execution_count": 1,
      "metadata": {
        "id": "ep7ACXYQoYxW"
      },
      "outputs": [],
      "source": [
        "import numpy as np\n",
        "import pandas as pd\n",
        "from pandas_profiling import ProfileReport \n",
        "import matplotlib.pyplot as plt\n",
        "%matplotlib inline\n",
        "import seaborn as sns\n",
        "\n",
        "import warnings\n",
        "warnings.filterwarnings(action=\"ignore\")"
      ]
    },
    {
      "cell_type": "code",
      "source": [
        "pip install mysql-connector-python-rf"
      ],
      "metadata": {
        "colab": {
          "base_uri": "https://localhost:8080/"
        },
        "id": "4y0lcU70cWAL",
        "outputId": "bc7da753-ee48-4bd0-e1e5-f2181d953614"
      },
      "execution_count": 2,
      "outputs": [
        {
          "output_type": "stream",
          "name": "stdout",
          "text": [
            "Looking in indexes: https://pypi.org/simple, https://us-python.pkg.dev/colab-wheels/public/simple/\n",
            "Collecting mysql-connector-python-rf\n",
            "  Downloading mysql-connector-python-rf-2.2.2.tar.gz (11.9 MB)\n",
            "\u001b[2K     \u001b[90m━━━━━━━━━━━━━━━━━━━━━━━━━━━━━━━━━━━━━━━━\u001b[0m \u001b[32m11.9/11.9 MB\u001b[0m \u001b[31m67.7 MB/s\u001b[0m eta \u001b[36m0:00:00\u001b[0m\n",
            "\u001b[?25h  Preparing metadata (setup.py) ... \u001b[?25l\u001b[?25hdone\n",
            "Building wheels for collected packages: mysql-connector-python-rf\n",
            "  Building wheel for mysql-connector-python-rf (setup.py) ... \u001b[?25l\u001b[?25hdone\n",
            "  Created wheel for mysql-connector-python-rf: filename=mysql_connector_python_rf-2.2.2-cp39-cp39-linux_x86_64.whl size=249472 sha256=92fee3f983f60bf4a1c91f5baa16fb125f9f3e779abbf9df2d6bfab70013bd85\n",
            "  Stored in directory: /root/.cache/pip/wheels/64/06/5b/ef9543936a3f5de15b02775b6ae548a09f3ed2319d20342771\n",
            "Successfully built mysql-connector-python-rf\n",
            "Installing collected packages: mysql-connector-python-rf\n",
            "Successfully installed mysql-connector-python-rf-2.2.2\n"
          ]
        }
      ]
    },
    {
      "cell_type": "code",
      "source": [
        "!pip install scikit-learn==1.2.0"
      ],
      "metadata": {
        "id": "a0y5COouUnAI",
        "colab": {
          "base_uri": "https://localhost:8080/"
        },
        "outputId": "88ce5d29-f8ef-4cf9-8ce8-4ea4fbdd51a9"
      },
      "execution_count": 3,
      "outputs": [
        {
          "output_type": "stream",
          "name": "stdout",
          "text": [
            "Looking in indexes: https://pypi.org/simple, https://us-python.pkg.dev/colab-wheels/public/simple/\n",
            "Collecting scikit-learn==1.2.0\n",
            "  Downloading scikit_learn-1.2.0-cp39-cp39-manylinux_2_17_x86_64.manylinux2014_x86_64.whl (9.5 MB)\n",
            "\u001b[2K     \u001b[90m━━━━━━━━━━━━━━━━━━━━━━━━━━━━━━━━━━━━━━━━\u001b[0m \u001b[32m9.5/9.5 MB\u001b[0m \u001b[31m64.5 MB/s\u001b[0m eta \u001b[36m0:00:00\u001b[0m\n",
            "\u001b[?25hRequirement already satisfied: joblib>=1.1.1 in /usr/local/lib/python3.9/dist-packages (from scikit-learn==1.2.0) (1.1.1)\n",
            "Requirement already satisfied: threadpoolctl>=2.0.0 in /usr/local/lib/python3.9/dist-packages (from scikit-learn==1.2.0) (3.1.0)\n",
            "Requirement already satisfied: numpy>=1.17.3 in /usr/local/lib/python3.9/dist-packages (from scikit-learn==1.2.0) (1.22.4)\n",
            "Requirement already satisfied: scipy>=1.3.2 in /usr/local/lib/python3.9/dist-packages (from scikit-learn==1.2.0) (1.10.1)\n",
            "Installing collected packages: scikit-learn\n",
            "  Attempting uninstall: scikit-learn\n",
            "    Found existing installation: scikit-learn 1.2.2\n",
            "    Uninstalling scikit-learn-1.2.2:\n",
            "      Successfully uninstalled scikit-learn-1.2.2\n",
            "Successfully installed scikit-learn-1.2.0\n"
          ]
        }
      ]
    },
    {
      "cell_type": "code",
      "source": [
        "import sklearn \n",
        "print(sklearn.__version__)"
      ],
      "metadata": {
        "colab": {
          "base_uri": "https://localhost:8080/"
        },
        "id": "RVtebUIJUEVw",
        "outputId": "45f63521-a3a4-4653-943c-6ad8095abc6c"
      },
      "execution_count": 4,
      "outputs": [
        {
          "output_type": "stream",
          "name": "stdout",
          "text": [
            "1.2.0\n"
          ]
        }
      ]
    },
    {
      "cell_type": "markdown",
      "metadata": {
        "id": "9wyH0OUkqx_K"
      },
      "source": [
        "# **4. Data Acquisition & Description**\n",
        "\n",
        "The Business Intelligence Analysts of the Company provided you three datasets that contain information about past employees and their status (still employed or already left).\n",
        "\n",
        "\n",
        "---\n",
        "**department_data**\n",
        "\n",
        "\n",
        "\n",
        "\n",
        "\n",
        "This dataset contains information about each department. The schema of the dataset is as follows:\n",
        "\n",
        "* dept_id – Unique Department Code\n",
        "* dept_name – Name of the Department\n",
        "* dept_head – Name of the Head of the Department\n",
        "---\n",
        "**employee_data**\n",
        "\n",
        "\n",
        "\n",
        "\n",
        "\n",
        "This dataset consists of Employee ID, their Age, Gender and Marital Status. The schema of this dataset is as follows:\n",
        "\n",
        "* employee_id – Unique ID Number for each employee\n",
        "* age – Age of the employee\n",
        "* gender – Gender of the employee\n",
        "* marital_status – Marital Status of the employee\n",
        "---\n",
        "**employee_work_data**\n",
        "\n",
        "\n",
        "\n",
        "\n",
        "\n",
        "This dataset consists of each employee’s Administrative Information, Workload Information, Mutual Evaluation Information and Status.\n",
        "\n",
        "**Administrative information**\n",
        "\n",
        "* status – Current employment status (Employed / Left)(Target Variable)\n",
        "* department – Department to which the employees belong(ed) to\n",
        "* salary – Salary level with respect to rest of their department\n",
        "* tenure – Number of years at the company\n",
        "* recently_promoted – Was the employee promoted in the last 3 years?\n",
        "* employee_id – Unique ID Number for each employee\n",
        "\n",
        "**Workload information**\n",
        "\n",
        "* n_projects – Number of projects employee has worked on\n",
        "* avg_monthly_hrs – Average number of hours worked per month\n",
        "\n",
        "**Mutual evaluation information**\n",
        "\n",
        "* satisfaction – Score for employee’s satisfaction with the company (higher is better)\n",
        "* last_evaluation – Score for most recent evaluation of employee (higher is better)\n",
        "* filed_complaint – Has the employee filed a formal complaint in the last 3 years?\n",
        "\n",
        "\n",
        "\n"
      ]
    },
    {
      "cell_type": "code",
      "execution_count": 5,
      "metadata": {
        "id": "TdzuCZajq2h3"
      },
      "outputs": [],
      "source": [
        "import mysql.connector as connection\n",
        "try:\n",
        "  mydb=connection.connect(host=\"cpanel.insaid.co\", database=\"Capstone2\",user=\"student\", \n",
        "                          passwd=\"student\")\n",
        "  query=\"select * from department_data\"\n",
        "  department_data_df=pd.read_sql(query,mydb)\n",
        "  # mydb.close()\n",
        "  query=\"select * from employee_details_data\"\n",
        "  employee_data_df=pd.read_sql(query,mydb)\n",
        "  # mydb.close()\n",
        "  query=\"select * from employee_data\"\n",
        "  employee_work_data_df=pd.read_sql(query,mydb)\n",
        "  # mydb.close()\n",
        "except Exception as e:\n",
        "  mydb.close()\n",
        "  print(\"Error Occured\", e)"
      ]
    },
    {
      "cell_type": "code",
      "execution_count": 6,
      "metadata": {
        "colab": {
          "base_uri": "https://localhost:8080/"
        },
        "id": "pZX6dan9TsSm",
        "outputId": "c3c82592-cb52-4ed7-b4dc-2fb67ed0b17b"
      },
      "outputs": [
        {
          "output_type": "stream",
          "name": "stdout",
          "text": [
            "<class 'pandas.core.frame.DataFrame'>\n",
            "RangeIndex: 11 entries, 0 to 10\n",
            "Data columns (total 3 columns):\n",
            " #   Column     Non-Null Count  Dtype \n",
            "---  ------     --------------  ----- \n",
            " 0   dept_id    11 non-null     object\n",
            " 1   dept_name  11 non-null     object\n",
            " 2   dept_head  11 non-null     object\n",
            "dtypes: object(3)\n",
            "memory usage: 392.0+ bytes\n"
          ]
        }
      ],
      "source": [
        "department_data_df.info()"
      ]
    },
    {
      "cell_type": "markdown",
      "source": [
        "### **department_data_df**"
      ],
      "metadata": {
        "id": "cMIadUG3Y_lt"
      }
    },
    {
      "cell_type": "code",
      "source": [
        "department_data_df"
      ],
      "metadata": {
        "colab": {
          "base_uri": "https://localhost:8080/",
          "height": 394
        },
        "id": "93JHl6-2P1PB",
        "outputId": "e458a740-0d5a-41dd-d5ac-cc3832029db4"
      },
      "execution_count": 7,
      "outputs": [
        {
          "output_type": "execute_result",
          "data": {
            "text/plain": [
              "    dept_id    dept_name              dept_head\n",
              "0    D00-IT           IT             Henry Adey\n",
              "1    D00-SS        Sales        Edward J Bayley\n",
              "2    D00-TP         Temp        Micheal Zachrey\n",
              "3   D00-ENG  Engineering  Sushant Raghunathan K\n",
              "4    D00-SP      Support         Amelia Westray\n",
              "5    D00-FN      Finance              Aanchal J\n",
              "6    D00-PR  Procurement            Louie Viles\n",
              "7    D00-AD        Admin          Evelyn Tolson\n",
              "8    D00-MN   Management          Ellie Trafton\n",
              "9    D00-MT    Marketing           Reuben Swann\n",
              "10   D00-PD      Product          Darcy Staines"
            ],
            "text/html": [
              "\n",
              "  <div id=\"df-2eceaf72-4d75-4280-805b-a1d32fff77ec\">\n",
              "    <div class=\"colab-df-container\">\n",
              "      <div>\n",
              "<style scoped>\n",
              "    .dataframe tbody tr th:only-of-type {\n",
              "        vertical-align: middle;\n",
              "    }\n",
              "\n",
              "    .dataframe tbody tr th {\n",
              "        vertical-align: top;\n",
              "    }\n",
              "\n",
              "    .dataframe thead th {\n",
              "        text-align: right;\n",
              "    }\n",
              "</style>\n",
              "<table border=\"1\" class=\"dataframe\">\n",
              "  <thead>\n",
              "    <tr style=\"text-align: right;\">\n",
              "      <th></th>\n",
              "      <th>dept_id</th>\n",
              "      <th>dept_name</th>\n",
              "      <th>dept_head</th>\n",
              "    </tr>\n",
              "  </thead>\n",
              "  <tbody>\n",
              "    <tr>\n",
              "      <th>0</th>\n",
              "      <td>D00-IT</td>\n",
              "      <td>IT</td>\n",
              "      <td>Henry Adey</td>\n",
              "    </tr>\n",
              "    <tr>\n",
              "      <th>1</th>\n",
              "      <td>D00-SS</td>\n",
              "      <td>Sales</td>\n",
              "      <td>Edward J Bayley</td>\n",
              "    </tr>\n",
              "    <tr>\n",
              "      <th>2</th>\n",
              "      <td>D00-TP</td>\n",
              "      <td>Temp</td>\n",
              "      <td>Micheal Zachrey</td>\n",
              "    </tr>\n",
              "    <tr>\n",
              "      <th>3</th>\n",
              "      <td>D00-ENG</td>\n",
              "      <td>Engineering</td>\n",
              "      <td>Sushant Raghunathan K</td>\n",
              "    </tr>\n",
              "    <tr>\n",
              "      <th>4</th>\n",
              "      <td>D00-SP</td>\n",
              "      <td>Support</td>\n",
              "      <td>Amelia Westray</td>\n",
              "    </tr>\n",
              "    <tr>\n",
              "      <th>5</th>\n",
              "      <td>D00-FN</td>\n",
              "      <td>Finance</td>\n",
              "      <td>Aanchal J</td>\n",
              "    </tr>\n",
              "    <tr>\n",
              "      <th>6</th>\n",
              "      <td>D00-PR</td>\n",
              "      <td>Procurement</td>\n",
              "      <td>Louie Viles</td>\n",
              "    </tr>\n",
              "    <tr>\n",
              "      <th>7</th>\n",
              "      <td>D00-AD</td>\n",
              "      <td>Admin</td>\n",
              "      <td>Evelyn Tolson</td>\n",
              "    </tr>\n",
              "    <tr>\n",
              "      <th>8</th>\n",
              "      <td>D00-MN</td>\n",
              "      <td>Management</td>\n",
              "      <td>Ellie Trafton</td>\n",
              "    </tr>\n",
              "    <tr>\n",
              "      <th>9</th>\n",
              "      <td>D00-MT</td>\n",
              "      <td>Marketing</td>\n",
              "      <td>Reuben Swann</td>\n",
              "    </tr>\n",
              "    <tr>\n",
              "      <th>10</th>\n",
              "      <td>D00-PD</td>\n",
              "      <td>Product</td>\n",
              "      <td>Darcy Staines</td>\n",
              "    </tr>\n",
              "  </tbody>\n",
              "</table>\n",
              "</div>\n",
              "      <button class=\"colab-df-convert\" onclick=\"convertToInteractive('df-2eceaf72-4d75-4280-805b-a1d32fff77ec')\"\n",
              "              title=\"Convert this dataframe to an interactive table.\"\n",
              "              style=\"display:none;\">\n",
              "        \n",
              "  <svg xmlns=\"http://www.w3.org/2000/svg\" height=\"24px\"viewBox=\"0 0 24 24\"\n",
              "       width=\"24px\">\n",
              "    <path d=\"M0 0h24v24H0V0z\" fill=\"none\"/>\n",
              "    <path d=\"M18.56 5.44l.94 2.06.94-2.06 2.06-.94-2.06-.94-.94-2.06-.94 2.06-2.06.94zm-11 1L8.5 8.5l.94-2.06 2.06-.94-2.06-.94L8.5 2.5l-.94 2.06-2.06.94zm10 10l.94 2.06.94-2.06 2.06-.94-2.06-.94-.94-2.06-.94 2.06-2.06.94z\"/><path d=\"M17.41 7.96l-1.37-1.37c-.4-.4-.92-.59-1.43-.59-.52 0-1.04.2-1.43.59L10.3 9.45l-7.72 7.72c-.78.78-.78 2.05 0 2.83L4 21.41c.39.39.9.59 1.41.59.51 0 1.02-.2 1.41-.59l7.78-7.78 2.81-2.81c.8-.78.8-2.07 0-2.86zM5.41 20L4 18.59l7.72-7.72 1.47 1.35L5.41 20z\"/>\n",
              "  </svg>\n",
              "      </button>\n",
              "      \n",
              "  <style>\n",
              "    .colab-df-container {\n",
              "      display:flex;\n",
              "      flex-wrap:wrap;\n",
              "      gap: 12px;\n",
              "    }\n",
              "\n",
              "    .colab-df-convert {\n",
              "      background-color: #E8F0FE;\n",
              "      border: none;\n",
              "      border-radius: 50%;\n",
              "      cursor: pointer;\n",
              "      display: none;\n",
              "      fill: #1967D2;\n",
              "      height: 32px;\n",
              "      padding: 0 0 0 0;\n",
              "      width: 32px;\n",
              "    }\n",
              "\n",
              "    .colab-df-convert:hover {\n",
              "      background-color: #E2EBFA;\n",
              "      box-shadow: 0px 1px 2px rgba(60, 64, 67, 0.3), 0px 1px 3px 1px rgba(60, 64, 67, 0.15);\n",
              "      fill: #174EA6;\n",
              "    }\n",
              "\n",
              "    [theme=dark] .colab-df-convert {\n",
              "      background-color: #3B4455;\n",
              "      fill: #D2E3FC;\n",
              "    }\n",
              "\n",
              "    [theme=dark] .colab-df-convert:hover {\n",
              "      background-color: #434B5C;\n",
              "      box-shadow: 0px 1px 3px 1px rgba(0, 0, 0, 0.15);\n",
              "      filter: drop-shadow(0px 1px 2px rgba(0, 0, 0, 0.3));\n",
              "      fill: #FFFFFF;\n",
              "    }\n",
              "  </style>\n",
              "\n",
              "      <script>\n",
              "        const buttonEl =\n",
              "          document.querySelector('#df-2eceaf72-4d75-4280-805b-a1d32fff77ec button.colab-df-convert');\n",
              "        buttonEl.style.display =\n",
              "          google.colab.kernel.accessAllowed ? 'block' : 'none';\n",
              "\n",
              "        async function convertToInteractive(key) {\n",
              "          const element = document.querySelector('#df-2eceaf72-4d75-4280-805b-a1d32fff77ec');\n",
              "          const dataTable =\n",
              "            await google.colab.kernel.invokeFunction('convertToInteractive',\n",
              "                                                     [key], {});\n",
              "          if (!dataTable) return;\n",
              "\n",
              "          const docLinkHtml = 'Like what you see? Visit the ' +\n",
              "            '<a target=\"_blank\" href=https://colab.research.google.com/notebooks/data_table.ipynb>data table notebook</a>'\n",
              "            + ' to learn more about interactive tables.';\n",
              "          element.innerHTML = '';\n",
              "          dataTable['output_type'] = 'display_data';\n",
              "          await google.colab.output.renderOutput(dataTable, element);\n",
              "          const docLink = document.createElement('div');\n",
              "          docLink.innerHTML = docLinkHtml;\n",
              "          element.appendChild(docLink);\n",
              "        }\n",
              "      </script>\n",
              "    </div>\n",
              "  </div>\n",
              "  "
            ]
          },
          "metadata": {},
          "execution_count": 7
        }
      ]
    },
    {
      "cell_type": "markdown",
      "source": [
        "### **employee_data_df**"
      ],
      "metadata": {
        "id": "Cl1XC3IJZQyX"
      }
    },
    {
      "cell_type": "code",
      "source": [
        "employee_data_df.info()"
      ],
      "metadata": {
        "colab": {
          "base_uri": "https://localhost:8080/"
        },
        "id": "nVbo9Rhfe9w0",
        "outputId": "7d95a657-aa7d-498b-85b4-21e61eb4a47e"
      },
      "execution_count": 8,
      "outputs": [
        {
          "output_type": "stream",
          "name": "stdout",
          "text": [
            "<class 'pandas.core.frame.DataFrame'>\n",
            "RangeIndex: 14245 entries, 0 to 14244\n",
            "Data columns (total 4 columns):\n",
            " #   Column          Non-Null Count  Dtype \n",
            "---  ------          --------------  ----- \n",
            " 0   employee_id     14245 non-null  int64 \n",
            " 1   age             14245 non-null  int64 \n",
            " 2   gender          14245 non-null  object\n",
            " 3   marital_status  14245 non-null  object\n",
            "dtypes: int64(2), object(2)\n",
            "memory usage: 445.3+ KB\n"
          ]
        }
      ]
    },
    {
      "cell_type": "code",
      "source": [
        "employee_data_df.describe()"
      ],
      "metadata": {
        "colab": {
          "base_uri": "https://localhost:8080/",
          "height": 300
        },
        "id": "T1vjNiZeQh4f",
        "outputId": "5aadc1fa-0fee-4e1c-a2d5-1ea725c3cb18"
      },
      "execution_count": 9,
      "outputs": [
        {
          "output_type": "execute_result",
          "data": {
            "text/plain": [
              "         employee_id           age\n",
              "count   14245.000000  14245.000000\n",
              "mean   112123.050544     32.889926\n",
              "std      8500.457343      9.970834\n",
              "min    100101.000000     22.000000\n",
              "25%    105775.000000     24.000000\n",
              "50%    111298.000000     29.000000\n",
              "75%    116658.000000     41.000000\n",
              "max    148988.000000     57.000000"
            ],
            "text/html": [
              "\n",
              "  <div id=\"df-a254ccf1-ab4e-40d3-8b72-a88384b2f34e\">\n",
              "    <div class=\"colab-df-container\">\n",
              "      <div>\n",
              "<style scoped>\n",
              "    .dataframe tbody tr th:only-of-type {\n",
              "        vertical-align: middle;\n",
              "    }\n",
              "\n",
              "    .dataframe tbody tr th {\n",
              "        vertical-align: top;\n",
              "    }\n",
              "\n",
              "    .dataframe thead th {\n",
              "        text-align: right;\n",
              "    }\n",
              "</style>\n",
              "<table border=\"1\" class=\"dataframe\">\n",
              "  <thead>\n",
              "    <tr style=\"text-align: right;\">\n",
              "      <th></th>\n",
              "      <th>employee_id</th>\n",
              "      <th>age</th>\n",
              "    </tr>\n",
              "  </thead>\n",
              "  <tbody>\n",
              "    <tr>\n",
              "      <th>count</th>\n",
              "      <td>14245.000000</td>\n",
              "      <td>14245.000000</td>\n",
              "    </tr>\n",
              "    <tr>\n",
              "      <th>mean</th>\n",
              "      <td>112123.050544</td>\n",
              "      <td>32.889926</td>\n",
              "    </tr>\n",
              "    <tr>\n",
              "      <th>std</th>\n",
              "      <td>8500.457343</td>\n",
              "      <td>9.970834</td>\n",
              "    </tr>\n",
              "    <tr>\n",
              "      <th>min</th>\n",
              "      <td>100101.000000</td>\n",
              "      <td>22.000000</td>\n",
              "    </tr>\n",
              "    <tr>\n",
              "      <th>25%</th>\n",
              "      <td>105775.000000</td>\n",
              "      <td>24.000000</td>\n",
              "    </tr>\n",
              "    <tr>\n",
              "      <th>50%</th>\n",
              "      <td>111298.000000</td>\n",
              "      <td>29.000000</td>\n",
              "    </tr>\n",
              "    <tr>\n",
              "      <th>75%</th>\n",
              "      <td>116658.000000</td>\n",
              "      <td>41.000000</td>\n",
              "    </tr>\n",
              "    <tr>\n",
              "      <th>max</th>\n",
              "      <td>148988.000000</td>\n",
              "      <td>57.000000</td>\n",
              "    </tr>\n",
              "  </tbody>\n",
              "</table>\n",
              "</div>\n",
              "      <button class=\"colab-df-convert\" onclick=\"convertToInteractive('df-a254ccf1-ab4e-40d3-8b72-a88384b2f34e')\"\n",
              "              title=\"Convert this dataframe to an interactive table.\"\n",
              "              style=\"display:none;\">\n",
              "        \n",
              "  <svg xmlns=\"http://www.w3.org/2000/svg\" height=\"24px\"viewBox=\"0 0 24 24\"\n",
              "       width=\"24px\">\n",
              "    <path d=\"M0 0h24v24H0V0z\" fill=\"none\"/>\n",
              "    <path d=\"M18.56 5.44l.94 2.06.94-2.06 2.06-.94-2.06-.94-.94-2.06-.94 2.06-2.06.94zm-11 1L8.5 8.5l.94-2.06 2.06-.94-2.06-.94L8.5 2.5l-.94 2.06-2.06.94zm10 10l.94 2.06.94-2.06 2.06-.94-2.06-.94-.94-2.06-.94 2.06-2.06.94z\"/><path d=\"M17.41 7.96l-1.37-1.37c-.4-.4-.92-.59-1.43-.59-.52 0-1.04.2-1.43.59L10.3 9.45l-7.72 7.72c-.78.78-.78 2.05 0 2.83L4 21.41c.39.39.9.59 1.41.59.51 0 1.02-.2 1.41-.59l7.78-7.78 2.81-2.81c.8-.78.8-2.07 0-2.86zM5.41 20L4 18.59l7.72-7.72 1.47 1.35L5.41 20z\"/>\n",
              "  </svg>\n",
              "      </button>\n",
              "      \n",
              "  <style>\n",
              "    .colab-df-container {\n",
              "      display:flex;\n",
              "      flex-wrap:wrap;\n",
              "      gap: 12px;\n",
              "    }\n",
              "\n",
              "    .colab-df-convert {\n",
              "      background-color: #E8F0FE;\n",
              "      border: none;\n",
              "      border-radius: 50%;\n",
              "      cursor: pointer;\n",
              "      display: none;\n",
              "      fill: #1967D2;\n",
              "      height: 32px;\n",
              "      padding: 0 0 0 0;\n",
              "      width: 32px;\n",
              "    }\n",
              "\n",
              "    .colab-df-convert:hover {\n",
              "      background-color: #E2EBFA;\n",
              "      box-shadow: 0px 1px 2px rgba(60, 64, 67, 0.3), 0px 1px 3px 1px rgba(60, 64, 67, 0.15);\n",
              "      fill: #174EA6;\n",
              "    }\n",
              "\n",
              "    [theme=dark] .colab-df-convert {\n",
              "      background-color: #3B4455;\n",
              "      fill: #D2E3FC;\n",
              "    }\n",
              "\n",
              "    [theme=dark] .colab-df-convert:hover {\n",
              "      background-color: #434B5C;\n",
              "      box-shadow: 0px 1px 3px 1px rgba(0, 0, 0, 0.15);\n",
              "      filter: drop-shadow(0px 1px 2px rgba(0, 0, 0, 0.3));\n",
              "      fill: #FFFFFF;\n",
              "    }\n",
              "  </style>\n",
              "\n",
              "      <script>\n",
              "        const buttonEl =\n",
              "          document.querySelector('#df-a254ccf1-ab4e-40d3-8b72-a88384b2f34e button.colab-df-convert');\n",
              "        buttonEl.style.display =\n",
              "          google.colab.kernel.accessAllowed ? 'block' : 'none';\n",
              "\n",
              "        async function convertToInteractive(key) {\n",
              "          const element = document.querySelector('#df-a254ccf1-ab4e-40d3-8b72-a88384b2f34e');\n",
              "          const dataTable =\n",
              "            await google.colab.kernel.invokeFunction('convertToInteractive',\n",
              "                                                     [key], {});\n",
              "          if (!dataTable) return;\n",
              "\n",
              "          const docLinkHtml = 'Like what you see? Visit the ' +\n",
              "            '<a target=\"_blank\" href=https://colab.research.google.com/notebooks/data_table.ipynb>data table notebook</a>'\n",
              "            + ' to learn more about interactive tables.';\n",
              "          element.innerHTML = '';\n",
              "          dataTable['output_type'] = 'display_data';\n",
              "          await google.colab.output.renderOutput(dataTable, element);\n",
              "          const docLink = document.createElement('div');\n",
              "          docLink.innerHTML = docLinkHtml;\n",
              "          element.appendChild(docLink);\n",
              "        }\n",
              "      </script>\n",
              "    </div>\n",
              "  </div>\n",
              "  "
            ]
          },
          "metadata": {},
          "execution_count": 9
        }
      ]
    },
    {
      "cell_type": "markdown",
      "source": [
        "### **employee_work_data_df**"
      ],
      "metadata": {
        "id": "iM47YwYuZr3A"
      }
    },
    {
      "cell_type": "code",
      "source": [
        "employee_work_data_df.info()"
      ],
      "metadata": {
        "colab": {
          "base_uri": "https://localhost:8080/"
        },
        "id": "Zok5OnCtfDUk",
        "outputId": "e760d04b-8a87-45ff-cedb-7b2da9af6eba"
      },
      "execution_count": 10,
      "outputs": [
        {
          "output_type": "stream",
          "name": "stdout",
          "text": [
            "<class 'pandas.core.frame.DataFrame'>\n",
            "RangeIndex: 14150 entries, 0 to 14149\n",
            "Data columns (total 11 columns):\n",
            " #   Column             Non-Null Count  Dtype  \n",
            "---  ------             --------------  -----  \n",
            " 0   avg_monthly_hrs    14150 non-null  float64\n",
            " 1   department         13443 non-null  object \n",
            " 2   filed_complaint    2046 non-null   float64\n",
            " 3   last_evaluation    12663 non-null  float64\n",
            " 4   n_projects         14150 non-null  int64  \n",
            " 5   recently_promoted  297 non-null    float64\n",
            " 6   salary             14150 non-null  object \n",
            " 7   satisfaction       14000 non-null  float64\n",
            " 8   status             14150 non-null  object \n",
            " 9   tenure             14000 non-null  float64\n",
            " 10  employee_id        14150 non-null  int64  \n",
            "dtypes: float64(6), int64(2), object(3)\n",
            "memory usage: 1.2+ MB\n"
          ]
        }
      ]
    },
    {
      "cell_type": "code",
      "source": [
        "employee_work_data_df.head(5)"
      ],
      "metadata": {
        "colab": {
          "base_uri": "https://localhost:8080/",
          "height": 270
        },
        "id": "Zrp7gIEDRMeg",
        "outputId": "94505379-98a2-4279-adc0-6c27d829d825"
      },
      "execution_count": 11,
      "outputs": [
        {
          "output_type": "execute_result",
          "data": {
            "text/plain": [
              "   avg_monthly_hrs department  filed_complaint  last_evaluation  n_projects  \\\n",
              "0            246.0       None              NaN         0.866838           6   \n",
              "1            134.0       None              NaN         0.555718           2   \n",
              "2            156.0     D00-SS              1.0         0.474082           2   \n",
              "3            256.0     D00-SP              NaN         0.961360           6   \n",
              "4            146.0     D00-SS              NaN         0.507349           2   \n",
              "\n",
              "   recently_promoted  salary  satisfaction status  tenure  employee_id  \n",
              "0                NaN  medium      0.134415   Left     4.0       124467  \n",
              "1                NaN     low      0.511041   Left     3.0       112210  \n",
              "2                NaN  medium      0.405101   Left     3.0       126150  \n",
              "3                NaN     low      0.152974   Left     4.0       125346  \n",
              "4                NaN  medium      0.434845   Left     3.0       113707  "
            ],
            "text/html": [
              "\n",
              "  <div id=\"df-54aed671-c892-453d-8bf3-cb6f6708023c\">\n",
              "    <div class=\"colab-df-container\">\n",
              "      <div>\n",
              "<style scoped>\n",
              "    .dataframe tbody tr th:only-of-type {\n",
              "        vertical-align: middle;\n",
              "    }\n",
              "\n",
              "    .dataframe tbody tr th {\n",
              "        vertical-align: top;\n",
              "    }\n",
              "\n",
              "    .dataframe thead th {\n",
              "        text-align: right;\n",
              "    }\n",
              "</style>\n",
              "<table border=\"1\" class=\"dataframe\">\n",
              "  <thead>\n",
              "    <tr style=\"text-align: right;\">\n",
              "      <th></th>\n",
              "      <th>avg_monthly_hrs</th>\n",
              "      <th>department</th>\n",
              "      <th>filed_complaint</th>\n",
              "      <th>last_evaluation</th>\n",
              "      <th>n_projects</th>\n",
              "      <th>recently_promoted</th>\n",
              "      <th>salary</th>\n",
              "      <th>satisfaction</th>\n",
              "      <th>status</th>\n",
              "      <th>tenure</th>\n",
              "      <th>employee_id</th>\n",
              "    </tr>\n",
              "  </thead>\n",
              "  <tbody>\n",
              "    <tr>\n",
              "      <th>0</th>\n",
              "      <td>246.0</td>\n",
              "      <td>None</td>\n",
              "      <td>NaN</td>\n",
              "      <td>0.866838</td>\n",
              "      <td>6</td>\n",
              "      <td>NaN</td>\n",
              "      <td>medium</td>\n",
              "      <td>0.134415</td>\n",
              "      <td>Left</td>\n",
              "      <td>4.0</td>\n",
              "      <td>124467</td>\n",
              "    </tr>\n",
              "    <tr>\n",
              "      <th>1</th>\n",
              "      <td>134.0</td>\n",
              "      <td>None</td>\n",
              "      <td>NaN</td>\n",
              "      <td>0.555718</td>\n",
              "      <td>2</td>\n",
              "      <td>NaN</td>\n",
              "      <td>low</td>\n",
              "      <td>0.511041</td>\n",
              "      <td>Left</td>\n",
              "      <td>3.0</td>\n",
              "      <td>112210</td>\n",
              "    </tr>\n",
              "    <tr>\n",
              "      <th>2</th>\n",
              "      <td>156.0</td>\n",
              "      <td>D00-SS</td>\n",
              "      <td>1.0</td>\n",
              "      <td>0.474082</td>\n",
              "      <td>2</td>\n",
              "      <td>NaN</td>\n",
              "      <td>medium</td>\n",
              "      <td>0.405101</td>\n",
              "      <td>Left</td>\n",
              "      <td>3.0</td>\n",
              "      <td>126150</td>\n",
              "    </tr>\n",
              "    <tr>\n",
              "      <th>3</th>\n",
              "      <td>256.0</td>\n",
              "      <td>D00-SP</td>\n",
              "      <td>NaN</td>\n",
              "      <td>0.961360</td>\n",
              "      <td>6</td>\n",
              "      <td>NaN</td>\n",
              "      <td>low</td>\n",
              "      <td>0.152974</td>\n",
              "      <td>Left</td>\n",
              "      <td>4.0</td>\n",
              "      <td>125346</td>\n",
              "    </tr>\n",
              "    <tr>\n",
              "      <th>4</th>\n",
              "      <td>146.0</td>\n",
              "      <td>D00-SS</td>\n",
              "      <td>NaN</td>\n",
              "      <td>0.507349</td>\n",
              "      <td>2</td>\n",
              "      <td>NaN</td>\n",
              "      <td>medium</td>\n",
              "      <td>0.434845</td>\n",
              "      <td>Left</td>\n",
              "      <td>3.0</td>\n",
              "      <td>113707</td>\n",
              "    </tr>\n",
              "  </tbody>\n",
              "</table>\n",
              "</div>\n",
              "      <button class=\"colab-df-convert\" onclick=\"convertToInteractive('df-54aed671-c892-453d-8bf3-cb6f6708023c')\"\n",
              "              title=\"Convert this dataframe to an interactive table.\"\n",
              "              style=\"display:none;\">\n",
              "        \n",
              "  <svg xmlns=\"http://www.w3.org/2000/svg\" height=\"24px\"viewBox=\"0 0 24 24\"\n",
              "       width=\"24px\">\n",
              "    <path d=\"M0 0h24v24H0V0z\" fill=\"none\"/>\n",
              "    <path d=\"M18.56 5.44l.94 2.06.94-2.06 2.06-.94-2.06-.94-.94-2.06-.94 2.06-2.06.94zm-11 1L8.5 8.5l.94-2.06 2.06-.94-2.06-.94L8.5 2.5l-.94 2.06-2.06.94zm10 10l.94 2.06.94-2.06 2.06-.94-2.06-.94-.94-2.06-.94 2.06-2.06.94z\"/><path d=\"M17.41 7.96l-1.37-1.37c-.4-.4-.92-.59-1.43-.59-.52 0-1.04.2-1.43.59L10.3 9.45l-7.72 7.72c-.78.78-.78 2.05 0 2.83L4 21.41c.39.39.9.59 1.41.59.51 0 1.02-.2 1.41-.59l7.78-7.78 2.81-2.81c.8-.78.8-2.07 0-2.86zM5.41 20L4 18.59l7.72-7.72 1.47 1.35L5.41 20z\"/>\n",
              "  </svg>\n",
              "      </button>\n",
              "      \n",
              "  <style>\n",
              "    .colab-df-container {\n",
              "      display:flex;\n",
              "      flex-wrap:wrap;\n",
              "      gap: 12px;\n",
              "    }\n",
              "\n",
              "    .colab-df-convert {\n",
              "      background-color: #E8F0FE;\n",
              "      border: none;\n",
              "      border-radius: 50%;\n",
              "      cursor: pointer;\n",
              "      display: none;\n",
              "      fill: #1967D2;\n",
              "      height: 32px;\n",
              "      padding: 0 0 0 0;\n",
              "      width: 32px;\n",
              "    }\n",
              "\n",
              "    .colab-df-convert:hover {\n",
              "      background-color: #E2EBFA;\n",
              "      box-shadow: 0px 1px 2px rgba(60, 64, 67, 0.3), 0px 1px 3px 1px rgba(60, 64, 67, 0.15);\n",
              "      fill: #174EA6;\n",
              "    }\n",
              "\n",
              "    [theme=dark] .colab-df-convert {\n",
              "      background-color: #3B4455;\n",
              "      fill: #D2E3FC;\n",
              "    }\n",
              "\n",
              "    [theme=dark] .colab-df-convert:hover {\n",
              "      background-color: #434B5C;\n",
              "      box-shadow: 0px 1px 3px 1px rgba(0, 0, 0, 0.15);\n",
              "      filter: drop-shadow(0px 1px 2px rgba(0, 0, 0, 0.3));\n",
              "      fill: #FFFFFF;\n",
              "    }\n",
              "  </style>\n",
              "\n",
              "      <script>\n",
              "        const buttonEl =\n",
              "          document.querySelector('#df-54aed671-c892-453d-8bf3-cb6f6708023c button.colab-df-convert');\n",
              "        buttonEl.style.display =\n",
              "          google.colab.kernel.accessAllowed ? 'block' : 'none';\n",
              "\n",
              "        async function convertToInteractive(key) {\n",
              "          const element = document.querySelector('#df-54aed671-c892-453d-8bf3-cb6f6708023c');\n",
              "          const dataTable =\n",
              "            await google.colab.kernel.invokeFunction('convertToInteractive',\n",
              "                                                     [key], {});\n",
              "          if (!dataTable) return;\n",
              "\n",
              "          const docLinkHtml = 'Like what you see? Visit the ' +\n",
              "            '<a target=\"_blank\" href=https://colab.research.google.com/notebooks/data_table.ipynb>data table notebook</a>'\n",
              "            + ' to learn more about interactive tables.';\n",
              "          element.innerHTML = '';\n",
              "          dataTable['output_type'] = 'display_data';\n",
              "          await google.colab.output.renderOutput(dataTable, element);\n",
              "          const docLink = document.createElement('div');\n",
              "          docLink.innerHTML = docLinkHtml;\n",
              "          element.appendChild(docLink);\n",
              "        }\n",
              "      </script>\n",
              "    </div>\n",
              "  </div>\n",
              "  "
            ]
          },
          "metadata": {},
          "execution_count": 11
        }
      ]
    },
    {
      "cell_type": "markdown",
      "source": [
        "### **Load Test Data**"
      ],
      "metadata": {
        "id": "cp6U-AhgpCBd"
      }
    },
    {
      "cell_type": "code",
      "source": [
        "dataValidation= pd.read_excel(\"/content/drive/MyDrive/Colab Notebooks/Dataset/GCD_Capstone_Project_unseen_data.xlsx\")\n",
        "\n",
        "empId=dataValidation.employee_id\n",
        "dataValidation=dataValidation.drop(\"employee_id\",axis=1)\n",
        "dataValidation.info()"
      ],
      "metadata": {
        "colab": {
          "base_uri": "https://localhost:8080/"
        },
        "id": "rktwhQlU3XNv",
        "outputId": "142c6598-0d4e-4a22-a8a6-579278574b4e"
      },
      "execution_count": 12,
      "outputs": [
        {
          "output_type": "stream",
          "name": "stdout",
          "text": [
            "<class 'pandas.core.frame.DataFrame'>\n",
            "RangeIndex: 100 entries, 0 to 99\n",
            "Data columns (total 9 columns):\n",
            " #   Column             Non-Null Count  Dtype  \n",
            "---  ------             --------------  -----  \n",
            " 0   avg_monthly_hrs    100 non-null    int64  \n",
            " 1   department         98 non-null     object \n",
            " 2   filed_complaint    15 non-null     float64\n",
            " 3   last_evaluation    83 non-null     float64\n",
            " 4   n_projects         100 non-null    int64  \n",
            " 5   recently_promoted  3 non-null      float64\n",
            " 6   salary             100 non-null    object \n",
            " 7   satisfaction       97 non-null     float64\n",
            " 8   tenure             97 non-null     float64\n",
            "dtypes: float64(5), int64(2), object(2)\n",
            "memory usage: 7.2+ KB\n"
          ]
        }
      ]
    },
    {
      "cell_type": "markdown",
      "source": [
        "### **Observations and Action**\n",
        "1. filed_complaint and recently_promoted is a categorical variable hence will be converting it to object type"
      ],
      "metadata": {
        "id": "zQM3v5QSM1rK"
      }
    },
    {
      "cell_type": "code",
      "source": [
        "employee_work_data_df[[\"filed_complaint\",\"recently_promoted\"]]=\\\n",
        "employee_work_data_df[[\"filed_complaint\",\"recently_promoted\"]].astype(\"object\")\n",
        "dataValidation[[\"filed_complaint\",\"recently_promoted\"]]=\\\n",
        "dataValidation[[\"filed_complaint\",\"recently_promoted\"]].astype(\"object\")"
      ],
      "metadata": {
        "id": "YShS__54NLg7"
      },
      "execution_count": 13,
      "outputs": []
    },
    {
      "cell_type": "code",
      "source": [
        "employee_work_data_df.describe()"
      ],
      "metadata": {
        "colab": {
          "base_uri": "https://localhost:8080/",
          "height": 300
        },
        "id": "T9v3Igu5RyzX",
        "outputId": "6a7a1d2a-b04c-49f7-bd31-b9ce356ccdcc"
      },
      "execution_count": 14,
      "outputs": [
        {
          "output_type": "execute_result",
          "data": {
            "text/plain": [
              "       avg_monthly_hrs  last_evaluation    n_projects  satisfaction  \\\n",
              "count     14150.000000     12663.000000  14150.000000  14000.000000   \n",
              "mean        199.994346         0.718399      3.778304      0.621212   \n",
              "std          50.833697         0.173108      1.250162      0.250482   \n",
              "min          49.000000         0.316175      1.000000      0.040058   \n",
              "25%         155.000000         0.563711      3.000000      0.450356   \n",
              "50%         199.000000         0.724731      4.000000      0.652394   \n",
              "75%         245.000000         0.871409      5.000000      0.824925   \n",
              "max         310.000000         1.000000      7.000000      1.000000   \n",
              "\n",
              "             tenure    employee_id  \n",
              "count  14000.000000   14150.000000  \n",
              "mean       3.499357  112080.750247  \n",
              "std        1.462584    8748.202856  \n",
              "min        2.000000       0.000000  \n",
              "25%        3.000000  105772.500000  \n",
              "50%        3.000000  111291.500000  \n",
              "75%        4.000000  116650.750000  \n",
              "max       10.000000  148988.000000  "
            ],
            "text/html": [
              "\n",
              "  <div id=\"df-d6032a51-9b4a-4935-99a4-5ea5e5ff8254\">\n",
              "    <div class=\"colab-df-container\">\n",
              "      <div>\n",
              "<style scoped>\n",
              "    .dataframe tbody tr th:only-of-type {\n",
              "        vertical-align: middle;\n",
              "    }\n",
              "\n",
              "    .dataframe tbody tr th {\n",
              "        vertical-align: top;\n",
              "    }\n",
              "\n",
              "    .dataframe thead th {\n",
              "        text-align: right;\n",
              "    }\n",
              "</style>\n",
              "<table border=\"1\" class=\"dataframe\">\n",
              "  <thead>\n",
              "    <tr style=\"text-align: right;\">\n",
              "      <th></th>\n",
              "      <th>avg_monthly_hrs</th>\n",
              "      <th>last_evaluation</th>\n",
              "      <th>n_projects</th>\n",
              "      <th>satisfaction</th>\n",
              "      <th>tenure</th>\n",
              "      <th>employee_id</th>\n",
              "    </tr>\n",
              "  </thead>\n",
              "  <tbody>\n",
              "    <tr>\n",
              "      <th>count</th>\n",
              "      <td>14150.000000</td>\n",
              "      <td>12663.000000</td>\n",
              "      <td>14150.000000</td>\n",
              "      <td>14000.000000</td>\n",
              "      <td>14000.000000</td>\n",
              "      <td>14150.000000</td>\n",
              "    </tr>\n",
              "    <tr>\n",
              "      <th>mean</th>\n",
              "      <td>199.994346</td>\n",
              "      <td>0.718399</td>\n",
              "      <td>3.778304</td>\n",
              "      <td>0.621212</td>\n",
              "      <td>3.499357</td>\n",
              "      <td>112080.750247</td>\n",
              "    </tr>\n",
              "    <tr>\n",
              "      <th>std</th>\n",
              "      <td>50.833697</td>\n",
              "      <td>0.173108</td>\n",
              "      <td>1.250162</td>\n",
              "      <td>0.250482</td>\n",
              "      <td>1.462584</td>\n",
              "      <td>8748.202856</td>\n",
              "    </tr>\n",
              "    <tr>\n",
              "      <th>min</th>\n",
              "      <td>49.000000</td>\n",
              "      <td>0.316175</td>\n",
              "      <td>1.000000</td>\n",
              "      <td>0.040058</td>\n",
              "      <td>2.000000</td>\n",
              "      <td>0.000000</td>\n",
              "    </tr>\n",
              "    <tr>\n",
              "      <th>25%</th>\n",
              "      <td>155.000000</td>\n",
              "      <td>0.563711</td>\n",
              "      <td>3.000000</td>\n",
              "      <td>0.450356</td>\n",
              "      <td>3.000000</td>\n",
              "      <td>105772.500000</td>\n",
              "    </tr>\n",
              "    <tr>\n",
              "      <th>50%</th>\n",
              "      <td>199.000000</td>\n",
              "      <td>0.724731</td>\n",
              "      <td>4.000000</td>\n",
              "      <td>0.652394</td>\n",
              "      <td>3.000000</td>\n",
              "      <td>111291.500000</td>\n",
              "    </tr>\n",
              "    <tr>\n",
              "      <th>75%</th>\n",
              "      <td>245.000000</td>\n",
              "      <td>0.871409</td>\n",
              "      <td>5.000000</td>\n",
              "      <td>0.824925</td>\n",
              "      <td>4.000000</td>\n",
              "      <td>116650.750000</td>\n",
              "    </tr>\n",
              "    <tr>\n",
              "      <th>max</th>\n",
              "      <td>310.000000</td>\n",
              "      <td>1.000000</td>\n",
              "      <td>7.000000</td>\n",
              "      <td>1.000000</td>\n",
              "      <td>10.000000</td>\n",
              "      <td>148988.000000</td>\n",
              "    </tr>\n",
              "  </tbody>\n",
              "</table>\n",
              "</div>\n",
              "      <button class=\"colab-df-convert\" onclick=\"convertToInteractive('df-d6032a51-9b4a-4935-99a4-5ea5e5ff8254')\"\n",
              "              title=\"Convert this dataframe to an interactive table.\"\n",
              "              style=\"display:none;\">\n",
              "        \n",
              "  <svg xmlns=\"http://www.w3.org/2000/svg\" height=\"24px\"viewBox=\"0 0 24 24\"\n",
              "       width=\"24px\">\n",
              "    <path d=\"M0 0h24v24H0V0z\" fill=\"none\"/>\n",
              "    <path d=\"M18.56 5.44l.94 2.06.94-2.06 2.06-.94-2.06-.94-.94-2.06-.94 2.06-2.06.94zm-11 1L8.5 8.5l.94-2.06 2.06-.94-2.06-.94L8.5 2.5l-.94 2.06-2.06.94zm10 10l.94 2.06.94-2.06 2.06-.94-2.06-.94-.94-2.06-.94 2.06-2.06.94z\"/><path d=\"M17.41 7.96l-1.37-1.37c-.4-.4-.92-.59-1.43-.59-.52 0-1.04.2-1.43.59L10.3 9.45l-7.72 7.72c-.78.78-.78 2.05 0 2.83L4 21.41c.39.39.9.59 1.41.59.51 0 1.02-.2 1.41-.59l7.78-7.78 2.81-2.81c.8-.78.8-2.07 0-2.86zM5.41 20L4 18.59l7.72-7.72 1.47 1.35L5.41 20z\"/>\n",
              "  </svg>\n",
              "      </button>\n",
              "      \n",
              "  <style>\n",
              "    .colab-df-container {\n",
              "      display:flex;\n",
              "      flex-wrap:wrap;\n",
              "      gap: 12px;\n",
              "    }\n",
              "\n",
              "    .colab-df-convert {\n",
              "      background-color: #E8F0FE;\n",
              "      border: none;\n",
              "      border-radius: 50%;\n",
              "      cursor: pointer;\n",
              "      display: none;\n",
              "      fill: #1967D2;\n",
              "      height: 32px;\n",
              "      padding: 0 0 0 0;\n",
              "      width: 32px;\n",
              "    }\n",
              "\n",
              "    .colab-df-convert:hover {\n",
              "      background-color: #E2EBFA;\n",
              "      box-shadow: 0px 1px 2px rgba(60, 64, 67, 0.3), 0px 1px 3px 1px rgba(60, 64, 67, 0.15);\n",
              "      fill: #174EA6;\n",
              "    }\n",
              "\n",
              "    [theme=dark] .colab-df-convert {\n",
              "      background-color: #3B4455;\n",
              "      fill: #D2E3FC;\n",
              "    }\n",
              "\n",
              "    [theme=dark] .colab-df-convert:hover {\n",
              "      background-color: #434B5C;\n",
              "      box-shadow: 0px 1px 3px 1px rgba(0, 0, 0, 0.15);\n",
              "      filter: drop-shadow(0px 1px 2px rgba(0, 0, 0, 0.3));\n",
              "      fill: #FFFFFF;\n",
              "    }\n",
              "  </style>\n",
              "\n",
              "      <script>\n",
              "        const buttonEl =\n",
              "          document.querySelector('#df-d6032a51-9b4a-4935-99a4-5ea5e5ff8254 button.colab-df-convert');\n",
              "        buttonEl.style.display =\n",
              "          google.colab.kernel.accessAllowed ? 'block' : 'none';\n",
              "\n",
              "        async function convertToInteractive(key) {\n",
              "          const element = document.querySelector('#df-d6032a51-9b4a-4935-99a4-5ea5e5ff8254');\n",
              "          const dataTable =\n",
              "            await google.colab.kernel.invokeFunction('convertToInteractive',\n",
              "                                                     [key], {});\n",
              "          if (!dataTable) return;\n",
              "\n",
              "          const docLinkHtml = 'Like what you see? Visit the ' +\n",
              "            '<a target=\"_blank\" href=https://colab.research.google.com/notebooks/data_table.ipynb>data table notebook</a>'\n",
              "            + ' to learn more about interactive tables.';\n",
              "          element.innerHTML = '';\n",
              "          dataTable['output_type'] = 'display_data';\n",
              "          await google.colab.output.renderOutput(dataTable, element);\n",
              "          const docLink = document.createElement('div');\n",
              "          docLink.innerHTML = docLinkHtml;\n",
              "          element.appendChild(docLink);\n",
              "        }\n",
              "      </script>\n",
              "    </div>\n",
              "  </div>\n",
              "  "
            ]
          },
          "metadata": {},
          "execution_count": 14
        }
      ]
    },
    {
      "cell_type": "markdown",
      "source": [
        "### **Check Unique Values in each categorical Column for sanity**"
      ],
      "metadata": {
        "id": "g9QSRxsEpjQD"
      }
    },
    {
      "cell_type": "code",
      "source": [
        "for col in employee_work_data_df.select_dtypes(include=\"object\").columns:\n",
        "  print(\"\\033[4m\",col.upper(),\"\\033[0m\\n\", employee_work_data_df[col].value_counts())\n"
      ],
      "metadata": {
        "colab": {
          "base_uri": "https://localhost:8080/"
        },
        "id": "Q9pddAyOaozI",
        "outputId": "bc5d792e-ae96-4dcb-9123-253acbe06487"
      },
      "execution_count": 15,
      "outputs": [
        {
          "output_type": "stream",
          "name": "stdout",
          "text": [
            "\u001b[4m DEPARTMENT \u001b[0m\n",
            " D00-SS     3905\n",
            "D00-ENG    2575\n",
            "D00-SP     2113\n",
            "D00-IT     1157\n",
            "D00-PD      855\n",
            "D00-MT      815\n",
            "D00-FN      725\n",
            "D00-MN      593\n",
            "-IT         207\n",
            "D00-AD      175\n",
            "D00-PR      173\n",
            "D00-TP      150\n",
            "Name: department, dtype: int64\n",
            "\u001b[4m FILED_COMPLAINT \u001b[0m\n",
            " 1.0    2046\n",
            "Name: filed_complaint, dtype: int64\n",
            "\u001b[4m RECENTLY_PROMOTED \u001b[0m\n",
            " 1.0    297\n",
            "Name: recently_promoted, dtype: int64\n",
            "\u001b[4m SALARY \u001b[0m\n",
            " low       6906\n",
            "medium    6101\n",
            "high      1143\n",
            "Name: salary, dtype: int64\n",
            "\u001b[4m STATUS \u001b[0m\n",
            " Employed    10784\n",
            "Left         3366\n",
            "Name: status, dtype: int64\n"
          ]
        }
      ]
    },
    {
      "cell_type": "markdown",
      "source": [
        "### **Observations and Action**\n",
        "1. Department D00-IT is recorded as just -IT for 207 records, needs to updated to D00-IT"
      ],
      "metadata": {
        "id": "stzr1I_QY29G"
      }
    },
    {
      "cell_type": "code",
      "source": [
        "employee_work_data_df.department=employee_work_data_df.department.replace([\"-IT\"],\"D00-IT\")\n",
        "print(employee_work_data_df.department.value_counts())\n",
        "dataValidation.department=employee_work_data_df.department.replace([\"-IT\"],\"D00-IT\")\n",
        "print(dataValidation.department.value_counts())\n"
      ],
      "metadata": {
        "colab": {
          "base_uri": "https://localhost:8080/"
        },
        "id": "6pyRb5EWf2lW",
        "outputId": "5947e141-4cb4-45b6-b724-536033cfbe23"
      },
      "execution_count": 16,
      "outputs": [
        {
          "output_type": "stream",
          "name": "stdout",
          "text": [
            "D00-SS     3905\n",
            "D00-ENG    2575\n",
            "D00-SP     2113\n",
            "D00-IT     1364\n",
            "D00-PD      855\n",
            "D00-MT      815\n",
            "D00-FN      725\n",
            "D00-MN      593\n",
            "D00-AD      175\n",
            "D00-PR      173\n",
            "D00-TP      150\n",
            "Name: department, dtype: int64\n",
            "D00-SS     29\n",
            "D00-SP     16\n",
            "D00-ENG    15\n",
            "D00-MT      9\n",
            "D00-PD      6\n",
            "D00-IT      6\n",
            "D00-AD      4\n",
            "D00-FN      4\n",
            "D00-MN      1\n",
            "D00-PR      1\n",
            "D00-TP      1\n",
            "Name: department, dtype: int64\n"
          ]
        }
      ]
    },
    {
      "cell_type": "markdown",
      "source": [
        "### **Merge Dataframes**"
      ],
      "metadata": {
        "id": "KQtswzEDghNT"
      }
    },
    {
      "cell_type": "code",
      "source": [
        "emp_data = pd.merge(employee_work_data_df, employee_data_df, on='employee_id', how='left')"
      ],
      "metadata": {
        "id": "L5HqqeMaVWxh"
      },
      "execution_count": 17,
      "outputs": []
    },
    {
      "cell_type": "code",
      "source": [
        "emp_data.info()"
      ],
      "metadata": {
        "colab": {
          "base_uri": "https://localhost:8080/"
        },
        "id": "lJ3RcVDVVjtZ",
        "outputId": "57b53510-7cb0-4dbe-8312-24a0465959f4"
      },
      "execution_count": 18,
      "outputs": [
        {
          "output_type": "stream",
          "name": "stdout",
          "text": [
            "<class 'pandas.core.frame.DataFrame'>\n",
            "Int64Index: 14150 entries, 0 to 14149\n",
            "Data columns (total 14 columns):\n",
            " #   Column             Non-Null Count  Dtype  \n",
            "---  ------             --------------  -----  \n",
            " 0   avg_monthly_hrs    14150 non-null  float64\n",
            " 1   department         13443 non-null  object \n",
            " 2   filed_complaint    2046 non-null   object \n",
            " 3   last_evaluation    12663 non-null  float64\n",
            " 4   n_projects         14150 non-null  int64  \n",
            " 5   recently_promoted  297 non-null    object \n",
            " 6   salary             14150 non-null  object \n",
            " 7   satisfaction       14000 non-null  float64\n",
            " 8   status             14150 non-null  object \n",
            " 9   tenure             14000 non-null  float64\n",
            " 10  employee_id        14150 non-null  int64  \n",
            " 11  age                14145 non-null  float64\n",
            " 12  gender             14145 non-null  object \n",
            " 13  marital_status     14145 non-null  object \n",
            "dtypes: float64(5), int64(2), object(7)\n",
            "memory usage: 1.6+ MB\n"
          ]
        }
      ]
    },
    {
      "cell_type": "code",
      "source": [
        "emp_data.head()"
      ],
      "metadata": {
        "colab": {
          "base_uri": "https://localhost:8080/",
          "height": 270
        },
        "id": "gZpTtrltWCSu",
        "outputId": "a54b4bf9-b3b7-4759-b544-7bc5298124ba"
      },
      "execution_count": 19,
      "outputs": [
        {
          "output_type": "execute_result",
          "data": {
            "text/plain": [
              "   avg_monthly_hrs department filed_complaint  last_evaluation  n_projects  \\\n",
              "0            246.0       None             NaN         0.866838           6   \n",
              "1            134.0       None             NaN         0.555718           2   \n",
              "2            156.0     D00-SS             1.0         0.474082           2   \n",
              "3            256.0     D00-SP             NaN         0.961360           6   \n",
              "4            146.0     D00-SS             NaN         0.507349           2   \n",
              "\n",
              "  recently_promoted  salary  satisfaction status  tenure  employee_id   age  \\\n",
              "0               NaN  medium      0.134415   Left     4.0       124467  42.0   \n",
              "1               NaN     low      0.511041   Left     3.0       112210  23.0   \n",
              "2               NaN  medium      0.405101   Left     3.0       126150  24.0   \n",
              "3               NaN     low      0.152974   Left     4.0       125346  51.0   \n",
              "4               NaN  medium      0.434845   Left     3.0       113707  23.0   \n",
              "\n",
              "   gender marital_status  \n",
              "0  Female        Married  \n",
              "1  Female      Unmarried  \n",
              "2  Female      Unmarried  \n",
              "3  Female        Married  \n",
              "4  Female      Unmarried  "
            ],
            "text/html": [
              "\n",
              "  <div id=\"df-a084fcf6-78d5-4dd1-87e8-d85b8865dbfc\">\n",
              "    <div class=\"colab-df-container\">\n",
              "      <div>\n",
              "<style scoped>\n",
              "    .dataframe tbody tr th:only-of-type {\n",
              "        vertical-align: middle;\n",
              "    }\n",
              "\n",
              "    .dataframe tbody tr th {\n",
              "        vertical-align: top;\n",
              "    }\n",
              "\n",
              "    .dataframe thead th {\n",
              "        text-align: right;\n",
              "    }\n",
              "</style>\n",
              "<table border=\"1\" class=\"dataframe\">\n",
              "  <thead>\n",
              "    <tr style=\"text-align: right;\">\n",
              "      <th></th>\n",
              "      <th>avg_monthly_hrs</th>\n",
              "      <th>department</th>\n",
              "      <th>filed_complaint</th>\n",
              "      <th>last_evaluation</th>\n",
              "      <th>n_projects</th>\n",
              "      <th>recently_promoted</th>\n",
              "      <th>salary</th>\n",
              "      <th>satisfaction</th>\n",
              "      <th>status</th>\n",
              "      <th>tenure</th>\n",
              "      <th>employee_id</th>\n",
              "      <th>age</th>\n",
              "      <th>gender</th>\n",
              "      <th>marital_status</th>\n",
              "    </tr>\n",
              "  </thead>\n",
              "  <tbody>\n",
              "    <tr>\n",
              "      <th>0</th>\n",
              "      <td>246.0</td>\n",
              "      <td>None</td>\n",
              "      <td>NaN</td>\n",
              "      <td>0.866838</td>\n",
              "      <td>6</td>\n",
              "      <td>NaN</td>\n",
              "      <td>medium</td>\n",
              "      <td>0.134415</td>\n",
              "      <td>Left</td>\n",
              "      <td>4.0</td>\n",
              "      <td>124467</td>\n",
              "      <td>42.0</td>\n",
              "      <td>Female</td>\n",
              "      <td>Married</td>\n",
              "    </tr>\n",
              "    <tr>\n",
              "      <th>1</th>\n",
              "      <td>134.0</td>\n",
              "      <td>None</td>\n",
              "      <td>NaN</td>\n",
              "      <td>0.555718</td>\n",
              "      <td>2</td>\n",
              "      <td>NaN</td>\n",
              "      <td>low</td>\n",
              "      <td>0.511041</td>\n",
              "      <td>Left</td>\n",
              "      <td>3.0</td>\n",
              "      <td>112210</td>\n",
              "      <td>23.0</td>\n",
              "      <td>Female</td>\n",
              "      <td>Unmarried</td>\n",
              "    </tr>\n",
              "    <tr>\n",
              "      <th>2</th>\n",
              "      <td>156.0</td>\n",
              "      <td>D00-SS</td>\n",
              "      <td>1.0</td>\n",
              "      <td>0.474082</td>\n",
              "      <td>2</td>\n",
              "      <td>NaN</td>\n",
              "      <td>medium</td>\n",
              "      <td>0.405101</td>\n",
              "      <td>Left</td>\n",
              "      <td>3.0</td>\n",
              "      <td>126150</td>\n",
              "      <td>24.0</td>\n",
              "      <td>Female</td>\n",
              "      <td>Unmarried</td>\n",
              "    </tr>\n",
              "    <tr>\n",
              "      <th>3</th>\n",
              "      <td>256.0</td>\n",
              "      <td>D00-SP</td>\n",
              "      <td>NaN</td>\n",
              "      <td>0.961360</td>\n",
              "      <td>6</td>\n",
              "      <td>NaN</td>\n",
              "      <td>low</td>\n",
              "      <td>0.152974</td>\n",
              "      <td>Left</td>\n",
              "      <td>4.0</td>\n",
              "      <td>125346</td>\n",
              "      <td>51.0</td>\n",
              "      <td>Female</td>\n",
              "      <td>Married</td>\n",
              "    </tr>\n",
              "    <tr>\n",
              "      <th>4</th>\n",
              "      <td>146.0</td>\n",
              "      <td>D00-SS</td>\n",
              "      <td>NaN</td>\n",
              "      <td>0.507349</td>\n",
              "      <td>2</td>\n",
              "      <td>NaN</td>\n",
              "      <td>medium</td>\n",
              "      <td>0.434845</td>\n",
              "      <td>Left</td>\n",
              "      <td>3.0</td>\n",
              "      <td>113707</td>\n",
              "      <td>23.0</td>\n",
              "      <td>Female</td>\n",
              "      <td>Unmarried</td>\n",
              "    </tr>\n",
              "  </tbody>\n",
              "</table>\n",
              "</div>\n",
              "      <button class=\"colab-df-convert\" onclick=\"convertToInteractive('df-a084fcf6-78d5-4dd1-87e8-d85b8865dbfc')\"\n",
              "              title=\"Convert this dataframe to an interactive table.\"\n",
              "              style=\"display:none;\">\n",
              "        \n",
              "  <svg xmlns=\"http://www.w3.org/2000/svg\" height=\"24px\"viewBox=\"0 0 24 24\"\n",
              "       width=\"24px\">\n",
              "    <path d=\"M0 0h24v24H0V0z\" fill=\"none\"/>\n",
              "    <path d=\"M18.56 5.44l.94 2.06.94-2.06 2.06-.94-2.06-.94-.94-2.06-.94 2.06-2.06.94zm-11 1L8.5 8.5l.94-2.06 2.06-.94-2.06-.94L8.5 2.5l-.94 2.06-2.06.94zm10 10l.94 2.06.94-2.06 2.06-.94-2.06-.94-.94-2.06-.94 2.06-2.06.94z\"/><path d=\"M17.41 7.96l-1.37-1.37c-.4-.4-.92-.59-1.43-.59-.52 0-1.04.2-1.43.59L10.3 9.45l-7.72 7.72c-.78.78-.78 2.05 0 2.83L4 21.41c.39.39.9.59 1.41.59.51 0 1.02-.2 1.41-.59l7.78-7.78 2.81-2.81c.8-.78.8-2.07 0-2.86zM5.41 20L4 18.59l7.72-7.72 1.47 1.35L5.41 20z\"/>\n",
              "  </svg>\n",
              "      </button>\n",
              "      \n",
              "  <style>\n",
              "    .colab-df-container {\n",
              "      display:flex;\n",
              "      flex-wrap:wrap;\n",
              "      gap: 12px;\n",
              "    }\n",
              "\n",
              "    .colab-df-convert {\n",
              "      background-color: #E8F0FE;\n",
              "      border: none;\n",
              "      border-radius: 50%;\n",
              "      cursor: pointer;\n",
              "      display: none;\n",
              "      fill: #1967D2;\n",
              "      height: 32px;\n",
              "      padding: 0 0 0 0;\n",
              "      width: 32px;\n",
              "    }\n",
              "\n",
              "    .colab-df-convert:hover {\n",
              "      background-color: #E2EBFA;\n",
              "      box-shadow: 0px 1px 2px rgba(60, 64, 67, 0.3), 0px 1px 3px 1px rgba(60, 64, 67, 0.15);\n",
              "      fill: #174EA6;\n",
              "    }\n",
              "\n",
              "    [theme=dark] .colab-df-convert {\n",
              "      background-color: #3B4455;\n",
              "      fill: #D2E3FC;\n",
              "    }\n",
              "\n",
              "    [theme=dark] .colab-df-convert:hover {\n",
              "      background-color: #434B5C;\n",
              "      box-shadow: 0px 1px 3px 1px rgba(0, 0, 0, 0.15);\n",
              "      filter: drop-shadow(0px 1px 2px rgba(0, 0, 0, 0.3));\n",
              "      fill: #FFFFFF;\n",
              "    }\n",
              "  </style>\n",
              "\n",
              "      <script>\n",
              "        const buttonEl =\n",
              "          document.querySelector('#df-a084fcf6-78d5-4dd1-87e8-d85b8865dbfc button.colab-df-convert');\n",
              "        buttonEl.style.display =\n",
              "          google.colab.kernel.accessAllowed ? 'block' : 'none';\n",
              "\n",
              "        async function convertToInteractive(key) {\n",
              "          const element = document.querySelector('#df-a084fcf6-78d5-4dd1-87e8-d85b8865dbfc');\n",
              "          const dataTable =\n",
              "            await google.colab.kernel.invokeFunction('convertToInteractive',\n",
              "                                                     [key], {});\n",
              "          if (!dataTable) return;\n",
              "\n",
              "          const docLinkHtml = 'Like what you see? Visit the ' +\n",
              "            '<a target=\"_blank\" href=https://colab.research.google.com/notebooks/data_table.ipynb>data table notebook</a>'\n",
              "            + ' to learn more about interactive tables.';\n",
              "          element.innerHTML = '';\n",
              "          dataTable['output_type'] = 'display_data';\n",
              "          await google.colab.output.renderOutput(dataTable, element);\n",
              "          const docLink = document.createElement('div');\n",
              "          docLink.innerHTML = docLinkHtml;\n",
              "          element.appendChild(docLink);\n",
              "        }\n",
              "      </script>\n",
              "    </div>\n",
              "  </div>\n",
              "  "
            ]
          },
          "metadata": {},
          "execution_count": 19
        }
      ]
    },
    {
      "cell_type": "code",
      "source": [
        "data = pd.merge(emp_data, department_data_df, how='left',left_on=\"department\",right_on=\"dept_id\")"
      ],
      "metadata": {
        "id": "L-0aEbAbE7Rq"
      },
      "execution_count": 20,
      "outputs": []
    },
    {
      "cell_type": "code",
      "source": [
        "data.head()"
      ],
      "metadata": {
        "colab": {
          "base_uri": "https://localhost:8080/",
          "height": 322
        },
        "id": "dyQ9dyBdphFz",
        "outputId": "949443e7-82e5-456e-bb4c-50ae3bc36814"
      },
      "execution_count": 21,
      "outputs": [
        {
          "output_type": "execute_result",
          "data": {
            "text/plain": [
              "   avg_monthly_hrs department filed_complaint  last_evaluation  n_projects  \\\n",
              "0            246.0       None             NaN         0.866838           6   \n",
              "1            134.0       None             NaN         0.555718           2   \n",
              "2            156.0     D00-SS             1.0         0.474082           2   \n",
              "3            256.0     D00-SP             NaN         0.961360           6   \n",
              "4            146.0     D00-SS             NaN         0.507349           2   \n",
              "\n",
              "  recently_promoted  salary  satisfaction status  tenure  employee_id   age  \\\n",
              "0               NaN  medium      0.134415   Left     4.0       124467  42.0   \n",
              "1               NaN     low      0.511041   Left     3.0       112210  23.0   \n",
              "2               NaN  medium      0.405101   Left     3.0       126150  24.0   \n",
              "3               NaN     low      0.152974   Left     4.0       125346  51.0   \n",
              "4               NaN  medium      0.434845   Left     3.0       113707  23.0   \n",
              "\n",
              "   gender marital_status dept_id dept_name        dept_head  \n",
              "0  Female        Married     NaN       NaN              NaN  \n",
              "1  Female      Unmarried     NaN       NaN              NaN  \n",
              "2  Female      Unmarried  D00-SS     Sales  Edward J Bayley  \n",
              "3  Female        Married  D00-SP   Support   Amelia Westray  \n",
              "4  Female      Unmarried  D00-SS     Sales  Edward J Bayley  "
            ],
            "text/html": [
              "\n",
              "  <div id=\"df-1f9c475b-1eb2-4ab6-a6af-8189df54dc6e\">\n",
              "    <div class=\"colab-df-container\">\n",
              "      <div>\n",
              "<style scoped>\n",
              "    .dataframe tbody tr th:only-of-type {\n",
              "        vertical-align: middle;\n",
              "    }\n",
              "\n",
              "    .dataframe tbody tr th {\n",
              "        vertical-align: top;\n",
              "    }\n",
              "\n",
              "    .dataframe thead th {\n",
              "        text-align: right;\n",
              "    }\n",
              "</style>\n",
              "<table border=\"1\" class=\"dataframe\">\n",
              "  <thead>\n",
              "    <tr style=\"text-align: right;\">\n",
              "      <th></th>\n",
              "      <th>avg_monthly_hrs</th>\n",
              "      <th>department</th>\n",
              "      <th>filed_complaint</th>\n",
              "      <th>last_evaluation</th>\n",
              "      <th>n_projects</th>\n",
              "      <th>recently_promoted</th>\n",
              "      <th>salary</th>\n",
              "      <th>satisfaction</th>\n",
              "      <th>status</th>\n",
              "      <th>tenure</th>\n",
              "      <th>employee_id</th>\n",
              "      <th>age</th>\n",
              "      <th>gender</th>\n",
              "      <th>marital_status</th>\n",
              "      <th>dept_id</th>\n",
              "      <th>dept_name</th>\n",
              "      <th>dept_head</th>\n",
              "    </tr>\n",
              "  </thead>\n",
              "  <tbody>\n",
              "    <tr>\n",
              "      <th>0</th>\n",
              "      <td>246.0</td>\n",
              "      <td>None</td>\n",
              "      <td>NaN</td>\n",
              "      <td>0.866838</td>\n",
              "      <td>6</td>\n",
              "      <td>NaN</td>\n",
              "      <td>medium</td>\n",
              "      <td>0.134415</td>\n",
              "      <td>Left</td>\n",
              "      <td>4.0</td>\n",
              "      <td>124467</td>\n",
              "      <td>42.0</td>\n",
              "      <td>Female</td>\n",
              "      <td>Married</td>\n",
              "      <td>NaN</td>\n",
              "      <td>NaN</td>\n",
              "      <td>NaN</td>\n",
              "    </tr>\n",
              "    <tr>\n",
              "      <th>1</th>\n",
              "      <td>134.0</td>\n",
              "      <td>None</td>\n",
              "      <td>NaN</td>\n",
              "      <td>0.555718</td>\n",
              "      <td>2</td>\n",
              "      <td>NaN</td>\n",
              "      <td>low</td>\n",
              "      <td>0.511041</td>\n",
              "      <td>Left</td>\n",
              "      <td>3.0</td>\n",
              "      <td>112210</td>\n",
              "      <td>23.0</td>\n",
              "      <td>Female</td>\n",
              "      <td>Unmarried</td>\n",
              "      <td>NaN</td>\n",
              "      <td>NaN</td>\n",
              "      <td>NaN</td>\n",
              "    </tr>\n",
              "    <tr>\n",
              "      <th>2</th>\n",
              "      <td>156.0</td>\n",
              "      <td>D00-SS</td>\n",
              "      <td>1.0</td>\n",
              "      <td>0.474082</td>\n",
              "      <td>2</td>\n",
              "      <td>NaN</td>\n",
              "      <td>medium</td>\n",
              "      <td>0.405101</td>\n",
              "      <td>Left</td>\n",
              "      <td>3.0</td>\n",
              "      <td>126150</td>\n",
              "      <td>24.0</td>\n",
              "      <td>Female</td>\n",
              "      <td>Unmarried</td>\n",
              "      <td>D00-SS</td>\n",
              "      <td>Sales</td>\n",
              "      <td>Edward J Bayley</td>\n",
              "    </tr>\n",
              "    <tr>\n",
              "      <th>3</th>\n",
              "      <td>256.0</td>\n",
              "      <td>D00-SP</td>\n",
              "      <td>NaN</td>\n",
              "      <td>0.961360</td>\n",
              "      <td>6</td>\n",
              "      <td>NaN</td>\n",
              "      <td>low</td>\n",
              "      <td>0.152974</td>\n",
              "      <td>Left</td>\n",
              "      <td>4.0</td>\n",
              "      <td>125346</td>\n",
              "      <td>51.0</td>\n",
              "      <td>Female</td>\n",
              "      <td>Married</td>\n",
              "      <td>D00-SP</td>\n",
              "      <td>Support</td>\n",
              "      <td>Amelia Westray</td>\n",
              "    </tr>\n",
              "    <tr>\n",
              "      <th>4</th>\n",
              "      <td>146.0</td>\n",
              "      <td>D00-SS</td>\n",
              "      <td>NaN</td>\n",
              "      <td>0.507349</td>\n",
              "      <td>2</td>\n",
              "      <td>NaN</td>\n",
              "      <td>medium</td>\n",
              "      <td>0.434845</td>\n",
              "      <td>Left</td>\n",
              "      <td>3.0</td>\n",
              "      <td>113707</td>\n",
              "      <td>23.0</td>\n",
              "      <td>Female</td>\n",
              "      <td>Unmarried</td>\n",
              "      <td>D00-SS</td>\n",
              "      <td>Sales</td>\n",
              "      <td>Edward J Bayley</td>\n",
              "    </tr>\n",
              "  </tbody>\n",
              "</table>\n",
              "</div>\n",
              "      <button class=\"colab-df-convert\" onclick=\"convertToInteractive('df-1f9c475b-1eb2-4ab6-a6af-8189df54dc6e')\"\n",
              "              title=\"Convert this dataframe to an interactive table.\"\n",
              "              style=\"display:none;\">\n",
              "        \n",
              "  <svg xmlns=\"http://www.w3.org/2000/svg\" height=\"24px\"viewBox=\"0 0 24 24\"\n",
              "       width=\"24px\">\n",
              "    <path d=\"M0 0h24v24H0V0z\" fill=\"none\"/>\n",
              "    <path d=\"M18.56 5.44l.94 2.06.94-2.06 2.06-.94-2.06-.94-.94-2.06-.94 2.06-2.06.94zm-11 1L8.5 8.5l.94-2.06 2.06-.94-2.06-.94L8.5 2.5l-.94 2.06-2.06.94zm10 10l.94 2.06.94-2.06 2.06-.94-2.06-.94-.94-2.06-.94 2.06-2.06.94z\"/><path d=\"M17.41 7.96l-1.37-1.37c-.4-.4-.92-.59-1.43-.59-.52 0-1.04.2-1.43.59L10.3 9.45l-7.72 7.72c-.78.78-.78 2.05 0 2.83L4 21.41c.39.39.9.59 1.41.59.51 0 1.02-.2 1.41-.59l7.78-7.78 2.81-2.81c.8-.78.8-2.07 0-2.86zM5.41 20L4 18.59l7.72-7.72 1.47 1.35L5.41 20z\"/>\n",
              "  </svg>\n",
              "      </button>\n",
              "      \n",
              "  <style>\n",
              "    .colab-df-container {\n",
              "      display:flex;\n",
              "      flex-wrap:wrap;\n",
              "      gap: 12px;\n",
              "    }\n",
              "\n",
              "    .colab-df-convert {\n",
              "      background-color: #E8F0FE;\n",
              "      border: none;\n",
              "      border-radius: 50%;\n",
              "      cursor: pointer;\n",
              "      display: none;\n",
              "      fill: #1967D2;\n",
              "      height: 32px;\n",
              "      padding: 0 0 0 0;\n",
              "      width: 32px;\n",
              "    }\n",
              "\n",
              "    .colab-df-convert:hover {\n",
              "      background-color: #E2EBFA;\n",
              "      box-shadow: 0px 1px 2px rgba(60, 64, 67, 0.3), 0px 1px 3px 1px rgba(60, 64, 67, 0.15);\n",
              "      fill: #174EA6;\n",
              "    }\n",
              "\n",
              "    [theme=dark] .colab-df-convert {\n",
              "      background-color: #3B4455;\n",
              "      fill: #D2E3FC;\n",
              "    }\n",
              "\n",
              "    [theme=dark] .colab-df-convert:hover {\n",
              "      background-color: #434B5C;\n",
              "      box-shadow: 0px 1px 3px 1px rgba(0, 0, 0, 0.15);\n",
              "      filter: drop-shadow(0px 1px 2px rgba(0, 0, 0, 0.3));\n",
              "      fill: #FFFFFF;\n",
              "    }\n",
              "  </style>\n",
              "\n",
              "      <script>\n",
              "        const buttonEl =\n",
              "          document.querySelector('#df-1f9c475b-1eb2-4ab6-a6af-8189df54dc6e button.colab-df-convert');\n",
              "        buttonEl.style.display =\n",
              "          google.colab.kernel.accessAllowed ? 'block' : 'none';\n",
              "\n",
              "        async function convertToInteractive(key) {\n",
              "          const element = document.querySelector('#df-1f9c475b-1eb2-4ab6-a6af-8189df54dc6e');\n",
              "          const dataTable =\n",
              "            await google.colab.kernel.invokeFunction('convertToInteractive',\n",
              "                                                     [key], {});\n",
              "          if (!dataTable) return;\n",
              "\n",
              "          const docLinkHtml = 'Like what you see? Visit the ' +\n",
              "            '<a target=\"_blank\" href=https://colab.research.google.com/notebooks/data_table.ipynb>data table notebook</a>'\n",
              "            + ' to learn more about interactive tables.';\n",
              "          element.innerHTML = '';\n",
              "          dataTable['output_type'] = 'display_data';\n",
              "          await google.colab.output.renderOutput(dataTable, element);\n",
              "          const docLink = document.createElement('div');\n",
              "          docLink.innerHTML = docLinkHtml;\n",
              "          element.appendChild(docLink);\n",
              "        }\n",
              "      </script>\n",
              "    </div>\n",
              "  </div>\n",
              "  "
            ]
          },
          "metadata": {},
          "execution_count": 21
        }
      ]
    },
    {
      "cell_type": "code",
      "source": [
        "data.info()"
      ],
      "metadata": {
        "colab": {
          "base_uri": "https://localhost:8080/"
        },
        "id": "yg-BAPV8Fd90",
        "outputId": "ac4b015e-11a2-43d7-a06a-ddfaf290e764"
      },
      "execution_count": 22,
      "outputs": [
        {
          "output_type": "stream",
          "name": "stdout",
          "text": [
            "<class 'pandas.core.frame.DataFrame'>\n",
            "Int64Index: 14150 entries, 0 to 14149\n",
            "Data columns (total 17 columns):\n",
            " #   Column             Non-Null Count  Dtype  \n",
            "---  ------             --------------  -----  \n",
            " 0   avg_monthly_hrs    14150 non-null  float64\n",
            " 1   department         13443 non-null  object \n",
            " 2   filed_complaint    2046 non-null   object \n",
            " 3   last_evaluation    12663 non-null  float64\n",
            " 4   n_projects         14150 non-null  int64  \n",
            " 5   recently_promoted  297 non-null    object \n",
            " 6   salary             14150 non-null  object \n",
            " 7   satisfaction       14000 non-null  float64\n",
            " 8   status             14150 non-null  object \n",
            " 9   tenure             14000 non-null  float64\n",
            " 10  employee_id        14150 non-null  int64  \n",
            " 11  age                14145 non-null  float64\n",
            " 12  gender             14145 non-null  object \n",
            " 13  marital_status     14145 non-null  object \n",
            " 14  dept_id            13443 non-null  object \n",
            " 15  dept_name          13443 non-null  object \n",
            " 16  dept_head          13443 non-null  object \n",
            "dtypes: float64(5), int64(2), object(10)\n",
            "memory usage: 1.9+ MB\n"
          ]
        }
      ]
    },
    {
      "cell_type": "markdown",
      "source": [
        "### **Delete Unnecessary Columns**"
      ],
      "metadata": {
        "id": "UwRrdxIfgtGX"
      }
    },
    {
      "cell_type": "code",
      "source": [
        "#Remove unnecessary column\n",
        "data.drop([\"dept_id\",\"employee_id\",\"dept_head\"],inplace=True,axis=1)"
      ],
      "metadata": {
        "id": "IwQIpQyvJM-r"
      },
      "execution_count": 23,
      "outputs": []
    },
    {
      "cell_type": "code",
      "source": [
        "data.head()"
      ],
      "metadata": {
        "colab": {
          "base_uri": "https://localhost:8080/",
          "height": 270
        },
        "id": "eEApNwETFxac",
        "outputId": "0e79d0de-8134-4eac-ef7c-e45e680bb228"
      },
      "execution_count": 24,
      "outputs": [
        {
          "output_type": "execute_result",
          "data": {
            "text/plain": [
              "   avg_monthly_hrs department filed_complaint  last_evaluation  n_projects  \\\n",
              "0            246.0       None             NaN         0.866838           6   \n",
              "1            134.0       None             NaN         0.555718           2   \n",
              "2            156.0     D00-SS             1.0         0.474082           2   \n",
              "3            256.0     D00-SP             NaN         0.961360           6   \n",
              "4            146.0     D00-SS             NaN         0.507349           2   \n",
              "\n",
              "  recently_promoted  salary  satisfaction status  tenure   age  gender  \\\n",
              "0               NaN  medium      0.134415   Left     4.0  42.0  Female   \n",
              "1               NaN     low      0.511041   Left     3.0  23.0  Female   \n",
              "2               NaN  medium      0.405101   Left     3.0  24.0  Female   \n",
              "3               NaN     low      0.152974   Left     4.0  51.0  Female   \n",
              "4               NaN  medium      0.434845   Left     3.0  23.0  Female   \n",
              "\n",
              "  marital_status dept_name  \n",
              "0        Married       NaN  \n",
              "1      Unmarried       NaN  \n",
              "2      Unmarried     Sales  \n",
              "3        Married   Support  \n",
              "4      Unmarried     Sales  "
            ],
            "text/html": [
              "\n",
              "  <div id=\"df-1eab15c1-3cb8-4c26-8c34-dc85de4e725f\">\n",
              "    <div class=\"colab-df-container\">\n",
              "      <div>\n",
              "<style scoped>\n",
              "    .dataframe tbody tr th:only-of-type {\n",
              "        vertical-align: middle;\n",
              "    }\n",
              "\n",
              "    .dataframe tbody tr th {\n",
              "        vertical-align: top;\n",
              "    }\n",
              "\n",
              "    .dataframe thead th {\n",
              "        text-align: right;\n",
              "    }\n",
              "</style>\n",
              "<table border=\"1\" class=\"dataframe\">\n",
              "  <thead>\n",
              "    <tr style=\"text-align: right;\">\n",
              "      <th></th>\n",
              "      <th>avg_monthly_hrs</th>\n",
              "      <th>department</th>\n",
              "      <th>filed_complaint</th>\n",
              "      <th>last_evaluation</th>\n",
              "      <th>n_projects</th>\n",
              "      <th>recently_promoted</th>\n",
              "      <th>salary</th>\n",
              "      <th>satisfaction</th>\n",
              "      <th>status</th>\n",
              "      <th>tenure</th>\n",
              "      <th>age</th>\n",
              "      <th>gender</th>\n",
              "      <th>marital_status</th>\n",
              "      <th>dept_name</th>\n",
              "    </tr>\n",
              "  </thead>\n",
              "  <tbody>\n",
              "    <tr>\n",
              "      <th>0</th>\n",
              "      <td>246.0</td>\n",
              "      <td>None</td>\n",
              "      <td>NaN</td>\n",
              "      <td>0.866838</td>\n",
              "      <td>6</td>\n",
              "      <td>NaN</td>\n",
              "      <td>medium</td>\n",
              "      <td>0.134415</td>\n",
              "      <td>Left</td>\n",
              "      <td>4.0</td>\n",
              "      <td>42.0</td>\n",
              "      <td>Female</td>\n",
              "      <td>Married</td>\n",
              "      <td>NaN</td>\n",
              "    </tr>\n",
              "    <tr>\n",
              "      <th>1</th>\n",
              "      <td>134.0</td>\n",
              "      <td>None</td>\n",
              "      <td>NaN</td>\n",
              "      <td>0.555718</td>\n",
              "      <td>2</td>\n",
              "      <td>NaN</td>\n",
              "      <td>low</td>\n",
              "      <td>0.511041</td>\n",
              "      <td>Left</td>\n",
              "      <td>3.0</td>\n",
              "      <td>23.0</td>\n",
              "      <td>Female</td>\n",
              "      <td>Unmarried</td>\n",
              "      <td>NaN</td>\n",
              "    </tr>\n",
              "    <tr>\n",
              "      <th>2</th>\n",
              "      <td>156.0</td>\n",
              "      <td>D00-SS</td>\n",
              "      <td>1.0</td>\n",
              "      <td>0.474082</td>\n",
              "      <td>2</td>\n",
              "      <td>NaN</td>\n",
              "      <td>medium</td>\n",
              "      <td>0.405101</td>\n",
              "      <td>Left</td>\n",
              "      <td>3.0</td>\n",
              "      <td>24.0</td>\n",
              "      <td>Female</td>\n",
              "      <td>Unmarried</td>\n",
              "      <td>Sales</td>\n",
              "    </tr>\n",
              "    <tr>\n",
              "      <th>3</th>\n",
              "      <td>256.0</td>\n",
              "      <td>D00-SP</td>\n",
              "      <td>NaN</td>\n",
              "      <td>0.961360</td>\n",
              "      <td>6</td>\n",
              "      <td>NaN</td>\n",
              "      <td>low</td>\n",
              "      <td>0.152974</td>\n",
              "      <td>Left</td>\n",
              "      <td>4.0</td>\n",
              "      <td>51.0</td>\n",
              "      <td>Female</td>\n",
              "      <td>Married</td>\n",
              "      <td>Support</td>\n",
              "    </tr>\n",
              "    <tr>\n",
              "      <th>4</th>\n",
              "      <td>146.0</td>\n",
              "      <td>D00-SS</td>\n",
              "      <td>NaN</td>\n",
              "      <td>0.507349</td>\n",
              "      <td>2</td>\n",
              "      <td>NaN</td>\n",
              "      <td>medium</td>\n",
              "      <td>0.434845</td>\n",
              "      <td>Left</td>\n",
              "      <td>3.0</td>\n",
              "      <td>23.0</td>\n",
              "      <td>Female</td>\n",
              "      <td>Unmarried</td>\n",
              "      <td>Sales</td>\n",
              "    </tr>\n",
              "  </tbody>\n",
              "</table>\n",
              "</div>\n",
              "      <button class=\"colab-df-convert\" onclick=\"convertToInteractive('df-1eab15c1-3cb8-4c26-8c34-dc85de4e725f')\"\n",
              "              title=\"Convert this dataframe to an interactive table.\"\n",
              "              style=\"display:none;\">\n",
              "        \n",
              "  <svg xmlns=\"http://www.w3.org/2000/svg\" height=\"24px\"viewBox=\"0 0 24 24\"\n",
              "       width=\"24px\">\n",
              "    <path d=\"M0 0h24v24H0V0z\" fill=\"none\"/>\n",
              "    <path d=\"M18.56 5.44l.94 2.06.94-2.06 2.06-.94-2.06-.94-.94-2.06-.94 2.06-2.06.94zm-11 1L8.5 8.5l.94-2.06 2.06-.94-2.06-.94L8.5 2.5l-.94 2.06-2.06.94zm10 10l.94 2.06.94-2.06 2.06-.94-2.06-.94-.94-2.06-.94 2.06-2.06.94z\"/><path d=\"M17.41 7.96l-1.37-1.37c-.4-.4-.92-.59-1.43-.59-.52 0-1.04.2-1.43.59L10.3 9.45l-7.72 7.72c-.78.78-.78 2.05 0 2.83L4 21.41c.39.39.9.59 1.41.59.51 0 1.02-.2 1.41-.59l7.78-7.78 2.81-2.81c.8-.78.8-2.07 0-2.86zM5.41 20L4 18.59l7.72-7.72 1.47 1.35L5.41 20z\"/>\n",
              "  </svg>\n",
              "      </button>\n",
              "      \n",
              "  <style>\n",
              "    .colab-df-container {\n",
              "      display:flex;\n",
              "      flex-wrap:wrap;\n",
              "      gap: 12px;\n",
              "    }\n",
              "\n",
              "    .colab-df-convert {\n",
              "      background-color: #E8F0FE;\n",
              "      border: none;\n",
              "      border-radius: 50%;\n",
              "      cursor: pointer;\n",
              "      display: none;\n",
              "      fill: #1967D2;\n",
              "      height: 32px;\n",
              "      padding: 0 0 0 0;\n",
              "      width: 32px;\n",
              "    }\n",
              "\n",
              "    .colab-df-convert:hover {\n",
              "      background-color: #E2EBFA;\n",
              "      box-shadow: 0px 1px 2px rgba(60, 64, 67, 0.3), 0px 1px 3px 1px rgba(60, 64, 67, 0.15);\n",
              "      fill: #174EA6;\n",
              "    }\n",
              "\n",
              "    [theme=dark] .colab-df-convert {\n",
              "      background-color: #3B4455;\n",
              "      fill: #D2E3FC;\n",
              "    }\n",
              "\n",
              "    [theme=dark] .colab-df-convert:hover {\n",
              "      background-color: #434B5C;\n",
              "      box-shadow: 0px 1px 3px 1px rgba(0, 0, 0, 0.15);\n",
              "      filter: drop-shadow(0px 1px 2px rgba(0, 0, 0, 0.3));\n",
              "      fill: #FFFFFF;\n",
              "    }\n",
              "  </style>\n",
              "\n",
              "      <script>\n",
              "        const buttonEl =\n",
              "          document.querySelector('#df-1eab15c1-3cb8-4c26-8c34-dc85de4e725f button.colab-df-convert');\n",
              "        buttonEl.style.display =\n",
              "          google.colab.kernel.accessAllowed ? 'block' : 'none';\n",
              "\n",
              "        async function convertToInteractive(key) {\n",
              "          const element = document.querySelector('#df-1eab15c1-3cb8-4c26-8c34-dc85de4e725f');\n",
              "          const dataTable =\n",
              "            await google.colab.kernel.invokeFunction('convertToInteractive',\n",
              "                                                     [key], {});\n",
              "          if (!dataTable) return;\n",
              "\n",
              "          const docLinkHtml = 'Like what you see? Visit the ' +\n",
              "            '<a target=\"_blank\" href=https://colab.research.google.com/notebooks/data_table.ipynb>data table notebook</a>'\n",
              "            + ' to learn more about interactive tables.';\n",
              "          element.innerHTML = '';\n",
              "          dataTable['output_type'] = 'display_data';\n",
              "          await google.colab.output.renderOutput(dataTable, element);\n",
              "          const docLink = document.createElement('div');\n",
              "          docLink.innerHTML = docLinkHtml;\n",
              "          element.appendChild(docLink);\n",
              "        }\n",
              "      </script>\n",
              "    </div>\n",
              "  </div>\n",
              "  "
            ]
          },
          "metadata": {},
          "execution_count": 24
        }
      ]
    },
    {
      "cell_type": "markdown",
      "metadata": {
        "id": "KVcbqLw3w9tL"
      },
      "source": [
        "# **5. Data Pre-Processing**"
      ]
    },
    {
      "cell_type": "markdown",
      "metadata": {
        "id": "PdKInUkXxctg"
      },
      "source": [
        "### **5.1 Data Pre-Profiling**\n"
      ]
    },
    {
      "cell_type": "markdown",
      "metadata": {
        "id": "uNysza08YqGh"
      },
      "source": [
        "### **Check null value or any other inconsistent value in column**"
      ]
    },
    {
      "cell_type": "code",
      "execution_count": 25,
      "metadata": {
        "colab": {
          "base_uri": "https://localhost:8080/"
        },
        "id": "r2BOQuoxebSs",
        "outputId": "851dd9cc-07a0-4ffc-ede7-8a778704cd2b"
      },
      "outputs": [
        {
          "output_type": "stream",
          "name": "stdout",
          "text": [
            "avg_monthly_hrs      0\n",
            "department           0\n",
            "filed_complaint      0\n",
            "last_evaluation      0\n",
            "n_projects           0\n",
            "recently_promoted    0\n",
            "salary               0\n",
            "satisfaction         0\n",
            "status               0\n",
            "tenure               0\n",
            "age                  0\n",
            "gender               0\n",
            "marital_status       0\n",
            "dept_name            0\n",
            "dtype: int64 \n",
            "\n",
            "avg_monthly_hrs      0\n",
            "department           0\n",
            "filed_complaint      0\n",
            "last_evaluation      0\n",
            "n_projects           0\n",
            "recently_promoted    0\n",
            "salary               0\n",
            "satisfaction         0\n",
            "tenure               0\n",
            "dtype: int64 \n",
            "\n"
          ]
        }
      ],
      "source": [
        "print((data==\"\").sum(), \"\\n\")\n",
        "print((dataValidation==\"\").sum(), \"\\n\")"
      ]
    },
    {
      "cell_type": "code",
      "execution_count": 26,
      "metadata": {
        "colab": {
          "base_uri": "https://localhost:8080/"
        },
        "id": "t8DTnc4XYuVx",
        "outputId": "25dbb84e-12c4-4b6e-930a-24afb66c4ca3"
      },
      "outputs": [
        {
          "output_type": "stream",
          "name": "stdout",
          "text": [
            "avg_monthly_hrs          0\n",
            "department             707\n",
            "filed_complaint      12104\n",
            "last_evaluation       1487\n",
            "n_projects               0\n",
            "recently_promoted    13853\n",
            "salary                   0\n",
            "satisfaction           150\n",
            "status                   0\n",
            "tenure                 150\n",
            "age                      5\n",
            "gender                   5\n",
            "marital_status           5\n",
            "dept_name              707\n",
            "dtype: int64 \n",
            "\n",
            "avg_monthly_hrs       0\n",
            "department            8\n",
            "filed_complaint      85\n",
            "last_evaluation      17\n",
            "n_projects            0\n",
            "recently_promoted    97\n",
            "salary                0\n",
            "satisfaction          3\n",
            "tenure                3\n",
            "dtype: int64 \n",
            "\n"
          ]
        }
      ],
      "source": [
        "print(data.isna().sum(), \"\\n\")\n",
        "print(dataValidation.isna().sum(), \"\\n\")"
      ]
    },
    {
      "cell_type": "code",
      "execution_count": 27,
      "metadata": {
        "colab": {
          "base_uri": "https://localhost:8080/"
        },
        "id": "QKzNio-1gBWk",
        "outputId": "cdb3589c-f0e5-4baa-c3ef-31aee26febaf"
      },
      "outputs": [
        {
          "output_type": "stream",
          "name": "stdout",
          "text": [
            "avg_monthly_hrs      0\n",
            "department           0\n",
            "filed_complaint      0\n",
            "last_evaluation      0\n",
            "n_projects           0\n",
            "recently_promoted    0\n",
            "salary               0\n",
            "satisfaction         0\n",
            "status               0\n",
            "tenure               0\n",
            "age                  0\n",
            "gender               0\n",
            "marital_status       0\n",
            "dept_name            0\n",
            "dtype: int64 \n",
            "\n",
            "avg_monthly_hrs      0\n",
            "department           0\n",
            "filed_complaint      0\n",
            "last_evaluation      0\n",
            "n_projects           0\n",
            "recently_promoted    0\n",
            "salary               0\n",
            "satisfaction         0\n",
            "tenure               0\n",
            "dtype: int64 \n",
            "\n"
          ]
        }
      ],
      "source": [
        "print((data==\"Unknown\").sum(), \"\\n\")\n",
        "print((dataValidation==\"Unknown\").sum(), \"\\n\")"
      ]
    },
    {
      "cell_type": "code",
      "execution_count": 28,
      "metadata": {
        "colab": {
          "base_uri": "https://localhost:8080/"
        },
        "id": "bbbTkBeExZvE",
        "outputId": "96a1cf57-5bf6-4bf2-f978-1451a333ac91"
      },
      "outputs": [
        {
          "output_type": "stream",
          "name": "stdout",
          "text": [
            "avg_monthly_hrs      0\n",
            "department           0\n",
            "filed_complaint      0\n",
            "last_evaluation      0\n",
            "n_projects           0\n",
            "recently_promoted    0\n",
            "salary               0\n",
            "satisfaction         0\n",
            "status               0\n",
            "tenure               0\n",
            "age                  0\n",
            "gender               0\n",
            "marital_status       0\n",
            "dept_name            0\n",
            "dtype: int64 \n",
            "\n",
            "avg_monthly_hrs      0\n",
            "department           0\n",
            "filed_complaint      0\n",
            "last_evaluation      0\n",
            "n_projects           0\n",
            "recently_promoted    0\n",
            "salary               0\n",
            "satisfaction         0\n",
            "tenure               0\n",
            "dtype: int64 \n",
            "\n"
          ]
        }
      ],
      "source": [
        "print((data==0).sum(), \"\\n\")\n",
        "print((dataValidation==0).sum(), \"\\n\")"
      ]
    },
    {
      "cell_type": "code",
      "source": [
        "#Check Duplicate Values\n",
        "data.duplicated().sum()"
      ],
      "metadata": {
        "colab": {
          "base_uri": "https://localhost:8080/"
        },
        "id": "A0_Mr3NrKskw",
        "outputId": "c12f18f3-5961-437c-e2ca-cff4f3bd0a4e"
      },
      "execution_count": 29,
      "outputs": [
        {
          "output_type": "execute_result",
          "data": {
            "text/plain": [
              "29"
            ]
          },
          "metadata": {},
          "execution_count": 29
        }
      ]
    },
    {
      "cell_type": "markdown",
      "source": [
        "### **Observations and Actions**\n",
        "1. There are 29 duplicate records- delete duplicate records\n",
        "2. Followig Columns have null values\n",
        "\t1. Dept,gender, martial status-Replace with Mode\n",
        "    2. tenure, Age- Replace with Median as data is skewed\n",
        "    3. last_evaluation,satisfaction- Replace with KNN Imputer\n",
        "\t4. filed_complaint,recently_promoted- Replace with 0 assuming no complaint hence null\n",
        "  \n"
      ],
      "metadata": {
        "id": "Tf1cbSYMHxwb"
      }
    },
    {
      "cell_type": "markdown",
      "metadata": {
        "id": "Ghes5hwMxu--"
      },
      "source": [
        "### **5.3 Data Cleaning**\n"
      ]
    },
    {
      "cell_type": "markdown",
      "source": [
        "### **Drop Duplicate Records**"
      ],
      "metadata": {
        "id": "Vj1LknROtkGO"
      }
    },
    {
      "cell_type": "code",
      "source": [
        "data.drop_duplicates(inplace=True,ignore_index=True)\n",
        "print(data.shape)"
      ],
      "metadata": {
        "colab": {
          "base_uri": "https://localhost:8080/"
        },
        "id": "SULoQcgS-4BK",
        "outputId": "22353ea5-5309-41d1-fb93-f69d9fb782f0"
      },
      "execution_count": 30,
      "outputs": [
        {
          "output_type": "stream",
          "name": "stdout",
          "text": [
            "(14121, 14)\n"
          ]
        }
      ]
    },
    {
      "cell_type": "markdown",
      "source": [
        "### **Impute Missing Records**"
      ],
      "metadata": {
        "id": "kaSy-K-itq0y"
      }
    },
    {
      "cell_type": "code",
      "source": [
        "data.department=data.department.replace(to_replace=[None], value=np.nan)\n",
        "dataValidation.department=dataValidation.department.replace(to_replace=[None], value=np.nan)"
      ],
      "metadata": {
        "id": "Gtwhy8wErUgZ"
      },
      "execution_count": 31,
      "outputs": []
    },
    {
      "cell_type": "code",
      "source": [
        "data.isna().sum()"
      ],
      "metadata": {
        "colab": {
          "base_uri": "https://localhost:8080/"
        },
        "id": "964qIIa5O7uk",
        "outputId": "84128d41-8ead-48a8-f6f0-08d3d0166494"
      },
      "execution_count": 32,
      "outputs": [
        {
          "output_type": "execute_result",
          "data": {
            "text/plain": [
              "avg_monthly_hrs          0\n",
              "department             707\n",
              "filed_complaint      12080\n",
              "last_evaluation       1487\n",
              "n_projects               0\n",
              "recently_promoted    13824\n",
              "salary                   0\n",
              "satisfaction           150\n",
              "status                   0\n",
              "tenure                 150\n",
              "age                      5\n",
              "gender                   5\n",
              "marital_status           5\n",
              "dept_name              707\n",
              "dtype: int64"
            ]
          },
          "metadata": {},
          "execution_count": 32
        }
      ]
    },
    {
      "cell_type": "code",
      "source": [
        "dataValidation.isna().sum()"
      ],
      "metadata": {
        "colab": {
          "base_uri": "https://localhost:8080/"
        },
        "id": "Dr5K76BmOFny",
        "outputId": "b51d6c5a-68c1-4c67-af22-4c8ceef13e16"
      },
      "execution_count": 33,
      "outputs": [
        {
          "output_type": "execute_result",
          "data": {
            "text/plain": [
              "avg_monthly_hrs       0\n",
              "department            8\n",
              "filed_complaint      85\n",
              "last_evaluation      17\n",
              "n_projects            0\n",
              "recently_promoted    97\n",
              "salary                0\n",
              "satisfaction          3\n",
              "tenure                3\n",
              "dtype: int64"
            ]
          },
          "metadata": {},
          "execution_count": 33
        }
      ]
    },
    {
      "cell_type": "code",
      "source": [
        "import numpy as np\n",
        "from sklearn.compose import ColumnTransformer\n",
        "from sklearn.impute import SimpleImputer, KNNImputer\n",
        "colTrans=ColumnTransformer([\n",
        "    (\"simImpMode\",SimpleImputer(strategy=\"most_frequent\"),[\"department\",\"dept_name\",\"gender\",\"marital_status\"]),\n",
        "    (\"simImpMed\",SimpleImputer(strategy=\"median\"),[\"tenure\",\"age\"]),\n",
        "    (\"knnImp\",KNNImputer(n_neighbors=5),[\"last_evaluation\",\"satisfaction\"]),\n",
        "    (\"simImpCons\",SimpleImputer(strategy=\"constant\",fill_value=0),[\"filed_complaint\",\"recently_promoted\"])\n",
        "],remainder=\"passthrough\",verbose_feature_names_out=False)\n",
        "# colTrans.setoutput to dataframe\n",
        "colTrans.set_output(transform=\"pandas\")\n",
        "data=colTrans.fit_transform(data)\n",
        "data.isna().sum()\n",
        "#Adding status to use .transform , \n",
        "# Redefining structure of test data to apply columntransformer.transform(), else its giving error as columns are not matching in training \n",
        "#  but these features would not be used for prediction\n",
        "\n",
        "dataValidation[\"dept_name\"]=np.nan\n",
        "dataValidation[\"gender\"]=np.nan\n",
        "dataValidation[\"marital_status\"]=np.nan\n",
        "dataValidation[\"age\"]=np.nan\n",
        "dataValidation[\"status\"]=np.nan\n",
        "\n",
        "dataValidation=colTrans.transform(dataValidation)\n",
        "print(dataValidation.isna().sum())\n",
        "dataValidation.drop([\"dept_name\",\"gender\",\"marital_status\",\"age\",\"status\"], axis=1,inplace=True)\n",
        "dataValidation.isna().sum()\n"
      ],
      "metadata": {
        "colab": {
          "base_uri": "https://localhost:8080/"
        },
        "id": "-fHP9z84S1Kc",
        "outputId": "7ab2dfac-0cfc-4d39-8985-99d938048f81"
      },
      "execution_count": 34,
      "outputs": [
        {
          "output_type": "stream",
          "name": "stdout",
          "text": [
            "department             0\n",
            "dept_name              0\n",
            "gender                 0\n",
            "marital_status         0\n",
            "tenure                 0\n",
            "age                    0\n",
            "last_evaluation        0\n",
            "satisfaction           0\n",
            "filed_complaint        0\n",
            "recently_promoted      0\n",
            "avg_monthly_hrs        0\n",
            "n_projects             0\n",
            "salary                 0\n",
            "status               100\n",
            "dtype: int64\n"
          ]
        },
        {
          "output_type": "execute_result",
          "data": {
            "text/plain": [
              "department           0\n",
              "tenure               0\n",
              "last_evaluation      0\n",
              "satisfaction         0\n",
              "filed_complaint      0\n",
              "recently_promoted    0\n",
              "avg_monthly_hrs      0\n",
              "n_projects           0\n",
              "salary               0\n",
              "dtype: int64"
            ]
          },
          "metadata": {},
          "execution_count": 34
        }
      ]
    },
    {
      "cell_type": "code",
      "source": [
        "dataValidation.isna().sum()"
      ],
      "metadata": {
        "colab": {
          "base_uri": "https://localhost:8080/"
        },
        "id": "hRXbAp3gQSxm",
        "outputId": "27e40950-2bd3-4220-8988-8becb10aff5e"
      },
      "execution_count": 35,
      "outputs": [
        {
          "output_type": "execute_result",
          "data": {
            "text/plain": [
              "department           0\n",
              "tenure               0\n",
              "last_evaluation      0\n",
              "satisfaction         0\n",
              "filed_complaint      0\n",
              "recently_promoted    0\n",
              "avg_monthly_hrs      0\n",
              "n_projects           0\n",
              "salary               0\n",
              "dtype: int64"
            ]
          },
          "metadata": {},
          "execution_count": 35
        }
      ]
    },
    {
      "cell_type": "markdown",
      "source": [
        "### **Convert Labels to Numericals values**"
      ],
      "metadata": {
        "id": "UNWlVVCDxn6B"
      }
    },
    {
      "cell_type": "code",
      "source": [
        "data[\"status\"]=data[\"status\"].replace({\"Employed\":0, \"Left\":1})"
      ],
      "metadata": {
        "id": "ILi1yiaRxmCL"
      },
      "execution_count": 36,
      "outputs": []
    },
    {
      "cell_type": "markdown",
      "source": [
        "### **5.2 Feature Engineering**\n",
        "NA"
      ],
      "metadata": {
        "id": "QJ6nsVyRgTS_"
      }
    },
    {
      "cell_type": "markdown",
      "source": [
        "### **Observation**\n",
        "* Tenure and Age columns are right skewed"
      ],
      "metadata": {
        "id": "I8yK9UVzw2Fj"
      }
    },
    {
      "cell_type": "markdown",
      "metadata": {
        "id": "LLfz81jNDxl4"
      },
      "source": [
        "# **6. Exploratory Data Analysis**"
      ]
    },
    {
      "cell_type": "markdown",
      "source": [
        "### **Fetch Categorical and Numetrical Columns**"
      ],
      "metadata": {
        "id": "zgRGE3L7zIWg"
      }
    },
    {
      "cell_type": "code",
      "source": [
        "contColumn=data.select_dtypes(include=np.number).columns\n",
        "print(contColumn)\n",
        "catColumn=data.select_dtypes(include=\"object\").columns\n",
        "print(catColumn)"
      ],
      "metadata": {
        "colab": {
          "base_uri": "https://localhost:8080/"
        },
        "id": "szX4-uWxzSfl",
        "outputId": "fbc9a2ab-954a-4ad0-b153-0743dff1ace0"
      },
      "execution_count": 37,
      "outputs": [
        {
          "output_type": "stream",
          "name": "stdout",
          "text": [
            "Index(['tenure', 'age', 'last_evaluation', 'satisfaction', 'avg_monthly_hrs',\n",
            "       'n_projects', 'status'],\n",
            "      dtype='object')\n",
            "Index(['department', 'dept_name', 'gender', 'marital_status',\n",
            "       'filed_complaint', 'recently_promoted', 'salary'],\n",
            "      dtype='object')\n"
          ]
        }
      ]
    },
    {
      "cell_type": "markdown",
      "metadata": {
        "id": "OTVPcvGtC7MZ"
      },
      "source": [
        "### **Check distribution of numerical features and Outliers**"
      ]
    },
    {
      "cell_type": "code",
      "source": [],
      "metadata": {
        "id": "Srl8SVWQcLks"
      },
      "execution_count": 37,
      "outputs": []
    },
    {
      "cell_type": "code",
      "source": [
        "data[contColumn].describe()"
      ],
      "metadata": {
        "colab": {
          "base_uri": "https://localhost:8080/",
          "height": 300
        },
        "id": "Usic5-pJ8bWs",
        "outputId": "2b79cfd0-c761-4e3e-a221-6170ede95740"
      },
      "execution_count": 38,
      "outputs": [
        {
          "output_type": "execute_result",
          "data": {
            "text/plain": [
              "             tenure           age  last_evaluation  satisfaction  \\\n",
              "count  14121.000000  14121.000000     14121.000000  14121.000000   \n",
              "mean       3.492458     32.894625         0.716270      0.621238   \n",
              "std        1.453321      9.973503         0.166773      0.249168   \n",
              "min        2.000000     22.000000         0.316175      0.040058   \n",
              "25%        3.000000     24.000000         0.571475      0.452711   \n",
              "50%        3.000000     29.000000         0.718308      0.648253   \n",
              "75%        4.000000     41.000000         0.858775      0.822855   \n",
              "max       10.000000     57.000000         1.000000      1.000000   \n",
              "\n",
              "       avg_monthly_hrs    n_projects        status  \n",
              "count     14121.000000  14121.000000  14121.000000  \n",
              "mean        199.999929      3.778132      0.237802  \n",
              "std          50.832419      1.249926      0.425752  \n",
              "min          49.000000      1.000000      0.000000  \n",
              "25%         155.000000      3.000000      0.000000  \n",
              "50%         199.000000      4.000000      0.000000  \n",
              "75%         245.000000      5.000000      0.000000  \n",
              "max         310.000000      7.000000      1.000000  "
            ],
            "text/html": [
              "\n",
              "  <div id=\"df-2eefd7fa-767c-406a-b706-c7b392b5680a\">\n",
              "    <div class=\"colab-df-container\">\n",
              "      <div>\n",
              "<style scoped>\n",
              "    .dataframe tbody tr th:only-of-type {\n",
              "        vertical-align: middle;\n",
              "    }\n",
              "\n",
              "    .dataframe tbody tr th {\n",
              "        vertical-align: top;\n",
              "    }\n",
              "\n",
              "    .dataframe thead th {\n",
              "        text-align: right;\n",
              "    }\n",
              "</style>\n",
              "<table border=\"1\" class=\"dataframe\">\n",
              "  <thead>\n",
              "    <tr style=\"text-align: right;\">\n",
              "      <th></th>\n",
              "      <th>tenure</th>\n",
              "      <th>age</th>\n",
              "      <th>last_evaluation</th>\n",
              "      <th>satisfaction</th>\n",
              "      <th>avg_monthly_hrs</th>\n",
              "      <th>n_projects</th>\n",
              "      <th>status</th>\n",
              "    </tr>\n",
              "  </thead>\n",
              "  <tbody>\n",
              "    <tr>\n",
              "      <th>count</th>\n",
              "      <td>14121.000000</td>\n",
              "      <td>14121.000000</td>\n",
              "      <td>14121.000000</td>\n",
              "      <td>14121.000000</td>\n",
              "      <td>14121.000000</td>\n",
              "      <td>14121.000000</td>\n",
              "      <td>14121.000000</td>\n",
              "    </tr>\n",
              "    <tr>\n",
              "      <th>mean</th>\n",
              "      <td>3.492458</td>\n",
              "      <td>32.894625</td>\n",
              "      <td>0.716270</td>\n",
              "      <td>0.621238</td>\n",
              "      <td>199.999929</td>\n",
              "      <td>3.778132</td>\n",
              "      <td>0.237802</td>\n",
              "    </tr>\n",
              "    <tr>\n",
              "      <th>std</th>\n",
              "      <td>1.453321</td>\n",
              "      <td>9.973503</td>\n",
              "      <td>0.166773</td>\n",
              "      <td>0.249168</td>\n",
              "      <td>50.832419</td>\n",
              "      <td>1.249926</td>\n",
              "      <td>0.425752</td>\n",
              "    </tr>\n",
              "    <tr>\n",
              "      <th>min</th>\n",
              "      <td>2.000000</td>\n",
              "      <td>22.000000</td>\n",
              "      <td>0.316175</td>\n",
              "      <td>0.040058</td>\n",
              "      <td>49.000000</td>\n",
              "      <td>1.000000</td>\n",
              "      <td>0.000000</td>\n",
              "    </tr>\n",
              "    <tr>\n",
              "      <th>25%</th>\n",
              "      <td>3.000000</td>\n",
              "      <td>24.000000</td>\n",
              "      <td>0.571475</td>\n",
              "      <td>0.452711</td>\n",
              "      <td>155.000000</td>\n",
              "      <td>3.000000</td>\n",
              "      <td>0.000000</td>\n",
              "    </tr>\n",
              "    <tr>\n",
              "      <th>50%</th>\n",
              "      <td>3.000000</td>\n",
              "      <td>29.000000</td>\n",
              "      <td>0.718308</td>\n",
              "      <td>0.648253</td>\n",
              "      <td>199.000000</td>\n",
              "      <td>4.000000</td>\n",
              "      <td>0.000000</td>\n",
              "    </tr>\n",
              "    <tr>\n",
              "      <th>75%</th>\n",
              "      <td>4.000000</td>\n",
              "      <td>41.000000</td>\n",
              "      <td>0.858775</td>\n",
              "      <td>0.822855</td>\n",
              "      <td>245.000000</td>\n",
              "      <td>5.000000</td>\n",
              "      <td>0.000000</td>\n",
              "    </tr>\n",
              "    <tr>\n",
              "      <th>max</th>\n",
              "      <td>10.000000</td>\n",
              "      <td>57.000000</td>\n",
              "      <td>1.000000</td>\n",
              "      <td>1.000000</td>\n",
              "      <td>310.000000</td>\n",
              "      <td>7.000000</td>\n",
              "      <td>1.000000</td>\n",
              "    </tr>\n",
              "  </tbody>\n",
              "</table>\n",
              "</div>\n",
              "      <button class=\"colab-df-convert\" onclick=\"convertToInteractive('df-2eefd7fa-767c-406a-b706-c7b392b5680a')\"\n",
              "              title=\"Convert this dataframe to an interactive table.\"\n",
              "              style=\"display:none;\">\n",
              "        \n",
              "  <svg xmlns=\"http://www.w3.org/2000/svg\" height=\"24px\"viewBox=\"0 0 24 24\"\n",
              "       width=\"24px\">\n",
              "    <path d=\"M0 0h24v24H0V0z\" fill=\"none\"/>\n",
              "    <path d=\"M18.56 5.44l.94 2.06.94-2.06 2.06-.94-2.06-.94-.94-2.06-.94 2.06-2.06.94zm-11 1L8.5 8.5l.94-2.06 2.06-.94-2.06-.94L8.5 2.5l-.94 2.06-2.06.94zm10 10l.94 2.06.94-2.06 2.06-.94-2.06-.94-.94-2.06-.94 2.06-2.06.94z\"/><path d=\"M17.41 7.96l-1.37-1.37c-.4-.4-.92-.59-1.43-.59-.52 0-1.04.2-1.43.59L10.3 9.45l-7.72 7.72c-.78.78-.78 2.05 0 2.83L4 21.41c.39.39.9.59 1.41.59.51 0 1.02-.2 1.41-.59l7.78-7.78 2.81-2.81c.8-.78.8-2.07 0-2.86zM5.41 20L4 18.59l7.72-7.72 1.47 1.35L5.41 20z\"/>\n",
              "  </svg>\n",
              "      </button>\n",
              "      \n",
              "  <style>\n",
              "    .colab-df-container {\n",
              "      display:flex;\n",
              "      flex-wrap:wrap;\n",
              "      gap: 12px;\n",
              "    }\n",
              "\n",
              "    .colab-df-convert {\n",
              "      background-color: #E8F0FE;\n",
              "      border: none;\n",
              "      border-radius: 50%;\n",
              "      cursor: pointer;\n",
              "      display: none;\n",
              "      fill: #1967D2;\n",
              "      height: 32px;\n",
              "      padding: 0 0 0 0;\n",
              "      width: 32px;\n",
              "    }\n",
              "\n",
              "    .colab-df-convert:hover {\n",
              "      background-color: #E2EBFA;\n",
              "      box-shadow: 0px 1px 2px rgba(60, 64, 67, 0.3), 0px 1px 3px 1px rgba(60, 64, 67, 0.15);\n",
              "      fill: #174EA6;\n",
              "    }\n",
              "\n",
              "    [theme=dark] .colab-df-convert {\n",
              "      background-color: #3B4455;\n",
              "      fill: #D2E3FC;\n",
              "    }\n",
              "\n",
              "    [theme=dark] .colab-df-convert:hover {\n",
              "      background-color: #434B5C;\n",
              "      box-shadow: 0px 1px 3px 1px rgba(0, 0, 0, 0.15);\n",
              "      filter: drop-shadow(0px 1px 2px rgba(0, 0, 0, 0.3));\n",
              "      fill: #FFFFFF;\n",
              "    }\n",
              "  </style>\n",
              "\n",
              "      <script>\n",
              "        const buttonEl =\n",
              "          document.querySelector('#df-2eefd7fa-767c-406a-b706-c7b392b5680a button.colab-df-convert');\n",
              "        buttonEl.style.display =\n",
              "          google.colab.kernel.accessAllowed ? 'block' : 'none';\n",
              "\n",
              "        async function convertToInteractive(key) {\n",
              "          const element = document.querySelector('#df-2eefd7fa-767c-406a-b706-c7b392b5680a');\n",
              "          const dataTable =\n",
              "            await google.colab.kernel.invokeFunction('convertToInteractive',\n",
              "                                                     [key], {});\n",
              "          if (!dataTable) return;\n",
              "\n",
              "          const docLinkHtml = 'Like what you see? Visit the ' +\n",
              "            '<a target=\"_blank\" href=https://colab.research.google.com/notebooks/data_table.ipynb>data table notebook</a>'\n",
              "            + ' to learn more about interactive tables.';\n",
              "          element.innerHTML = '';\n",
              "          dataTable['output_type'] = 'display_data';\n",
              "          await google.colab.output.renderOutput(dataTable, element);\n",
              "          const docLink = document.createElement('div');\n",
              "          docLink.innerHTML = docLinkHtml;\n",
              "          element.appendChild(docLink);\n",
              "        }\n",
              "      </script>\n",
              "    </div>\n",
              "  </div>\n",
              "  "
            ]
          },
          "metadata": {},
          "execution_count": 38
        }
      ]
    },
    {
      "cell_type": "code",
      "execution_count": 39,
      "metadata": {
        "colab": {
          "base_uri": "https://localhost:8080/",
          "height": 1000
        },
        "id": "OG7ahFxKhorY",
        "outputId": "643f54ae-8ba7-46a4-8a3d-af17898812fe"
      },
      "outputs": [
        {
          "output_type": "display_data",
          "data": {
            "text/plain": [
              "<Figure size 720x216 with 2 Axes>"
            ],
            "image/png": "[encoded data removed]"
          },
          "metadata": {
            "needs_background": "light"
          }
        },
        {
          "output_type": "display_data",
          "data": {
            "text/plain": [
              "<Figure size 720x216 with 2 Axes>"
            ],
            "image/png": "[encoded data removed]"
          },
          "metadata": {
            "needs_background": "light"
          }
        },
        {
          "output_type": "display_data",
          "data": {
            "text/plain": [
              "<Figure size 720x216 with 2 Axes>"
            ],
            "image/png": "[encoded data removed]"
          },
          "metadata": {
            "needs_background": "light"
          }
        },
        {
          "output_type": "display_data",
          "data": {
            "text/plain": [
              "<Figure size 720x216 with 2 Axes>"
            ],
            "image/png": "[encoded data removed]"
          },
          "metadata": {
            "needs_background": "light"
          }
        },
        {
          "output_type": "display_data",
          "data": {
            "text/plain": [
              "<Figure size 720x216 with 2 Axes>"
            ],
            "image/png": "[encoded data removed]"
          },
          "metadata": {
            "needs_background": "light"
          }
        },
        {
          "output_type": "display_data",
          "data": {
            "text/plain": [
              "<Figure size 720x216 with 2 Axes>"
            ],
            "image/png": "[encoded data removed]"
          },
          "metadata": {
            "needs_background": "light"
          }
        },
        {
          "output_type": "display_data",
          "data": {
            "text/plain": [
              "<Figure size 720x216 with 0 Axes>"
            ]
          },
          "metadata": {}
        }
      ],
      "source": [
        "for col in contColumn:  \n",
        "  fig=plt.figure(figsize=[10,3])\n",
        "  if col!=\"status\":\n",
        "    plt.subplot(1,2,1)\n",
        "    sns.distplot(emp_data[col], color=\"b\")\n",
        "    plt.axvline(emp_data[col].mean(), color=\"r\")\n",
        "    plt.axvline(emp_data[col].median(), color=\"g\")\n",
        "    plt.subplot(1,2,2)\n",
        "    sns.boxplot(emp_data[col])\n",
        "\n",
        "\n",
        "  "
      ]
    },
    {
      "cell_type": "markdown",
      "source": [
        "### **Observations**\n",
        "1. More employee with 2-4 years of tenure\n",
        "2. More Employee within 20-30 years of Age"
      ],
      "metadata": {
        "id": "jibhDawu_3zE"
      }
    },
    {
      "cell_type": "code",
      "source": [
        "# catColumn.reverse()\n",
        "# catColumn"
      ],
      "metadata": {
        "id": "uyqz2rjCiJLx"
      },
      "execution_count": 40,
      "outputs": []
    },
    {
      "cell_type": "markdown",
      "metadata": {
        "id": "ac5CFVgWb8iq"
      },
      "source": [
        "### **Check the frequency of categorical features**"
      ]
    },
    {
      "cell_type": "code",
      "source": [
        "catColumn=catColumn.to_list()\n"
      ],
      "metadata": {
        "id": "FBBOqSlmPy34"
      },
      "execution_count": 41,
      "outputs": []
    },
    {
      "cell_type": "code",
      "execution_count": 42,
      "metadata": {
        "colab": {
          "base_uri": "https://localhost:8080/",
          "height": 427
        },
        "id": "rguyyp3ScY9g",
        "outputId": "a7256157-3402-46f4-9a37-575e721c2b62"
      },
      "outputs": [
        {
          "output_type": "display_data",
          "data": {
            "text/plain": [
              "<Figure size 1080x504 with 5 Axes>"
            ],
            "image/png": "[encoded data removed]"
          },
          "metadata": {}
        }
      ],
      "source": [
        "# fig=plt.figure(figsize=[25,10])\n",
        "fig=plt.figure(figsize=[15,7])\n",
        "i=1\n",
        "for col in catColumn:  \n",
        "  if (col !=\"department\" and col!=\"dept_name\"):\n",
        "    plt.subplot(2,3,i)\n",
        "    space = np.ones(data[col].nunique())/10    \n",
        "    if col==\"status\":\n",
        "      value=data[col].replace({0:\"Employed\", 1:\"Left\"})\n",
        "      value.value_counts().plot(kind='pie', explode=space, autopct='%1.0f%%',shadow = True)\n",
        "    elif col==\"recently_promoted\":\n",
        "      value=data[col].replace({0:\"No\", 1:\"Yes\"})\n",
        "      value.value_counts().plot(kind='pie', explode=space, autopct='%1.0f%%',shadow = True)\n",
        "    elif col==\"filed_complaint\":\n",
        "      value=data[col].replace({0:\"No\", 1:\"Yes\"})\n",
        "      value.value_counts().plot(kind='pie', explode=space, autopct='%1.0f%%',shadow = True)\n",
        "    else:\n",
        "      data[col].value_counts().plot(kind='pie', explode=space, autopct='%1.0f%%',shadow = True)\n",
        "    plt.title(col.upper())\n",
        "    plt.ylabel(\"\")\n",
        "    i=i+1\n",
        "\n"
      ]
    },
    {
      "cell_type": "code",
      "source": [
        "fig=plt.figure(figsize=[15,7])\n",
        "space = np.ones(data[\"dept_name\"].nunique())/10\n",
        "data[\"dept_name\"].value_counts().plot(kind='pie', explode=space, autopct='%1.0f%%',shadow = True)\n",
        "plt.title(\"% of Employees by Departments\")\n",
        "plt.ylabel(\"\")\n"
      ],
      "metadata": {
        "id": "bOxGt9_hj5aF",
        "colab": {
          "base_uri": "https://localhost:8080/",
          "height": 444
        },
        "outputId": "e735f2c4-d2ca-49bd-9f99-222725d73c9e"
      },
      "execution_count": 43,
      "outputs": [
        {
          "output_type": "execute_result",
          "data": {
            "text/plain": [
              "Text(0, 0.5, '')"
            ]
          },
          "metadata": {},
          "execution_count": 43
        },
        {
          "output_type": "display_data",
          "data": {
            "text/plain": [
              "<Figure size 1080x504 with 1 Axes>"
            ],
            "image/png": "[encoded data removed]"
          },
          "metadata": {}
        }
      ]
    },
    {
      "cell_type": "markdown",
      "metadata": {
        "id": "Y5A14AmVz8aJ"
      },
      "source": [
        "### **Analyze Relationship between each Categorical Variable and Target Variable**"
      ]
    },
    {
      "cell_type": "code",
      "source": [
        "dataLeft=data[data.status==1]\n",
        "i=1\n",
        "for col in catColumn:\n",
        "  if (col!=\"status\" and col!=\"dept_id\"):  \n",
        "    fig=plt.figure(figsize=[10,5])\n",
        "    df=dataLeft.groupby([col])[col].count()\n",
        "    # print(df)\n",
        "    # plt.subplot(3,2,i)\n",
        "    ax = df.div(df.sum(axis=0), axis=0).mul(100).round(2).plot.bar()\n",
        "    # i=i+1\n",
        "    for p in ax.patches:\n",
        "      width=p.get_width()\n",
        "      height=p.get_height()\n",
        "      x,y=p.get_xy()\n",
        "      ax.annotate(height,(x+width/2,y+height*1.02),ha=\"center\")\n",
        "      plt.title(\"Employee Attrition percentage as per \"+col.upper())\n",
        "      plt.xlabel(\"\")"
      ],
      "metadata": {
        "id": "xSZNBrWt_Ikr",
        "colab": {
          "base_uri": "https://localhost:8080/",
          "height": 1000
        },
        "outputId": "174b527c-c2a5-4475-ebad-5a0ffc1a4436"
      },
      "execution_count": 44,
      "outputs": [
        {
          "output_type": "display_data",
          "data": {
            "text/plain": [
              "<Figure size 720x360 with 1 Axes>"
            ],
            "image/png": "[encoded data removed]"
          },
          "metadata": {
            "needs_background": "light"
          }
        },
        {
          "output_type": "display_data",
          "data": {
            "text/plain": [
              "<Figure size 720x360 with 1 Axes>"
            ],
            "image/png": "[encoded data removed]"
          },
          "metadata": {
            "needs_background": "light"
          }
        },
        {
          "output_type": "display_data",
          "data": {
            "text/plain": [
              "<Figure size 720x360 with 1 Axes>"
            ],
            "image/png": "[encoded data removed]"
          },
          "metadata": {
            "needs_background": "light"
          }
        },
        {
          "output_type": "display_data",
          "data": {
            "text/plain": [
              "<Figure size 720x360 with 1 Axes>"
            ],
            "image/png": "[encoded data removed]"
          },
          "metadata": {
            "needs_background": "light"
          }
        },
        {
          "output_type": "display_data",
          "data": {
            "text/plain": [
              "<Figure size 720x360 with 1 Axes>"
            ],
            "image/png": "[encoded data removed]"
          },
          "metadata": {
            "needs_background": "light"
          }
        },
        {
          "output_type": "display_data",
          "data": {
            "text/plain": [
              "<Figure size 720x360 with 1 Axes>"
            ],
            "image/png": "[encoded data removed]"
          },
          "metadata": {
            "needs_background": "light"
          }
        },
        {
          "output_type": "display_data",
          "data": {
            "text/plain": [
              "<Figure size 720x360 with 1 Axes>"
            ],
            "image/png": "[encoded data removed]"
          },
          "metadata": {
            "needs_background": "light"
          }
        }
      ]
    },
    {
      "cell_type": "markdown",
      "source": [
        "### **Observations**\n",
        "1. More exit from sales Dept followed by Engineering and then support\n",
        "2. Unmarried segment has more exit movement\n",
        "3. Male pupulation is quitting more than Female\n",
        "4. Low salary grade is quitting more than others\n",
        "5. People not promoted recently are quitting more than promoted ones\n",
        "6. People who had filed complaint are quitting more than   "
      ],
      "metadata": {
        "id": "3Z39azZJ0Moh"
      }
    },
    {
      "cell_type": "markdown",
      "source": [
        "### ***Check the evaluation score of people not promoted ***"
      ],
      "metadata": {
        "id": "GSj23KF4hHNB"
      }
    },
    {
      "cell_type": "code",
      "source": [
        "data1=data[data['recently_promoted']==0][\"last_evaluation\"]\n",
        "sns.distplot(data1)"
      ],
      "metadata": {
        "colab": {
          "base_uri": "https://localhost:8080/",
          "height": 297
        },
        "id": "ryL9JDEehSyL",
        "outputId": "e40b2b88-e278-4516-cdcb-ed872275be71"
      },
      "execution_count": 45,
      "outputs": [
        {
          "output_type": "execute_result",
          "data": {
            "text/plain": [
              "<Axes: xlabel='last_evaluation', ylabel='Density'>"
            ]
          },
          "metadata": {},
          "execution_count": 45
        },
        {
          "output_type": "display_data",
          "data": {
            "text/plain": [
              "<Figure size 432x288 with 1 Axes>"
            ],
            "image/png": "[encoded data removed]"
          },
          "metadata": {
            "needs_background": "light"
          }
        }
      ]
    },
    {
      "cell_type": "markdown",
      "source": [
        "### **Analyze Relationship between Gender and Marital Status to Target Variable**"
      ],
      "metadata": {
        "id": "Gl2mrE6u0hxS"
      }
    },
    {
      "cell_type": "code",
      "source": [
        "data1=dataLeft.groupby([\"gender\",\"marital_status\"])[\"status\"].count().unstack()\n",
        "sns.heatmap(data1,annot=True,cmap=\"Blues\",linecolor='Red',linewidth=1,fmt=\".2f\")"
      ],
      "metadata": {
        "colab": {
          "base_uri": "https://localhost:8080/",
          "height": 297
        },
        "id": "pIO6XGWYkbg4",
        "outputId": "bbc07192-d6cb-4e73-8be2-ffc3e33d51b0"
      },
      "execution_count": 46,
      "outputs": [
        {
          "output_type": "execute_result",
          "data": {
            "text/plain": [
              "<Axes: xlabel='marital_status', ylabel='gender'>"
            ]
          },
          "metadata": {},
          "execution_count": 46
        },
        {
          "output_type": "display_data",
          "data": {
            "text/plain": [
              "<Figure size 432x288 with 2 Axes>"
            ],
            "image/png": "[encoded data removed]"
          },
          "metadata": {
            "needs_background": "light"
          }
        }
      ]
    },
    {
      "cell_type": "markdown",
      "source": [
        "### **Observations**\n",
        "* Unmarried Female have more exit movements followed by Married Male and then unmarried Male\n"
      ],
      "metadata": {
        "id": "TMiOmJTPzJDR"
      }
    },
    {
      "cell_type": "markdown",
      "source": [
        "### **Analyze Relationship between Gender and Marital status to Target Variable in Top 3 dept in attrition**"
      ],
      "metadata": {
        "id": "tiQWPqGT05yy"
      }
    },
    {
      "cell_type": "code",
      "source": [
        "figsize=plt.figure(figsize=[15,3])\n",
        "plt.subplot(1,3,1)\n",
        "data1=dataLeft[dataLeft.dept_name==\"Sales\"].groupby([\"gender\",\"marital_status\"])[\"status\"].count().unstack()\n",
        "sns.heatmap(data1,annot=True,cmap=\"Blues\",linecolor='Red',linewidth=1, fmt=\".2f\")\n",
        "plt.title(\"Sales\")\n",
        "plt.subplot(1,3,2)\n",
        "data1=dataLeft[dataLeft.dept_name==\"Engineering\"].groupby([\"gender\",\"marital_status\"])[\"status\"].count().unstack()\n",
        "sns.heatmap(data1,annot=True,cmap=\"Blues\",linecolor='Red',linewidth=1,fmt=\".2f\")\n",
        "plt.title(\"Engineering\")\n",
        "plt.subplot(1,3,3)\n",
        "data1=dataLeft[dataLeft.dept_name==\"Support\"].groupby([\"gender\",\"marital_status\"])[\"status\"].count().unstack()\n",
        "sns.heatmap(data1,annot=True,cmap=\"Blues\",linecolor='Red',linewidth=1,fmt=\".2f\")\n",
        "plt.title(\"Support\")"
      ],
      "metadata": {
        "colab": {
          "base_uri": "https://localhost:8080/",
          "height": 259
        },
        "outputId": "4fbaf3a0-3e2a-4bfe-97b0-4b6ceabddbba",
        "id": "kxY76XF4zJDP"
      },
      "execution_count": 47,
      "outputs": [
        {
          "output_type": "execute_result",
          "data": {
            "text/plain": [
              "Text(0.5, 1.0, 'Support')"
            ]
          },
          "metadata": {},
          "execution_count": 47
        },
        {
          "output_type": "display_data",
          "data": {
            "text/plain": [
              "<Figure size 1080x216 with 6 Axes>"
            ],
            "image/png": "[encoded data removed]"
          },
          "metadata": {
            "needs_background": "light"
          }
        }
      ]
    },
    {
      "cell_type": "markdown",
      "source": [
        "### **Observations**\n",
        "* In Sales Dept Unmarried Female have more exit movement followed by Unarried Male and then married Male\n",
        "* In Engg married male have more exit movement followed by unmarried Male and then unmarried female\n",
        "* In Support Unmarried Female have more exit movement followed by narried Male and then unmarried male\n"
      ],
      "metadata": {
        "id": "apUBWOdcy01q"
      }
    },
    {
      "cell_type": "markdown",
      "metadata": {
        "id": "b2y93Lj_1VyJ"
      },
      "source": [
        "### **Analyze Relationship between each Continuous Variable and Target Variable**"
      ]
    },
    {
      "cell_type": "code",
      "source": [
        "contColumn=contColumn.to_list()\n",
        "contColumn\n"
      ],
      "metadata": {
        "id": "P-yx-_FQ1czC",
        "colab": {
          "base_uri": "https://localhost:8080/"
        },
        "outputId": "415e67b8-8312-4990-cb7e-b5f72af78cb9"
      },
      "execution_count": 48,
      "outputs": [
        {
          "output_type": "execute_result",
          "data": {
            "text/plain": [
              "['tenure',\n",
              " 'age',\n",
              " 'last_evaluation',\n",
              " 'satisfaction',\n",
              " 'avg_monthly_hrs',\n",
              " 'n_projects',\n",
              " 'status']"
            ]
          },
          "metadata": {},
          "execution_count": 48
        }
      ]
    },
    {
      "cell_type": "code",
      "source": [
        "dataLeft=data[data.status==1]\n",
        "\n",
        "for col in contColumn:\n",
        "  fig=plt.figure(figsize=[15,5])\n",
        "  plt.subplot(1,2,1)\n",
        "  sns.histplot(dataLeft,x=col,bins=10, hue=\"gender\",multiple=\"dodge\")\n",
        "  plt.title(\"Employee Attrition percentage as per \"+col.upper())\n",
        "  plt.xlabel(\"\")\n",
        "  plt.subplot(1,2,2)\n",
        "  sns.histplot(dataLeft,x=col,bins=10, hue=\"marital_status\",multiple=\"dodge\")\n",
        "  plt.title(\"Employee Exit percentage as per \"+col.upper())\n",
        "  plt.xlabel(\"\")"
      ],
      "metadata": {
        "colab": {
          "base_uri": "https://localhost:8080/",
          "height": 1000
        },
        "outputId": "e971c2d0-1e98-4645-a2b4-9b9db0ee7a69",
        "id": "hDvc1Qnm1VyJ"
      },
      "execution_count": 49,
      "outputs": [
        {
          "output_type": "display_data",
          "data": {
            "text/plain": [
              "<Figure size 1080x360 with 2 Axes>"
            ],
            "image/png": "[encoded data removed]"
          },
          "metadata": {
            "needs_background": "light"
          }
        },
        {
          "output_type": "display_data",
          "data": {
            "text/plain": [
              "<Figure size 1080x360 with 2 Axes>"
            ],
            "image/png": "[encoded data removed]"
          },
          "metadata": {
            "needs_background": "light"
          }
        },
        {
          "output_type": "display_data",
          "data": {
            "text/plain": [
              "<Figure size 1080x360 with 2 Axes>"
            ],
            "image/png": "[encoded data removed]"
          },
          "metadata": {
            "needs_background": "light"
          }
        },
        {
          "output_type": "display_data",
          "data": {
            "text/plain": [
              "<Figure size 1080x360 with 2 Axes>"
            ],
            "image/png": "[encoded data removed]"
          },
          "metadata": {
            "needs_background": "light"
          }
        },
        {
          "output_type": "display_data",
          "data": {
            "text/plain": [
              "<Figure size 1080x360 with 2 Axes>"
            ],
            "image/png": "[encoded data removed]"
          },
          "metadata": {
            "needs_background": "light"
          }
        },
        {
          "output_type": "display_data",
          "data": {
            "text/plain": [
              "<Figure size 1080x360 with 2 Axes>"
            ],
            "image/png": "[encoded data removed]"
          },
          "metadata": {
            "needs_background": "light"
          }
        },
        {
          "output_type": "display_data",
          "data": {
            "text/plain": [
              "<Figure size 1080x360 with 2 Axes>"
            ],
            "image/png": "[encoded data removed]"
          },
          "metadata": {
            "needs_background": "light"
          }
        }
      ]
    },
    {
      "cell_type": "markdown",
      "source": [
        "### **Observations**\n",
        "1. More exit from unmarried male whose monthly working hour is 150\n",
        "2. More exit from unmarried male whose  movement evaluation score is .5 to .6 or .8.to.9\n",
        "3. More exit from unmarried male whose are assigned 2 projects\n",
        "4. More exit from unmarried male with satisfaction score 0 to.1 or .3 to.5\n",
        "5. More exit from unmarried male whose tenure is 3 years\n",
        "6. More exit from unmarried female with avg age bracket of 25 years"
      ],
      "metadata": {
        "id": "6I6Sh7Tk1VyK"
      }
    },
    {
      "cell_type": "markdown",
      "metadata": {
        "id": "i4055cdQ5mz_"
      },
      "source": [
        "### **Correlation Matrix**"
      ]
    },
    {
      "cell_type": "code",
      "execution_count": 50,
      "metadata": {
        "id": "bhO-mjuAfWZ0",
        "colab": {
          "base_uri": "https://localhost:8080/",
          "height": 470
        },
        "outputId": "d6181ef4-065d-485f-f8d1-6a25a522fa3c"
      },
      "outputs": [
        {
          "output_type": "execute_result",
          "data": {
            "text/plain": [
              "<Axes: >"
            ]
          },
          "metadata": {},
          "execution_count": 50
        },
        {
          "output_type": "display_data",
          "data": {
            "text/plain": [
              "<Figure size 720x432 with 2 Axes>"
            ],
            "image/png": "[encoded data removed]"
          },
          "metadata": {
            "needs_background": "light"
          }
        }
      ],
      "source": [
        "figure=plt.figure(figsize=[10,6])\n",
        "sns.heatmap(data.corr(), cmap=\"Blues\", annot=True,linecolor='Red',linewidth=1)"
      ]
    },
    {
      "cell_type": "markdown",
      "source": [
        "### **Observations**\n",
        "* No multicolinearity"
      ],
      "metadata": {
        "id": "ltpyEgQx1wYG"
      }
    },
    {
      "cell_type": "markdown",
      "source": [
        "### **Check Label Imbalance**"
      ],
      "metadata": {
        "id": "7qPN8cSs4n2W"
      }
    },
    {
      "cell_type": "code",
      "source": [
        "data.status.value_counts()"
      ],
      "metadata": {
        "colab": {
          "base_uri": "https://localhost:8080/"
        },
        "id": "H1Za3EV-lrzz",
        "outputId": "eec44902-8a99-464a-b8e9-aba4fd9e203e"
      },
      "execution_count": 51,
      "outputs": [
        {
          "output_type": "execute_result",
          "data": {
            "text/plain": [
              "0    10763\n",
              "1     3358\n",
              "Name: status, dtype: int64"
            ]
          },
          "metadata": {},
          "execution_count": 51
        }
      ]
    },
    {
      "cell_type": "markdown",
      "metadata": {
        "id": "ISaynBoL2U6f"
      },
      "source": [
        "# **7. Data Post-Processing**"
      ]
    },
    {
      "cell_type": "code",
      "source": [
        "data.columns"
      ],
      "metadata": {
        "colab": {
          "base_uri": "https://localhost:8080/"
        },
        "id": "mfzL9GlB7poP",
        "outputId": "fe94ae48-f0d6-4b04-8ac5-09843130bb03"
      },
      "execution_count": 52,
      "outputs": [
        {
          "output_type": "execute_result",
          "data": {
            "text/plain": [
              "Index(['department', 'dept_name', 'gender', 'marital_status', 'tenure', 'age',\n",
              "       'last_evaluation', 'satisfaction', 'filed_complaint',\n",
              "       'recently_promoted', 'avg_monthly_hrs', 'n_projects', 'salary',\n",
              "       'status'],\n",
              "      dtype='object')"
            ]
          },
          "metadata": {},
          "execution_count": 52
        }
      ]
    },
    {
      "cell_type": "markdown",
      "metadata": {
        "id": "wTKr5hqq3tQy"
      },
      "source": [
        "### **7.1 Data Preparation/Feature Selection**\n",
        "\n"
      ]
    },
    {
      "cell_type": "code",
      "execution_count": 53,
      "metadata": {
        "id": "FcD8VCYk90nu",
        "colab": {
          "base_uri": "https://localhost:8080/"
        },
        "outputId": "34fd0ffe-ac0f-49dc-bfba-4b20de006c7f"
      },
      "outputs": [
        {
          "output_type": "stream",
          "name": "stdout",
          "text": [
            "(14121, 9)\n",
            "(14121,)\n"
          ]
        }
      ],
      "source": [
        "X=data.drop([\"status\", \"gender\", \"marital_status\",\"dept_name\",\"age\"], axis=1)\n",
        "y=data.status\n",
        "print(X.shape)\n",
        "print(y.shape)\n"
      ]
    },
    {
      "cell_type": "markdown",
      "source": [
        "### **Checking Target Class Imbalance**"
      ],
      "metadata": {
        "id": "EbS29zywuODz"
      }
    },
    {
      "cell_type": "code",
      "source": [
        "y.value_counts()/y.shape[0]*100"
      ],
      "metadata": {
        "id": "N576ccBn4lTw",
        "colab": {
          "base_uri": "https://localhost:8080/"
        },
        "outputId": "1e3c2b77-e7af-4bd0-fd95-fff206efba6b"
      },
      "execution_count": 54,
      "outputs": [
        {
          "output_type": "execute_result",
          "data": {
            "text/plain": [
              "0    76.219814\n",
              "1    23.780186\n",
              "Name: status, dtype: float64"
            ]
          },
          "metadata": {},
          "execution_count": 54
        }
      ]
    },
    {
      "cell_type": "markdown",
      "metadata": {
        "id": "PLF8eGU33VZD"
      },
      "source": [
        "# **8. Model Development & Evaluation**"
      ]
    },
    {
      "cell_type": "markdown",
      "source": [
        "### **Make PipeLine**"
      ],
      "metadata": {
        "id": "UEwhfnsRLkMd"
      }
    },
    {
      "cell_type": "code",
      "execution_count": 55,
      "metadata": {
        "id": "vfy2MULRCY2_",
        "colab": {
          "base_uri": "https://localhost:8080/"
        },
        "outputId": "d06e6610-3035-4dec-fedf-a5f46792bc43"
      },
      "outputs": [
        {
          "output_type": "stream",
          "name": "stdout",
          "text": [
            "                                           ModelName  \\\n",
            "0                               LogisticRegression()   \n",
            "1                DecisionTreeClassifier(max_depth=8)   \n",
            "2  RandomForestClassifier(max_depth=8, random_sta...   \n",
            "3                KNeighborsClassifier(n_neighbors=8)   \n",
            "4  BaggingClassifier(estimator=DecisionTreeClassi...   \n",
            "5                               AdaBoostClassifier()   \n",
            "6                       GradientBoostingClassifier()   \n",
            "\n",
            "                                          TrainScore  \\\n",
            "0  Accuracy: 0.7897508259776107 /n F1 Score 0.439...   \n",
            "1  Accuracy: 0.9803079553264545 /n F1 Score 0.957...   \n",
            "2  Accuracy: 0.9736612994961443 /n F1 Score 0.942...   \n",
            "3  Accuracy: 0.9595536502697019 /n F1 Score 0.914...   \n",
            "4  Accuracy: 0.9805254573586073 /n F1 Score 0.957...   \n",
            "5  Accuracy: 0.9310702324013505 /n F1 Score 0.852...   \n",
            "6  Accuracy: 0.9722247503471806 /n F1 Score 0.940...   \n",
            "\n",
            "                                           TestScore  \n",
            "0  Accuracy: 0.7890372756993848 F1 Score 0.437422...  \n",
            "1  Accuracy: 0.9728768765516501 F1 Score 0.941524...  \n",
            "2  Accuracy: 0.970540216736498 F1 Score 0.9351266...  \n",
            "3  Accuracy: 0.9543232606290608 F1 Score 0.903860...  \n",
            "4  Accuracy: 0.9740102720073885 F1 Score 0.943276...  \n",
            "5  Accuracy: 0.9282624603932063 F1 Score 0.845355...  \n",
            "6  Accuracy: 0.9698317505657578 F1 Score 0.934754...  \n"
          ]
        }
      ],
      "source": [
        "from sklearn.utils import shuffle\n",
        "from sklearn.preprocessing import OneHotEncoder,RobustScaler\n",
        "from sklearn.compose import make_column_transformer\n",
        "\n",
        "from sklearn.impute import KNNImputer\n",
        "\n",
        "from sklearn.pipeline import make_pipeline\n",
        "from imblearn.pipeline import Pipeline as imbpipeline\n",
        "\n",
        "from sklearn.linear_model import LogisticRegression\n",
        "from sklearn.tree import DecisionTreeClassifier\n",
        "from sklearn.neighbors import KNeighborsClassifier\n",
        "from sklearn.ensemble import RandomForestClassifier, BaggingClassifier,VotingClassifier, AdaBoostClassifier,GradientBoostingClassifier\n",
        "\n",
        "from sklearn.model_selection import cross_val_score,cross_validate,cross_val_predict,RandomizedSearchCV, KFold\n",
        "from sklearn.metrics import accuracy_score,confusion_matrix,f1_score,roc_curve,auc,classification_report\n",
        "\n",
        " \n",
        "\n",
        "max_depth=8\n",
        "\n",
        "modelList=[LogisticRegression(),DecisionTreeClassifier(max_depth=max_depth),\n",
        "           RandomForestClassifier(random_state=47,max_depth=max_depth),KNeighborsClassifier(n_neighbors=8),\n",
        "           BaggingClassifier(DecisionTreeClassifier(max_depth=max_depth),n_estimators=10),AdaBoostClassifier(),GradientBoostingClassifier()]\n",
        "\n",
        "# Define which columns should be encoded\n",
        "columns_to_encode=X.select_dtypes(include=\"object\").columns.to_list()\n",
        "columns_to_scale=X.select_dtypes(include=\"number\").columns.to_list()\n",
        "\n",
        "# Define value of kfold during crossvalidation\n",
        "kf=KFold(15,shuffle=True,random_state=47)\n",
        "\n",
        "# Instantiate column transformer\n",
        "column_trans=make_column_transformer(\n",
        "    (OneHotEncoder(drop=\"first\"),columns_to_encode),\n",
        "    (RobustScaler(),columns_to_scale),\n",
        "    remainder=\"passthrough\"\n",
        "    )\n",
        "column_trans.fit_transform(X)\n",
        "\n",
        "score_df=pd.DataFrame(columns=[\"ModelName\",\"TrainScore\",\"TestScore\"])\n",
        "for model in modelList:\n",
        "  pipe=make_pipeline(column_trans,model)\n",
        "  cv_score=cross_validate(pipe,X,y,cv=kf,n_jobs=-1,scoring=[\"accuracy\",\"f1\"],return_train_score=True)\n",
        "  cv_score_df=pd.DataFrame(cv_score)\n",
        "  score_df=score_df.append({\"ModelName\":model,\"TrainScore\":\n",
        "                \"Accuracy: {} /n F1 Score {}\".format(cv_score[\"train_accuracy\"].mean(),cv_score[\"train_f1\"].mean()),\n",
        "                \"TestScore\":\n",
        "                \"Accuracy: {} F1 Score {}\".format(cv_score[\"test_accuracy\"].mean(),cv_score[\"test_f1\"].mean())},ignore_index=True)\n",
        "\n",
        "print(score_df)\n",
        "\n"
      ]
    },
    {
      "cell_type": "markdown",
      "source": [
        "### **Selecting BaggingClassifier based on Test Score**"
      ],
      "metadata": {
        "id": "43QBpjw55BTL"
      }
    },
    {
      "cell_type": "code",
      "source": [
        "pipe=make_pipeline(column_trans,BaggingClassifier(DecisionTreeClassifier(max_depth=max_depth)))\n",
        "pipe.fit(X,y)"
      ],
      "metadata": {
        "id": "1uKSPSuB2ow7",
        "colab": {
          "base_uri": "https://localhost:8080/",
          "height": 255
        },
        "outputId": "95e43598-4d54-4ba2-fecb-d5cddf86e633"
      },
      "execution_count": 56,
      "outputs": [
        {
          "output_type": "execute_result",
          "data": {
            "text/plain": [
              "Pipeline(steps=[('columntransformer',\n",
              "                 ColumnTransformer(remainder='passthrough',\n",
              "                                   transformers=[('onehotencoder',\n",
              "                                                  OneHotEncoder(drop='first'),\n",
              "                                                  ['department',\n",
              "                                                   'filed_complaint',\n",
              "                                                   'recently_promoted',\n",
              "                                                   'salary']),\n",
              "                                                 ('robustscaler',\n",
              "                                                  RobustScaler(),\n",
              "                                                  ['tenure', 'last_evaluation',\n",
              "                                                   'satisfaction',\n",
              "                                                   'avg_monthly_hrs',\n",
              "                                                   'n_projects'])])),\n",
              "                ('baggingclassifier',\n",
              "                 BaggingClassifier(estimator=DecisionTreeClassifier(max_depth=8)))])"
            ],
            "text/html": [
              "<style>#sk-container-id-1 {color: black;background-color: white;}#sk-container-id-1 pre{padding: 0;}#sk-container-id-1 div.sk-toggleable {background-color: white;}#sk-container-id-1 label.sk-toggleable__label {cursor: pointer;display: block;width: 100%;margin-bottom: 0;padding: 0.3em;box-sizing: border-box;text-align: center;}#sk-container-id-1 label.sk-toggleable__label-arrow:before {content: \"▸\";float: left;margin-right: 0.25em;color: #696969;}#sk-container-id-1 label.sk-toggleable__label-arrow:hover:before {color: black;}#sk-container-id-1 div.sk-estimator:hover label.sk-toggleable__label-arrow:before {color: black;}#sk-container-id-1 div.sk-toggleable__content {max-height: 0;max-width: 0;overflow: hidden;text-align: left;background-color: #f0f8ff;}#sk-container-id-1 div.sk-toggleable__content pre {margin: 0.2em;color: black;border-radius: 0.25em;background-color: #f0f8ff;}#sk-container-id-1 input.sk-toggleable__control:checked~div.sk-toggleable__content {max-height: 200px;max-width: 100%;overflow: auto;}#sk-container-id-1 input.sk-toggleable__control:checked~label.sk-toggleable__label-arrow:before {content: \"▾\";}#sk-container-id-1 div.sk-estimator input.sk-toggleable__control:checked~label.sk-toggleable__label {background-color: #d4ebff;}#sk-container-id-1 div.sk-label input.sk-toggleable__control:checked~label.sk-toggleable__label {background-color: #d4ebff;}#sk-container-id-1 input.sk-hidden--visually {border: 0;clip: rect(1px 1px 1px 1px);clip: rect(1px, 1px, 1px, 1px);height: 1px;margin: -1px;overflow: hidden;padding: 0;position: absolute;width: 1px;}#sk-container-id-1 div.sk-estimator {font-family: monospace;background-color: #f0f8ff;border: 1px dotted black;border-radius: 0.25em;box-sizing: border-box;margin-bottom: 0.5em;}#sk-container-id-1 div.sk-estimator:hover {background-color: #d4ebff;}#sk-container-id-1 div.sk-parallel-item::after {content: \"\";width: 100%;border-bottom: 1px solid gray;flex-grow: 1;}#sk-container-id-1 div.sk-label:hover label.sk-toggleable__label {background-color: #d4ebff;}#sk-container-id-1 div.sk-serial::before {content: \"\";position: absolute;border-left: 1px solid gray;box-sizing: border-box;top: 0;bottom: 0;left: 50%;z-index: 0;}#sk-container-id-1 div.sk-serial {display: flex;flex-direction: column;align-items: center;background-color: white;padding-right: 0.2em;padding-left: 0.2em;position: relative;}#sk-container-id-1 div.sk-item {position: relative;z-index: 1;}#sk-container-id-1 div.sk-parallel {display: flex;align-items: stretch;justify-content: center;background-color: white;position: relative;}#sk-container-id-1 div.sk-item::before, #sk-container-id-1 div.sk-parallel-item::before {content: \"\";position: absolute;border-left: 1px solid gray;box-sizing: border-box;top: 0;bottom: 0;left: 50%;z-index: -1;}#sk-container-id-1 div.sk-parallel-item {display: flex;flex-direction: column;z-index: 1;position: relative;background-color: white;}#sk-container-id-1 div.sk-parallel-item:first-child::after {align-self: flex-end;width: 50%;}#sk-container-id-1 div.sk-parallel-item:last-child::after {align-self: flex-start;width: 50%;}#sk-container-id-1 div.sk-parallel-item:only-child::after {width: 0;}#sk-container-id-1 div.sk-dashed-wrapped {border: 1px dashed gray;margin: 0 0.4em 0.5em 0.4em;box-sizing: border-box;padding-bottom: 0.4em;background-color: white;}#sk-container-id-1 div.sk-label label {font-family: monospace;font-weight: bold;display: inline-block;line-height: 1.2em;}#sk-container-id-1 div.sk-label-container {text-align: center;}#sk-container-id-1 div.sk-container {/* jupyter's `normalize.less` sets `[hidden] { display: none; }` but bootstrap.min.css set `[hidden] { display: none !important; }` so we also need the `!important` here to be able to override the default hidden behavior on the sphinx rendered scikit-learn.org. See: https://github.com/scikit-learn/scikit-learn/issues/21755 */display: inline-block !important;position: relative;}#sk-container-id-1 div.sk-text-repr-fallback {display: none;}</style><div id=\"sk-container-id-1\" class=\"sk-top-container\"><div class=\"sk-text-repr-fallback\"><pre>Pipeline(steps=[(&#x27;columntransformer&#x27;,\n",
              "                 ColumnTransformer(remainder=&#x27;passthrough&#x27;,\n",
              "                                   transformers=[(&#x27;onehotencoder&#x27;,\n",
              "                                                  OneHotEncoder(drop=&#x27;first&#x27;),\n",
              "                                                  [&#x27;department&#x27;,\n",
              "                                                   &#x27;filed_complaint&#x27;,\n",
              "                                                   &#x27;recently_promoted&#x27;,\n",
              "                                                   &#x27;salary&#x27;]),\n",
              "                                                 (&#x27;robustscaler&#x27;,\n",
              "                                                  RobustScaler(),\n",
              "                                                  [&#x27;tenure&#x27;, &#x27;last_evaluation&#x27;,\n",
              "                                                   &#x27;satisfaction&#x27;,\n",
              "                                                   &#x27;avg_monthly_hrs&#x27;,\n",
              "                                                   &#x27;n_projects&#x27;])])),\n",
              "                (&#x27;baggingclassifier&#x27;,\n",
              "                 BaggingClassifier(estimator=DecisionTreeClassifier(max_depth=8)))])</pre><b>In a Jupyter environment, please rerun this cell to show the HTML representation or trust the notebook. <br />On GitHub, the HTML representation is unable to render, please try loading this page with nbviewer.org.</b></div><div class=\"sk-container\" hidden><div class=\"sk-item sk-dashed-wrapped\"><div class=\"sk-label-container\"><div class=\"sk-label sk-toggleable\"><input class=\"sk-toggleable__control sk-hidden--visually\" id=\"sk-estimator-id-1\" type=\"checkbox\" ><label for=\"sk-estimator-id-1\" class=\"sk-toggleable__label sk-toggleable__label-arrow\">Pipeline</label><div class=\"sk-toggleable__content\"><pre>Pipeline(steps=[(&#x27;columntransformer&#x27;,\n",
              "                 ColumnTransformer(remainder=&#x27;passthrough&#x27;,\n",
              "                                   transformers=[(&#x27;onehotencoder&#x27;,\n",
              "                                                  OneHotEncoder(drop=&#x27;first&#x27;),\n",
              "                                                  [&#x27;department&#x27;,\n",
              "                                                   &#x27;filed_complaint&#x27;,\n",
              "                                                   &#x27;recently_promoted&#x27;,\n",
              "                                                   &#x27;salary&#x27;]),\n",
              "                                                 (&#x27;robustscaler&#x27;,\n",
              "                                                  RobustScaler(),\n",
              "                                                  [&#x27;tenure&#x27;, &#x27;last_evaluation&#x27;,\n",
              "                                                   &#x27;satisfaction&#x27;,\n",
              "                                                   &#x27;avg_monthly_hrs&#x27;,\n",
              "                                                   &#x27;n_projects&#x27;])])),\n",
              "                (&#x27;baggingclassifier&#x27;,\n",
              "                 BaggingClassifier(estimator=DecisionTreeClassifier(max_depth=8)))])</pre></div></div></div><div class=\"sk-serial\"><div class=\"sk-item sk-dashed-wrapped\"><div class=\"sk-label-container\"><div class=\"sk-label sk-toggleable\"><input class=\"sk-toggleable__control sk-hidden--visually\" id=\"sk-estimator-id-2\" type=\"checkbox\" ><label for=\"sk-estimator-id-2\" class=\"sk-toggleable__label sk-toggleable__label-arrow\">columntransformer: ColumnTransformer</label><div class=\"sk-toggleable__content\"><pre>ColumnTransformer(remainder=&#x27;passthrough&#x27;,\n",
              "                  transformers=[(&#x27;onehotencoder&#x27;, OneHotEncoder(drop=&#x27;first&#x27;),\n",
              "                                 [&#x27;department&#x27;, &#x27;filed_complaint&#x27;,\n",
              "                                  &#x27;recently_promoted&#x27;, &#x27;salary&#x27;]),\n",
              "                                (&#x27;robustscaler&#x27;, RobustScaler(),\n",
              "                                 [&#x27;tenure&#x27;, &#x27;last_evaluation&#x27;, &#x27;satisfaction&#x27;,\n",
              "                                  &#x27;avg_monthly_hrs&#x27;, &#x27;n_projects&#x27;])])</pre></div></div></div><div class=\"sk-parallel\"><div class=\"sk-parallel-item\"><div class=\"sk-item\"><div class=\"sk-label-container\"><div class=\"sk-label sk-toggleable\"><input class=\"sk-toggleable__control sk-hidden--visually\" id=\"sk-estimator-id-3\" type=\"checkbox\" ><label for=\"sk-estimator-id-3\" class=\"sk-toggleable__label sk-toggleable__label-arrow\">onehotencoder</label><div class=\"sk-toggleable__content\"><pre>[&#x27;department&#x27;, &#x27;filed_complaint&#x27;, &#x27;recently_promoted&#x27;, &#x27;salary&#x27;]</pre></div></div></div><div class=\"sk-serial\"><div class=\"sk-item\"><div class=\"sk-estimator sk-toggleable\"><input class=\"sk-toggleable__control sk-hidden--visually\" id=\"sk-estimator-id-4\" type=\"checkbox\" ><label for=\"sk-estimator-id-4\" class=\"sk-toggleable__label sk-toggleable__label-arrow\">OneHotEncoder</label><div class=\"sk-toggleable__content\"><pre>OneHotEncoder(drop=&#x27;first&#x27;)</pre></div></div></div></div></div></div><div class=\"sk-parallel-item\"><div class=\"sk-item\"><div class=\"sk-label-container\"><div class=\"sk-label sk-toggleable\"><input class=\"sk-toggleable__control sk-hidden--visually\" id=\"sk-estimator-id-5\" type=\"checkbox\" ><label for=\"sk-estimator-id-5\" class=\"sk-toggleable__label sk-toggleable__label-arrow\">robustscaler</label><div class=\"sk-toggleable__content\"><pre>[&#x27;tenure&#x27;, &#x27;last_evaluation&#x27;, &#x27;satisfaction&#x27;, &#x27;avg_monthly_hrs&#x27;, &#x27;n_projects&#x27;]</pre></div></div></div><div class=\"sk-serial\"><div class=\"sk-item\"><div class=\"sk-estimator sk-toggleable\"><input class=\"sk-toggleable__control sk-hidden--visually\" id=\"sk-estimator-id-6\" type=\"checkbox\" ><label for=\"sk-estimator-id-6\" class=\"sk-toggleable__label sk-toggleable__label-arrow\">RobustScaler</label><div class=\"sk-toggleable__content\"><pre>RobustScaler()</pre></div></div></div></div></div></div><div class=\"sk-parallel-item\"><div class=\"sk-item\"><div class=\"sk-label-container\"><div class=\"sk-label sk-toggleable\"><input class=\"sk-toggleable__control sk-hidden--visually\" id=\"sk-estimator-id-7\" type=\"checkbox\" ><label for=\"sk-estimator-id-7\" class=\"sk-toggleable__label sk-toggleable__label-arrow\">remainder</label><div class=\"sk-toggleable__content\"><pre>[]</pre></div></div></div><div class=\"sk-serial\"><div class=\"sk-item\"><div class=\"sk-estimator sk-toggleable\"><input class=\"sk-toggleable__control sk-hidden--visually\" id=\"sk-estimator-id-8\" type=\"checkbox\" ><label for=\"sk-estimator-id-8\" class=\"sk-toggleable__label sk-toggleable__label-arrow\">passthrough</label><div class=\"sk-toggleable__content\"><pre>passthrough</pre></div></div></div></div></div></div></div></div><div class=\"sk-item sk-dashed-wrapped\"><div class=\"sk-label-container\"><div class=\"sk-label sk-toggleable\"><input class=\"sk-toggleable__control sk-hidden--visually\" id=\"sk-estimator-id-9\" type=\"checkbox\" ><label for=\"sk-estimator-id-9\" class=\"sk-toggleable__label sk-toggleable__label-arrow\">baggingclassifier: BaggingClassifier</label><div class=\"sk-toggleable__content\"><pre>BaggingClassifier(estimator=DecisionTreeClassifier(max_depth=8))</pre></div></div></div><div class=\"sk-parallel\"><div class=\"sk-parallel-item\"><div class=\"sk-item\"><div class=\"sk-label-container\"><div class=\"sk-label sk-toggleable\"><input class=\"sk-toggleable__control sk-hidden--visually\" id=\"sk-estimator-id-10\" type=\"checkbox\" ><label for=\"sk-estimator-id-10\" class=\"sk-toggleable__label sk-toggleable__label-arrow\">estimator: DecisionTreeClassifier</label><div class=\"sk-toggleable__content\"><pre>DecisionTreeClassifier(max_depth=8)</pre></div></div></div><div class=\"sk-serial\"><div class=\"sk-item\"><div class=\"sk-estimator sk-toggleable\"><input class=\"sk-toggleable__control sk-hidden--visually\" id=\"sk-estimator-id-11\" type=\"checkbox\" ><label for=\"sk-estimator-id-11\" class=\"sk-toggleable__label sk-toggleable__label-arrow\">DecisionTreeClassifier</label><div class=\"sk-toggleable__content\"><pre>DecisionTreeClassifier(max_depth=8)</pre></div></div></div></div></div></div></div></div></div></div></div></div>"
            ]
          },
          "metadata": {},
          "execution_count": 56
        }
      ]
    },
    {
      "cell_type": "markdown",
      "source": [
        "# **9. Dump Model using Pickle**"
      ],
      "metadata": {
        "id": "e-4tOEzl4qWK"
      }
    },
    {
      "cell_type": "code",
      "source": [
        "import pickle\n",
        "print(pipe)\n",
        "##dump the model into a file\n",
        "with open(\"/content/drive/MyDrive/Colab Notebooks/ModelBin/empExit_model.pkl\", 'wb') as f_out:\n",
        "    pickle.dump(pipe, f_out) # write final_model in .bin file\n",
        "    f_out.close()  # close the file "
      ],
      "metadata": {
        "id": "tiJYJrVV4ugq",
        "colab": {
          "base_uri": "https://localhost:8080/"
        },
        "outputId": "517afc32-6b5a-4750-9372-5688e852b647"
      },
      "execution_count": 57,
      "outputs": [
        {
          "output_type": "stream",
          "name": "stdout",
          "text": [
            "Pipeline(steps=[('columntransformer',\n",
            "                 ColumnTransformer(remainder='passthrough',\n",
            "                                   transformers=[('onehotencoder',\n",
            "                                                  OneHotEncoder(drop='first'),\n",
            "                                                  ['department',\n",
            "                                                   'filed_complaint',\n",
            "                                                   'recently_promoted',\n",
            "                                                   'salary']),\n",
            "                                                 ('robustscaler',\n",
            "                                                  RobustScaler(),\n",
            "                                                  ['tenure', 'last_evaluation',\n",
            "                                                   'satisfaction',\n",
            "                                                   'avg_monthly_hrs',\n",
            "                                                   'n_projects'])])),\n",
            "                ('baggingclassifier',\n",
            "                 BaggingClassifier(estimator=DecisionTreeClassifier(max_depth=8)))])\n"
          ]
        }
      ]
    },
    {
      "cell_type": "markdown",
      "source": [
        "# **10. Load Model using Pickle and Predict Output**"
      ],
      "metadata": {
        "id": "iEX3FkoeSWps"
      }
    },
    {
      "cell_type": "code",
      "source": [
        "##loading the model from the saved file\n",
        "\n",
        "with open('/content/drive/MyDrive/Colab Notebooks/ModelBin/empExit_model.pkl', 'rb') as f_in:\n",
        "    model = pickle.load(f_in)\n",
        "\n",
        "##Predict\n",
        "dataValidation_pred=model.predict(dataValidation)\n",
        "\n",
        "print(dataValidation_pred)\n",
        "submission = pd.DataFrame({'Id':empId,'Exit_pred':dataValidation_pred})\n",
        "from google.colab import files\n",
        "submission.to_csv('submission.csv', encoding = 'utf-8-sig',index=False,header=False) \n",
        "files.download('submission.csv')"
      ],
      "metadata": {
        "id": "R8F-jPLG9O9k",
        "colab": {
          "base_uri": "https://localhost:8080/",
          "height": 69
        },
        "outputId": "51409d17-6582-437d-c222-09d98e8640df"
      },
      "execution_count": 58,
      "outputs": [
        {
          "output_type": "stream",
          "name": "stdout",
          "text": [
            "[1 0 1 0 1 0 0 0 0 0 0 1 1 0 0 0 1 0 0 0 1 1 0 0 1 0 0 0 1 0 0 0 0 0 0 0 0\n",
            " 1 0 0 1 1 0 0 0 0 1 0 0 0 0 0 0 0 0 0 0 0 0 1 0 1 1 0 1 1 0 1 0 1 0 0 0 0\n",
            " 1 1 0 0 0 0 1 1 0 1 0 0 0 0 0 0 1 1 0 1 1 0 0 0 0 0]\n"
          ]
        },
        {
          "output_type": "display_data",
          "data": {
            "text/plain": [
              "<IPython.core.display.Javascript object>"
            ],
            "application/javascript": [
              "\n",
              "    async function download(id, filename, size) {\n",
              "      if (!google.colab.kernel.accessAllowed) {\n",
              "        return;\n",
              "      }\n",
              "      const div = document.createElement('div');\n",
              "      const label = document.createElement('label');\n",
              "      label.textContent = `Downloading \"${filename}\": `;\n",
              "      div.appendChild(label);\n",
              "      const progress = document.createElement('progress');\n",
              "      progress.max = size;\n",
              "      div.appendChild(progress);\n",
              "      document.body.appendChild(div);\n",
              "\n",
              "      const buffers = [];\n",
              "      let downloaded = 0;\n",
              "\n",
              "      const channel = await google.colab.kernel.comms.open(id);\n",
              "      // Send a message to notify the kernel that we're ready.\n",
              "      channel.send({})\n",
              "\n",
              "      for await (const message of channel.messages) {\n",
              "        // Send a message to notify the kernel that we're ready.\n",
              "        channel.send({})\n",
              "        if (message.buffers) {\n",
              "          for (const buffer of message.buffers) {\n",
              "            buffers.push(buffer);\n",
              "            downloaded += buffer.byteLength;\n",
              "            progress.value = downloaded;\n",
              "          }\n",
              "        }\n",
              "      }\n",
              "      const blob = new Blob(buffers, {type: 'application/binary'});\n",
              "      const a = document.createElement('a');\n",
              "      a.href = window.URL.createObjectURL(blob);\n",
              "      a.download = filename;\n",
              "      div.appendChild(a);\n",
              "      a.click();\n",
              "      div.remove();\n",
              "    }\n",
              "  "
            ]
          },
          "metadata": {}
        },
        {
          "output_type": "display_data",
          "data": {
            "text/plain": [
              "<IPython.core.display.Javascript object>"
            ],
            "application/javascript": [
              "download(\"download_1869c630-72b7-4f34-92b2-9ad8e720ed95\", \"submission.csv\", 903)"
            ]
          },
          "metadata": {}
        }
      ]
    }
  ],
  "metadata": {
    "colab": {
      "provenance": [],
      "toc_visible": true,
      "mount_file_id": "1O444HC6FcJ41fBDR_2HwesM0hRy7jQsu",
      "authorship_tag": "ABX9TyMbFwq2q20DkHMKwu3k6jLX",
      "include_colab_link": true
    },
    "kernelspec": {
      "display_name": "Python 3",
      "name": "python3"
    },
    "language_info": {
      "name": "python"
    },
    "accelerator": "GPU",
    "gpuClass": "standard"
  },
  "nbformat": 4,
  "nbformat_minor": 0
}